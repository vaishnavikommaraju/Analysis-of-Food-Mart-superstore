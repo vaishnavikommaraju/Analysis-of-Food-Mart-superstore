{
 "cells": [],
 "metadata": {
  "environment": {
   "name": "common-cpu.m76",
   "type": "gcloud",
   "uri": "gcr.io/deeplearning-platform-release/base-cpu:m76"
  }
 },
 "nbformat": 4,
 "nbformat_minor": 5
}
