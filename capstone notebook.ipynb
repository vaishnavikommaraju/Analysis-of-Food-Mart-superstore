{
 "cells": [
  {
   "cell_type": "markdown",
   "id": "fa8c4d6b",
   "metadata": {},
   "source": [
    "# Analysis of consumer preferences and store specific attributes to predict customer loyalty and store profitability. \n",
    "\n",
    "\n",
    "# A case study of Foodmart"
   ]
  },
  {
   "cell_type": "markdown",
   "id": "a250e3c0",
   "metadata": {},
   "source": [
    "## Introduction:\n",
    "\n",
    "As digital marketing and data science continue to thrive symbiotically, a lot of businesses concentrate on cross selling and upselling. In this scenario, the key challenge is to understand the association between different item sets purchased together and the combination of goods bought most frequently. One such machine learning technique which helps the retailers understand the relationships between products is called “Market Basket Analysis”. In other words, this technique helps the retailers to recognize patterns and intricacies between different products that the individuals purchase. As massive amounts of purchase data and consumer transaction data are stored digitally, it is important for organizations to convert this digital data into business insights to help strategic decision making and marketing. For example, if a retailer has prior knowledge that a consumer who purchases beer is likely to purchase diapers, they might place these products in close proximity to each other, cross sell such products or upsell.\n",
    "\n",
    "In addition to that, it is also important to identify the most loyal customers and churning customers, so that appropriate marketing strategies would enhance consumer spending of loyal customers and aid in the conversion of churning customers into loyal customers.\n"
   ]
  },
  {
   "cell_type": "markdown",
   "id": "0c0b562a",
   "metadata": {},
   "source": [
    "## Objectives of this study:\n",
    "\n",
    "The following are the objectives of this project:\n",
    "\n",
    "1.\tTo understand and present an overview of the Supermarket business at Foodmart.\n",
    "2.\tTo identify the most frequently bought item sets.\n",
    "3.\tTo identify the high value loyal customers for the store.\n",
    "4.\tTo identify groups of customers with similar attributes.\n",
    "5.\tTo devise efficient market strategies for conversion of churning out customers into Platinum and Gold customers.\n",
    "6.\tTo design marketing strategies to improve profit margins for the superstore.\n"
   ]
  },
  {
   "cell_type": "markdown",
   "id": "ab6ff618",
   "metadata": {},
   "source": [
    "## Data:\n",
    "\n",
    "Food Mart data has been used for the purpose of this project, which is available open source. This dataset consists of above 200,000 transactions and 75 features (before data cleaning). This provides a perfect base to apply different machine learning techniques to get a comprehensive idea of consumer buying behavior in supermarkets."
   ]
  },
  {
   "cell_type": "markdown",
   "id": "01aabb16",
   "metadata": {},
   "source": [
    "### The dataset used for this study consists of the following information over the 1996 to 1998.\n",
    "1.\tProduct specific features: Product name, packaging, brand names, category, subcategory, department, gross weight, net weight, etc.\n",
    "2.\tStore specific attributes: Store sales, store cost, unit sales, store province, store city, store district, store area, meat area, frozen area, coffee bar, salad bar, prepared food, store type, video store, etc.\n",
    "3.\tCustomer specific attributes: Income, Gender, education, occupation, homeowner, number of cars, number of children, city, province, etc.\n"
   ]
  },
  {
   "cell_type": "markdown",
   "id": "971a253a",
   "metadata": {},
   "source": [
    "### We will look into these variables in detail in our subsequent discussion."
   ]
  },
  {
   "cell_type": "markdown",
   "id": "f1250f88",
   "metadata": {},
   "source": [
    "## Organisation:\n",
    "\n",
    "The analysis presented in this study is divided into **six** sections:\n",
    "\n",
    "\n",
    "#### Section 1:\n",
    "\n",
    "**Exploratory Data Analysis** \n",
    "\n",
    "How does the business look like? What are the key insights?\n",
    "\n",
    "#### Section 2:\n",
    "\n",
    "**Market Based Analysis** \n",
    "\n",
    "Applying Apriori and FPGrowth algorithms to group frequently bought item sets.\n",
    "\n",
    "\n",
    "#### Section 3:\n",
    "\n",
    "**RFM Analysis** \n",
    "\n",
    "Identifying the high value and churning customers based on Recency of Purchase, Frequency of purchase and dollar value of purchase.\n",
    "\n",
    "\n",
    "\n",
    "\n",
    "#### Section 4:\n",
    "\n",
    "\n",
    "**K-Means Clustering** \n",
    "\n",
    "Identifying clusters of customers with similar attributes.\n",
    "\n",
    "\n",
    "#### Section 5:\n",
    "\n",
    "**RFM Modeling** \n",
    "\n",
    "Predicting the RFM Loyalty level of customers using Machine Learning Techniques.\n",
    "\n",
    "\n",
    "#### Section 6:\n",
    "\n",
    "**Modeling profit margin levels** \n",
    "\n",
    "Predicting Profit margin levels of Food Mart using Machine Learning Techniques."
   ]
  },
  {
   "cell_type": "markdown",
   "id": "90b888e0",
   "metadata": {},
   "source": [
    "### Each section as indicated above will be discussed in the order detailed above."
   ]
  },
  {
   "cell_type": "markdown",
   "id": "0439bb3b",
   "metadata": {},
   "source": [
    "### Preliminaries:\n",
    "\n",
    "Before we start analysing the data, we need to first import the dataset into Python. My data is stored in Google Cloud Storage. I used Google AI Notebook for modeling purpose. Hence we need to connect the Google AI Notebook to Google Cloud Storage and fetch data from there in the form of a Pandas dataframe."
   ]
  },
  {
   "cell_type": "markdown",
   "id": "877b3193",
   "metadata": {},
   "source": [
    "#### In order to achieve this, we need to follow the following procedure:\n",
    "\n",
    "1. For this, I first created an AI Notebook instance and chose Python Jupyter Notebook in this instance.\n",
    "\n",
    "2. Import google cloud storage into python on your AI Notebook. \n",
    "\n",
    "### The datafile used for analysis has been shared along with this notebook as part of the deliverable."
   ]
  },
  {
   "attachments": {
    "image.png": {
     "image/png": "[encoded data removed]"
    }
   },
   "cell_type": "markdown",
   "id": "32d031c8",
   "metadata": {},
   "source": [
    "The snapshot below indicate the notebook instance that I have created on Google Cloud platform.\n",
    "\n",
    "\n",
    "![image.png](attachment:image.png)\n",
    "\n",
    "\n",
    "\n",
    "\n"
   ]
  },
  {
   "cell_type": "markdown",
   "id": "347008d3",
   "metadata": {},
   "source": [
    "### Getting data from Google Cloud storage to Google AI Notebook."
   ]
  },
  {
   "cell_type": "markdown",
   "id": "76560ea0",
   "metadata": {},
   "source": [
    "**We first install google cloud storage on our Python Notebook. We then access the bucket from google cloud storage where the data is stored by specifying the name of the bucket. In our case, the name of the bucket is `foodmart_dataset`.**"
   ]
  },
  {
   "cell_type": "code",
   "execution_count": 147,
   "id": "0f172c78",
   "metadata": {},
   "outputs": [
    {
     "name": "stdout",
     "output_type": "stream",
     "text": [
      "Requirement already satisfied: google-cloud-storage in /opt/conda/lib/python3.7/site-packages (1.42.0)\n",
      "Requirement already satisfied: google-auth<3.0dev,>=1.25.0 in /opt/conda/lib/python3.7/site-packages (from google-cloud-storage) (1.34.0)\n",
      "Requirement already satisfied: google-cloud-core<3.0dev,>=1.6.0 in /opt/conda/lib/python3.7/site-packages (from google-cloud-storage) (1.7.2)\n",
      "Requirement already satisfied: google-api-core<3.0dev,>=1.29.0 in /opt/conda/lib/python3.7/site-packages (from google-cloud-storage) (1.31.1)\n",
      "Requirement already satisfied: requests<3.0.0dev,>=2.18.0 in /opt/conda/lib/python3.7/site-packages (from google-cloud-storage) (2.25.1)\n",
      "Requirement already satisfied: google-resumable-media<3.0dev,>=1.3.0 in /opt/conda/lib/python3.7/site-packages (from google-cloud-storage) (1.3.3)\n",
      "Requirement already satisfied: setuptools>=40.3.0 in /opt/conda/lib/python3.7/site-packages (from google-api-core<3.0dev,>=1.29.0->google-cloud-storage) (57.4.0)\n",
      "Requirement already satisfied: protobuf>=3.12.0 in /opt/conda/lib/python3.7/site-packages (from google-api-core<3.0dev,>=1.29.0->google-cloud-storage) (3.16.0)\n",
      "Requirement already satisfied: packaging>=14.3 in /opt/conda/lib/python3.7/site-packages (from google-api-core<3.0dev,>=1.29.0->google-cloud-storage) (21.0)\n",
      "Requirement already satisfied: six>=1.13.0 in /opt/conda/lib/python3.7/site-packages (from google-api-core<3.0dev,>=1.29.0->google-cloud-storage) (1.16.0)\n",
      "Requirement already satisfied: pytz in /opt/conda/lib/python3.7/site-packages (from google-api-core<3.0dev,>=1.29.0->google-cloud-storage) (2021.1)\n",
      "Requirement already satisfied: googleapis-common-protos<2.0dev,>=1.6.0 in /opt/conda/lib/python3.7/site-packages (from google-api-core<3.0dev,>=1.29.0->google-cloud-storage) (1.53.0)\n",
      "Requirement already satisfied: cachetools<5.0,>=2.0.0 in /opt/conda/lib/python3.7/site-packages (from google-auth<3.0dev,>=1.25.0->google-cloud-storage) (4.2.2)\n",
      "Requirement already satisfied: rsa<5,>=3.1.4 in /opt/conda/lib/python3.7/site-packages (from google-auth<3.0dev,>=1.25.0->google-cloud-storage) (4.7.2)\n",
      "Requirement already satisfied: pyasn1-modules>=0.2.1 in /opt/conda/lib/python3.7/site-packages (from google-auth<3.0dev,>=1.25.0->google-cloud-storage) (0.2.7)\n",
      "Requirement already satisfied: google-crc32c<2.0dev,>=1.0 in /opt/conda/lib/python3.7/site-packages (from google-resumable-media<3.0dev,>=1.3.0->google-cloud-storage) (1.1.2)\n",
      "Requirement already satisfied: cffi>=1.0.0 in /opt/conda/lib/python3.7/site-packages (from google-crc32c<2.0dev,>=1.0->google-resumable-media<3.0dev,>=1.3.0->google-cloud-storage) (1.14.6)\n",
      "Requirement already satisfied: pycparser in /opt/conda/lib/python3.7/site-packages (from cffi>=1.0.0->google-crc32c<2.0dev,>=1.0->google-resumable-media<3.0dev,>=1.3.0->google-cloud-storage) (2.20)\n",
      "Requirement already satisfied: pyparsing>=2.0.2 in /opt/conda/lib/python3.7/site-packages (from packaging>=14.3->google-api-core<3.0dev,>=1.29.0->google-cloud-storage) (2.4.7)\n",
      "Requirement already satisfied: pyasn1<0.5.0,>=0.4.6 in /opt/conda/lib/python3.7/site-packages (from pyasn1-modules>=0.2.1->google-auth<3.0dev,>=1.25.0->google-cloud-storage) (0.4.8)\n",
      "Requirement already satisfied: chardet<5,>=3.0.2 in /opt/conda/lib/python3.7/site-packages (from requests<3.0.0dev,>=2.18.0->google-cloud-storage) (4.0.0)\n",
      "Requirement already satisfied: urllib3<1.27,>=1.21.1 in /opt/conda/lib/python3.7/site-packages (from requests<3.0.0dev,>=2.18.0->google-cloud-storage) (1.26.6)\n",
      "Requirement already satisfied: idna<3,>=2.5 in /opt/conda/lib/python3.7/site-packages (from requests<3.0.0dev,>=2.18.0->google-cloud-storage) (2.10)\n",
      "Requirement already satisfied: certifi>=2017.4.17 in /opt/conda/lib/python3.7/site-packages (from requests<3.0.0dev,>=2.18.0->google-cloud-storage) (2021.5.30)\n"
     ]
    }
   ],
   "source": [
    "!pip install google-cloud-storage"
   ]
  },
  {
   "cell_type": "code",
   "execution_count": 148,
   "id": "e3c5c5fe",
   "metadata": {},
   "outputs": [],
   "source": [
    "# Importing storage libraries from google cloud.\n",
    "\n",
    "from google.cloud import storage\n",
    "client = storage.Client()"
   ]
  },
  {
   "cell_type": "code",
   "execution_count": 149,
   "id": "86233d01",
   "metadata": {},
   "outputs": [],
   "source": [
    "# Specify the name of the bucket.\n",
    "\n",
    "bucket = client.get_bucket(\"foodmart_dataset\")"
   ]
  },
  {
   "cell_type": "markdown",
   "id": "bbe23075",
   "metadata": {},
   "source": [
    "#### Once you  specify the name of the bucket, copy the commands below to get the dataset from your bucket in the form of a pandas dataframe."
   ]
  },
  {
   "cell_type": "code",
   "execution_count": 150,
   "id": "754516af",
   "metadata": {},
   "outputs": [],
   "source": [
    "blob = bucket.get_blob(f\"Foodmart_dataset.csv\")"
   ]
  },
  {
   "cell_type": "code",
   "execution_count": 151,
   "id": "354d68ea",
   "metadata": {},
   "outputs": [],
   "source": [
    "bt = blob.download_as_string()"
   ]
  },
  {
   "cell_type": "code",
   "execution_count": 152,
   "id": "657f7b7c",
   "metadata": {},
   "outputs": [],
   "source": [
    "# Transform bytes to string\n",
    "from io import StringIO\n",
    "s = str(bt,\"utf-8\")\n",
    "s = StringIO(s)\n"
   ]
  },
  {
   "cell_type": "code",
   "execution_count": 153,
   "id": "a80457ca",
   "metadata": {},
   "outputs": [],
   "source": [
    "import pandas as pd"
   ]
  },
  {
   "cell_type": "code",
   "execution_count": 154,
   "id": "cc434188",
   "metadata": {},
   "outputs": [],
   "source": [
    "# Reading data in the form of a pandas dataframe.\n",
    "df = pd.read_csv(s)\n"
   ]
  },
  {
   "cell_type": "markdown",
   "id": "a11cf061",
   "metadata": {},
   "source": [
    "### We have another dataset called `promotion` in our bucket. We use the same set of code shown above to get the promotion data into our python notebook in the form of a pandas dataframe. This is shown below:"
   ]
  },
  {
   "cell_type": "code",
   "execution_count": 155,
   "id": "0a789f7b",
   "metadata": {},
   "outputs": [],
   "source": [
    "blob1 = bucket.get_blob(f\"promotion.csv\")\n",
    "bt1 = blob1.download_as_string()\n",
    "# Transform bytes to string\n",
    "from io import StringIO\n",
    "s1 = str(bt1,\"utf-8\")\n",
    "s1 = StringIO(s1)\n",
    "promotion = pd.read_csv(s1)"
   ]
  },
  {
   "cell_type": "markdown",
   "id": "3b9b921c",
   "metadata": {},
   "source": [
    "#### We now have the following two datasets in our notebook available for analysis:\n",
    "\n",
    "1. Food Mart dataset (CSV)\n",
    "\n",
    "2. Promotion dataset (CSV)\n",
    "\n",
    "\n",
    "\n",
    "\n",
    "\n",
    "#### We are now ready to start Section 1 of our analysis:"
   ]
  },
  {
   "cell_type": "markdown",
   "id": "767fdd8e",
   "metadata": {},
   "source": [
    "# Section 1: Exploratory Data Analysis"
   ]
  },
  {
   "cell_type": "markdown",
   "id": "812ae863",
   "metadata": {},
   "source": [
    "We first look into the columns/variable names of our dataset."
   ]
  },
  {
   "cell_type": "code",
   "execution_count": 156,
   "id": "9f445284",
   "metadata": {},
   "outputs": [
    {
     "data": {
      "text/html": [
       "<div>\n",
       "<style scoped>\n",
       "    .dataframe tbody tr th:only-of-type {\n",
       "        vertical-align: middle;\n",
       "    }\n",
       "\n",
       "    .dataframe tbody tr th {\n",
       "        vertical-align: top;\n",
       "    }\n",
       "\n",
       "    .dataframe thead th {\n",
       "        text-align: right;\n",
       "    }\n",
       "</style>\n",
       "<table border=\"1\" class=\"dataframe\">\n",
       "  <thead>\n",
       "    <tr style=\"text-align: right;\">\n",
       "      <th></th>\n",
       "      <th>promotion_id</th>\n",
       "      <th>promotion_district_id</th>\n",
       "      <th>promotion_name</th>\n",
       "      <th>media_type</th>\n",
       "      <th>cost</th>\n",
       "      <th>start_date</th>\n",
       "      <th>end_date</th>\n",
       "    </tr>\n",
       "  </thead>\n",
       "  <tbody>\n",
       "    <tr>\n",
       "      <th>0</th>\n",
       "      <td>1</td>\n",
       "      <td>110</td>\n",
       "      <td>High Roller Savings</td>\n",
       "      <td>Product Attachment</td>\n",
       "      <td>14435</td>\n",
       "      <td>1996-01-03</td>\n",
       "      <td>1996-01-06</td>\n",
       "    </tr>\n",
       "  </tbody>\n",
       "</table>\n",
       "</div>"
      ],
      "text/plain": [
       "   promotion_id  promotion_district_id       promotion_name  \\\n",
       "0             1                    110  High Roller Savings   \n",
       "\n",
       "           media_type   cost  start_date    end_date  \n",
       "0  Product Attachment  14435  1996-01-03  1996-01-06  "
      ]
     },
     "execution_count": 156,
     "metadata": {},
     "output_type": "execute_result"
    }
   ],
   "source": [
    "promotion.head(1)"
   ]
  },
  {
   "cell_type": "code",
   "execution_count": 157,
   "id": "ed78f241",
   "metadata": {},
   "outputs": [
    {
     "data": {
      "text/html": [
       "<div>\n",
       "<style scoped>\n",
       "    .dataframe tbody tr th:only-of-type {\n",
       "        vertical-align: middle;\n",
       "    }\n",
       "\n",
       "    .dataframe tbody tr th {\n",
       "        vertical-align: top;\n",
       "    }\n",
       "\n",
       "    .dataframe thead th {\n",
       "        text-align: right;\n",
       "    }\n",
       "</style>\n",
       "<table border=\"1\" class=\"dataframe\">\n",
       "  <thead>\n",
       "    <tr style=\"text-align: right;\">\n",
       "      <th></th>\n",
       "      <th>Unnamed: 0</th>\n",
       "      <th>product_id</th>\n",
       "      <th>time_id</th>\n",
       "      <th>customer_id</th>\n",
       "      <th>store_id</th>\n",
       "      <th>store_sales</th>\n",
       "      <th>store_cost</th>\n",
       "      <th>unit_sales</th>\n",
       "      <th>city</th>\n",
       "      <th>state_province</th>\n",
       "      <th>...</th>\n",
       "      <th>sales_district</th>\n",
       "      <th>sales_region</th>\n",
       "      <th>sales_country</th>\n",
       "      <th>sales_district_id</th>\n",
       "      <th>the_date</th>\n",
       "      <th>the_day</th>\n",
       "      <th>the_year</th>\n",
       "      <th>the_month</th>\n",
       "      <th>day_of_month</th>\n",
       "      <th>day_since_epoch</th>\n",
       "    </tr>\n",
       "  </thead>\n",
       "  <tbody>\n",
       "    <tr>\n",
       "      <th>0</th>\n",
       "      <td>0</td>\n",
       "      <td>337</td>\n",
       "      <td>371</td>\n",
       "      <td>6280</td>\n",
       "      <td>2</td>\n",
       "      <td>1.5</td>\n",
       "      <td>0.51</td>\n",
       "      <td>2</td>\n",
       "      <td>Anacortes</td>\n",
       "      <td>WA</td>\n",
       "      <td>...</td>\n",
       "      <td>Bellingham</td>\n",
       "      <td>North West</td>\n",
       "      <td>USA</td>\n",
       "      <td>111</td>\n",
       "      <td>1997-01-05</td>\n",
       "      <td>Sunday</td>\n",
       "      <td>1997</td>\n",
       "      <td>1</td>\n",
       "      <td>5</td>\n",
       "      <td>33973</td>\n",
       "    </tr>\n",
       "  </tbody>\n",
       "</table>\n",
       "<p>1 rows × 75 columns</p>\n",
       "</div>"
      ],
      "text/plain": [
       "   Unnamed: 0  product_id  time_id  customer_id  store_id  store_sales  \\\n",
       "0           0         337      371         6280         2          1.5   \n",
       "\n",
       "   store_cost  unit_sales       city state_province  ... sales_district  \\\n",
       "0        0.51           2  Anacortes             WA  ...     Bellingham   \n",
       "\n",
       "   sales_region sales_country sales_district_id    the_date  the_day the_year  \\\n",
       "0    North West           USA               111  1997-01-05   Sunday     1997   \n",
       "\n",
       "  the_month day_of_month day_since_epoch  \n",
       "0         1            5           33973  \n",
       "\n",
       "[1 rows x 75 columns]"
      ]
     },
     "execution_count": 157,
     "metadata": {},
     "output_type": "execute_result"
    }
   ],
   "source": [
    "df.head(1)"
   ]
  },
  {
   "cell_type": "markdown",
   "id": "eeb25132",
   "metadata": {},
   "source": [
    "Next, we import all the required libraries into our Python Notebook."
   ]
  },
  {
   "cell_type": "code",
   "execution_count": 158,
   "id": "96d00dec",
   "metadata": {},
   "outputs": [
    {
     "name": "stdout",
     "output_type": "stream",
     "text": [
      "Requirement already satisfied: mlxtend in /opt/conda/lib/python3.7/site-packages (0.18.0)\n",
      "Requirement already satisfied: joblib>=0.13.2 in /opt/conda/lib/python3.7/site-packages (from mlxtend) (1.0.1)\n",
      "Requirement already satisfied: pandas>=0.24.2 in /opt/conda/lib/python3.7/site-packages (from mlxtend) (1.3.2)\n",
      "Requirement already satisfied: matplotlib>=3.0.0 in /opt/conda/lib/python3.7/site-packages (from mlxtend) (3.4.3)\n",
      "Requirement already satisfied: setuptools in /opt/conda/lib/python3.7/site-packages (from mlxtend) (57.4.0)\n",
      "Requirement already satisfied: scipy>=1.2.1 in /opt/conda/lib/python3.7/site-packages (from mlxtend) (1.7.1)\n",
      "Requirement already satisfied: scikit-learn>=0.20.3 in /opt/conda/lib/python3.7/site-packages (from mlxtend) (0.24.2)\n",
      "Requirement already satisfied: numpy>=1.16.2 in /opt/conda/lib/python3.7/site-packages (from mlxtend) (1.19.5)\n",
      "Requirement already satisfied: pyparsing>=2.2.1 in /opt/conda/lib/python3.7/site-packages (from matplotlib>=3.0.0->mlxtend) (2.4.7)\n",
      "Requirement already satisfied: kiwisolver>=1.0.1 in /opt/conda/lib/python3.7/site-packages (from matplotlib>=3.0.0->mlxtend) (1.3.1)\n",
      "Requirement already satisfied: cycler>=0.10 in /opt/conda/lib/python3.7/site-packages (from matplotlib>=3.0.0->mlxtend) (0.10.0)\n",
      "Requirement already satisfied: python-dateutil>=2.7 in /opt/conda/lib/python3.7/site-packages (from matplotlib>=3.0.0->mlxtend) (2.8.2)\n",
      "Requirement already satisfied: pillow>=6.2.0 in /opt/conda/lib/python3.7/site-packages (from matplotlib>=3.0.0->mlxtend) (8.3.1)\n",
      "Requirement already satisfied: six in /opt/conda/lib/python3.7/site-packages (from cycler>=0.10->matplotlib>=3.0.0->mlxtend) (1.16.0)\n",
      "Requirement already satisfied: pytz>=2017.3 in /opt/conda/lib/python3.7/site-packages (from pandas>=0.24.2->mlxtend) (2021.1)\n",
      "Requirement already satisfied: threadpoolctl>=2.0.0 in /opt/conda/lib/python3.7/site-packages (from scikit-learn>=0.20.3->mlxtend) (2.2.0)\n",
      "Note: you may need to restart the kernel to use updated packages.\n"
     ]
    }
   ],
   "source": [
    "%pip install mlxtend"
   ]
  },
  {
   "cell_type": "code",
   "execution_count": 159,
   "id": "643ee0c6",
   "metadata": {},
   "outputs": [],
   "source": [
    "from mlxtend.preprocessing import TransactionEncoder"
   ]
  },
  {
   "cell_type": "code",
   "execution_count": 160,
   "id": "f90f69d1",
   "metadata": {},
   "outputs": [],
   "source": [
    "import numpy as np \n",
    "import matplotlib.pyplot as plt \n",
    "import seaborn as sns \n",
    "import networkx as nx\n",
    "import warnings\n",
    "import matplotlib as mpl\n",
    "\n",
    "%matplotlib inline\n",
    "\n",
    "from mlxtend.frequent_patterns import apriori\n",
    "from mlxtend.frequent_patterns import association_rules"
   ]
  },
  {
   "cell_type": "code",
   "execution_count": 161,
   "id": "73ac08e8",
   "metadata": {},
   "outputs": [],
   "source": [
    "\n",
    "from sklearn.preprocessing import LabelEncoder"
   ]
  },
  {
   "cell_type": "markdown",
   "id": "704b1a87",
   "metadata": {},
   "source": [
    "Look into the shape of our foodmart dataset. We will primarily use this dataset for the purpose of analysis."
   ]
  },
  {
   "cell_type": "code",
   "execution_count": 162,
   "id": "c2310bd9",
   "metadata": {},
   "outputs": [
    {
     "data": {
      "text/plain": [
       "(269720, 75)"
      ]
     },
     "execution_count": 162,
     "metadata": {},
     "output_type": "execute_result"
    }
   ],
   "source": [
    "df.shape"
   ]
  },
  {
   "cell_type": "code",
   "execution_count": 163,
   "id": "fa345eb8",
   "metadata": {},
   "outputs": [
    {
     "data": {
      "text/html": [
       "<div>\n",
       "<style scoped>\n",
       "    .dataframe tbody tr th:only-of-type {\n",
       "        vertical-align: middle;\n",
       "    }\n",
       "\n",
       "    .dataframe tbody tr th {\n",
       "        vertical-align: top;\n",
       "    }\n",
       "\n",
       "    .dataframe thead th {\n",
       "        text-align: right;\n",
       "    }\n",
       "</style>\n",
       "<table border=\"1\" class=\"dataframe\">\n",
       "  <thead>\n",
       "    <tr style=\"text-align: right;\">\n",
       "      <th></th>\n",
       "      <th>Unnamed: 0</th>\n",
       "      <th>product_id</th>\n",
       "      <th>time_id</th>\n",
       "      <th>customer_id</th>\n",
       "      <th>store_id</th>\n",
       "      <th>store_sales</th>\n",
       "      <th>store_cost</th>\n",
       "      <th>unit_sales</th>\n",
       "      <th>city</th>\n",
       "      <th>state_province</th>\n",
       "      <th>...</th>\n",
       "      <th>sales_district</th>\n",
       "      <th>sales_region</th>\n",
       "      <th>sales_country</th>\n",
       "      <th>sales_district_id</th>\n",
       "      <th>the_date</th>\n",
       "      <th>the_day</th>\n",
       "      <th>the_year</th>\n",
       "      <th>the_month</th>\n",
       "      <th>day_of_month</th>\n",
       "      <th>day_since_epoch</th>\n",
       "    </tr>\n",
       "  </thead>\n",
       "  <tbody>\n",
       "    <tr>\n",
       "      <th>0</th>\n",
       "      <td>0</td>\n",
       "      <td>337</td>\n",
       "      <td>371</td>\n",
       "      <td>6280</td>\n",
       "      <td>2</td>\n",
       "      <td>1.50</td>\n",
       "      <td>0.5100</td>\n",
       "      <td>2</td>\n",
       "      <td>Anacortes</td>\n",
       "      <td>WA</td>\n",
       "      <td>...</td>\n",
       "      <td>Bellingham</td>\n",
       "      <td>North West</td>\n",
       "      <td>USA</td>\n",
       "      <td>111</td>\n",
       "      <td>1997-01-05</td>\n",
       "      <td>Sunday</td>\n",
       "      <td>1997</td>\n",
       "      <td>1</td>\n",
       "      <td>5</td>\n",
       "      <td>33973</td>\n",
       "    </tr>\n",
       "    <tr>\n",
       "      <th>1</th>\n",
       "      <td>1</td>\n",
       "      <td>963</td>\n",
       "      <td>371</td>\n",
       "      <td>4018</td>\n",
       "      <td>2</td>\n",
       "      <td>2.40</td>\n",
       "      <td>0.7200</td>\n",
       "      <td>1</td>\n",
       "      <td>Sedro Woolley</td>\n",
       "      <td>WA</td>\n",
       "      <td>...</td>\n",
       "      <td>Bellingham</td>\n",
       "      <td>North West</td>\n",
       "      <td>USA</td>\n",
       "      <td>111</td>\n",
       "      <td>1997-01-05</td>\n",
       "      <td>Sunday</td>\n",
       "      <td>1997</td>\n",
       "      <td>1</td>\n",
       "      <td>5</td>\n",
       "      <td>33973</td>\n",
       "    </tr>\n",
       "    <tr>\n",
       "      <th>2</th>\n",
       "      <td>2</td>\n",
       "      <td>1512</td>\n",
       "      <td>371</td>\n",
       "      <td>6280</td>\n",
       "      <td>2</td>\n",
       "      <td>1.62</td>\n",
       "      <td>0.6318</td>\n",
       "      <td>3</td>\n",
       "      <td>Anacortes</td>\n",
       "      <td>WA</td>\n",
       "      <td>...</td>\n",
       "      <td>Bellingham</td>\n",
       "      <td>North West</td>\n",
       "      <td>USA</td>\n",
       "      <td>111</td>\n",
       "      <td>1997-01-05</td>\n",
       "      <td>Sunday</td>\n",
       "      <td>1997</td>\n",
       "      <td>1</td>\n",
       "      <td>5</td>\n",
       "      <td>33973</td>\n",
       "    </tr>\n",
       "    <tr>\n",
       "      <th>3</th>\n",
       "      <td>3</td>\n",
       "      <td>181</td>\n",
       "      <td>371</td>\n",
       "      <td>4018</td>\n",
       "      <td>2</td>\n",
       "      <td>2.79</td>\n",
       "      <td>1.0323</td>\n",
       "      <td>3</td>\n",
       "      <td>Sedro Woolley</td>\n",
       "      <td>WA</td>\n",
       "      <td>...</td>\n",
       "      <td>Bellingham</td>\n",
       "      <td>North West</td>\n",
       "      <td>USA</td>\n",
       "      <td>111</td>\n",
       "      <td>1997-01-05</td>\n",
       "      <td>Sunday</td>\n",
       "      <td>1997</td>\n",
       "      <td>1</td>\n",
       "      <td>5</td>\n",
       "      <td>33973</td>\n",
       "    </tr>\n",
       "    <tr>\n",
       "      <th>4</th>\n",
       "      <td>4</td>\n",
       "      <td>483</td>\n",
       "      <td>371</td>\n",
       "      <td>4382</td>\n",
       "      <td>2</td>\n",
       "      <td>3.88</td>\n",
       "      <td>1.7072</td>\n",
       "      <td>2</td>\n",
       "      <td>Anacortes</td>\n",
       "      <td>WA</td>\n",
       "      <td>...</td>\n",
       "      <td>Bellingham</td>\n",
       "      <td>North West</td>\n",
       "      <td>USA</td>\n",
       "      <td>111</td>\n",
       "      <td>1997-01-05</td>\n",
       "      <td>Sunday</td>\n",
       "      <td>1997</td>\n",
       "      <td>1</td>\n",
       "      <td>5</td>\n",
       "      <td>33973</td>\n",
       "    </tr>\n",
       "    <tr>\n",
       "      <th>...</th>\n",
       "      <td>...</td>\n",
       "      <td>...</td>\n",
       "      <td>...</td>\n",
       "      <td>...</td>\n",
       "      <td>...</td>\n",
       "      <td>...</td>\n",
       "      <td>...</td>\n",
       "      <td>...</td>\n",
       "      <td>...</td>\n",
       "      <td>...</td>\n",
       "      <td>...</td>\n",
       "      <td>...</td>\n",
       "      <td>...</td>\n",
       "      <td>...</td>\n",
       "      <td>...</td>\n",
       "      <td>...</td>\n",
       "      <td>...</td>\n",
       "      <td>...</td>\n",
       "      <td>...</td>\n",
       "      <td>...</td>\n",
       "      <td>...</td>\n",
       "    </tr>\n",
       "    <tr>\n",
       "      <th>269715</th>\n",
       "      <td>269715</td>\n",
       "      <td>1529</td>\n",
       "      <td>786</td>\n",
       "      <td>433</td>\n",
       "      <td>20</td>\n",
       "      <td>9.81</td>\n",
       "      <td>3.3354</td>\n",
       "      <td>3</td>\n",
       "      <td>Oak Bay</td>\n",
       "      <td>BC</td>\n",
       "      <td>...</td>\n",
       "      <td>Victoria</td>\n",
       "      <td>Canada West</td>\n",
       "      <td>Canada</td>\n",
       "      <td>129</td>\n",
       "      <td>1998-02-24</td>\n",
       "      <td>Tuesday</td>\n",
       "      <td>1998</td>\n",
       "      <td>2</td>\n",
       "      <td>24</td>\n",
       "      <td>34388</td>\n",
       "    </tr>\n",
       "    <tr>\n",
       "      <th>269716</th>\n",
       "      <td>269716</td>\n",
       "      <td>1094</td>\n",
       "      <td>786</td>\n",
       "      <td>6094</td>\n",
       "      <td>20</td>\n",
       "      <td>7.54</td>\n",
       "      <td>3.4684</td>\n",
       "      <td>2</td>\n",
       "      <td>Sooke</td>\n",
       "      <td>BC</td>\n",
       "      <td>...</td>\n",
       "      <td>Victoria</td>\n",
       "      <td>Canada West</td>\n",
       "      <td>Canada</td>\n",
       "      <td>129</td>\n",
       "      <td>1998-02-24</td>\n",
       "      <td>Tuesday</td>\n",
       "      <td>1998</td>\n",
       "      <td>2</td>\n",
       "      <td>24</td>\n",
       "      <td>34388</td>\n",
       "    </tr>\n",
       "    <tr>\n",
       "      <th>269717</th>\n",
       "      <td>269717</td>\n",
       "      <td>467</td>\n",
       "      <td>786</td>\n",
       "      <td>5352</td>\n",
       "      <td>20</td>\n",
       "      <td>15.24</td>\n",
       "      <td>5.1816</td>\n",
       "      <td>4</td>\n",
       "      <td>Shawnee</td>\n",
       "      <td>BC</td>\n",
       "      <td>...</td>\n",
       "      <td>Victoria</td>\n",
       "      <td>Canada West</td>\n",
       "      <td>Canada</td>\n",
       "      <td>129</td>\n",
       "      <td>1998-02-24</td>\n",
       "      <td>Tuesday</td>\n",
       "      <td>1998</td>\n",
       "      <td>2</td>\n",
       "      <td>24</td>\n",
       "      <td>34388</td>\n",
       "    </tr>\n",
       "    <tr>\n",
       "      <th>269718</th>\n",
       "      <td>269718</td>\n",
       "      <td>656</td>\n",
       "      <td>786</td>\n",
       "      <td>3332</td>\n",
       "      <td>20</td>\n",
       "      <td>11.55</td>\n",
       "      <td>4.6200</td>\n",
       "      <td>3</td>\n",
       "      <td>Sooke</td>\n",
       "      <td>BC</td>\n",
       "      <td>...</td>\n",
       "      <td>Victoria</td>\n",
       "      <td>Canada West</td>\n",
       "      <td>Canada</td>\n",
       "      <td>129</td>\n",
       "      <td>1998-02-24</td>\n",
       "      <td>Tuesday</td>\n",
       "      <td>1998</td>\n",
       "      <td>2</td>\n",
       "      <td>24</td>\n",
       "      <td>34388</td>\n",
       "    </tr>\n",
       "    <tr>\n",
       "      <th>269719</th>\n",
       "      <td>269719</td>\n",
       "      <td>34</td>\n",
       "      <td>786</td>\n",
       "      <td>9114</td>\n",
       "      <td>20</td>\n",
       "      <td>8.45</td>\n",
       "      <td>2.6195</td>\n",
       "      <td>5</td>\n",
       "      <td>Metchosin</td>\n",
       "      <td>BC</td>\n",
       "      <td>...</td>\n",
       "      <td>Victoria</td>\n",
       "      <td>Canada West</td>\n",
       "      <td>Canada</td>\n",
       "      <td>129</td>\n",
       "      <td>1998-02-24</td>\n",
       "      <td>Tuesday</td>\n",
       "      <td>1998</td>\n",
       "      <td>2</td>\n",
       "      <td>24</td>\n",
       "      <td>34388</td>\n",
       "    </tr>\n",
       "  </tbody>\n",
       "</table>\n",
       "<p>269720 rows × 75 columns</p>\n",
       "</div>"
      ],
      "text/plain": [
       "        Unnamed: 0  product_id  time_id  customer_id  store_id  store_sales  \\\n",
       "0                0         337      371         6280         2         1.50   \n",
       "1                1         963      371         4018         2         2.40   \n",
       "2                2        1512      371         6280         2         1.62   \n",
       "3                3         181      371         4018         2         2.79   \n",
       "4                4         483      371         4382         2         3.88   \n",
       "...            ...         ...      ...          ...       ...          ...   \n",
       "269715      269715        1529      786          433        20         9.81   \n",
       "269716      269716        1094      786         6094        20         7.54   \n",
       "269717      269717         467      786         5352        20        15.24   \n",
       "269718      269718         656      786         3332        20        11.55   \n",
       "269719      269719          34      786         9114        20         8.45   \n",
       "\n",
       "        store_cost  unit_sales           city state_province  ...  \\\n",
       "0           0.5100           2      Anacortes             WA  ...   \n",
       "1           0.7200           1  Sedro Woolley             WA  ...   \n",
       "2           0.6318           3      Anacortes             WA  ...   \n",
       "3           1.0323           3  Sedro Woolley             WA  ...   \n",
       "4           1.7072           2      Anacortes             WA  ...   \n",
       "...            ...         ...            ...            ...  ...   \n",
       "269715      3.3354           3        Oak Bay             BC  ...   \n",
       "269716      3.4684           2          Sooke             BC  ...   \n",
       "269717      5.1816           4        Shawnee             BC  ...   \n",
       "269718      4.6200           3          Sooke             BC  ...   \n",
       "269719      2.6195           5      Metchosin             BC  ...   \n",
       "\n",
       "       sales_district  sales_region sales_country sales_district_id  \\\n",
       "0          Bellingham    North West           USA               111   \n",
       "1          Bellingham    North West           USA               111   \n",
       "2          Bellingham    North West           USA               111   \n",
       "3          Bellingham    North West           USA               111   \n",
       "4          Bellingham    North West           USA               111   \n",
       "...               ...           ...           ...               ...   \n",
       "269715       Victoria   Canada West        Canada               129   \n",
       "269716       Victoria   Canada West        Canada               129   \n",
       "269717       Victoria   Canada West        Canada               129   \n",
       "269718       Victoria   Canada West        Canada               129   \n",
       "269719       Victoria   Canada West        Canada               129   \n",
       "\n",
       "          the_date  the_day the_year the_month day_of_month day_since_epoch  \n",
       "0       1997-01-05   Sunday     1997         1            5           33973  \n",
       "1       1997-01-05   Sunday     1997         1            5           33973  \n",
       "2       1997-01-05   Sunday     1997         1            5           33973  \n",
       "3       1997-01-05   Sunday     1997         1            5           33973  \n",
       "4       1997-01-05   Sunday     1997         1            5           33973  \n",
       "...            ...      ...      ...       ...          ...             ...  \n",
       "269715  1998-02-24  Tuesday     1998         2           24           34388  \n",
       "269716  1998-02-24  Tuesday     1998         2           24           34388  \n",
       "269717  1998-02-24  Tuesday     1998         2           24           34388  \n",
       "269718  1998-02-24  Tuesday     1998         2           24           34388  \n",
       "269719  1998-02-24  Tuesday     1998         2           24           34388  \n",
       "\n",
       "[269720 rows x 75 columns]"
      ]
     },
     "execution_count": 163,
     "metadata": {},
     "output_type": "execute_result"
    }
   ],
   "source": [
    "# Checking for duplicates in my dataset.\n",
    "\n",
    "df.drop_duplicates()"
   ]
  },
  {
   "cell_type": "markdown",
   "id": "05b33663",
   "metadata": {},
   "source": [
    "The dataset does not have any duplicates."
   ]
  },
  {
   "cell_type": "markdown",
   "id": "f5379fa5",
   "metadata": {},
   "source": [
    "### Checking datatypes, Missing values and unique values"
   ]
  },
  {
   "cell_type": "code",
   "execution_count": 164,
   "id": "fc9d90be",
   "metadata": {},
   "outputs": [
    {
     "data": {
      "text/html": [
       "<div>\n",
       "<style scoped>\n",
       "    .dataframe tbody tr th:only-of-type {\n",
       "        vertical-align: middle;\n",
       "    }\n",
       "\n",
       "    .dataframe tbody tr th {\n",
       "        vertical-align: top;\n",
       "    }\n",
       "\n",
       "    .dataframe thead th {\n",
       "        text-align: right;\n",
       "    }\n",
       "</style>\n",
       "<table border=\"1\" class=\"dataframe\">\n",
       "  <thead>\n",
       "    <tr style=\"text-align: right;\">\n",
       "      <th></th>\n",
       "      <th>data_type</th>\n",
       "      <th>null_count</th>\n",
       "      <th>unique_count</th>\n",
       "    </tr>\n",
       "  </thead>\n",
       "  <tbody>\n",
       "    <tr>\n",
       "      <th>Unnamed: 0</th>\n",
       "      <td>int64</td>\n",
       "      <td>0</td>\n",
       "      <td>269720</td>\n",
       "    </tr>\n",
       "    <tr>\n",
       "      <th>product_id</th>\n",
       "      <td>int64</td>\n",
       "      <td>0</td>\n",
       "      <td>1559</td>\n",
       "    </tr>\n",
       "    <tr>\n",
       "      <th>time_id</th>\n",
       "      <td>int64</td>\n",
       "      <td>0</td>\n",
       "      <td>673</td>\n",
       "    </tr>\n",
       "    <tr>\n",
       "      <th>customer_id</th>\n",
       "      <td>int64</td>\n",
       "      <td>0</td>\n",
       "      <td>8842</td>\n",
       "    </tr>\n",
       "    <tr>\n",
       "      <th>store_id</th>\n",
       "      <td>int64</td>\n",
       "      <td>0</td>\n",
       "      <td>24</td>\n",
       "    </tr>\n",
       "    <tr>\n",
       "      <th>...</th>\n",
       "      <td>...</td>\n",
       "      <td>...</td>\n",
       "      <td>...</td>\n",
       "    </tr>\n",
       "    <tr>\n",
       "      <th>the_day</th>\n",
       "      <td>object</td>\n",
       "      <td>0</td>\n",
       "      <td>7</td>\n",
       "    </tr>\n",
       "    <tr>\n",
       "      <th>the_year</th>\n",
       "      <td>int64</td>\n",
       "      <td>0</td>\n",
       "      <td>2</td>\n",
       "    </tr>\n",
       "    <tr>\n",
       "      <th>the_month</th>\n",
       "      <td>int64</td>\n",
       "      <td>0</td>\n",
       "      <td>12</td>\n",
       "    </tr>\n",
       "    <tr>\n",
       "      <th>day_of_month</th>\n",
       "      <td>int64</td>\n",
       "      <td>0</td>\n",
       "      <td>30</td>\n",
       "    </tr>\n",
       "    <tr>\n",
       "      <th>day_since_epoch</th>\n",
       "      <td>int64</td>\n",
       "      <td>0</td>\n",
       "      <td>673</td>\n",
       "    </tr>\n",
       "  </tbody>\n",
       "</table>\n",
       "<p>75 rows × 3 columns</p>\n",
       "</div>"
      ],
      "text/plain": [
       "                data_type  null_count  unique_count\n",
       "Unnamed: 0          int64           0        269720\n",
       "product_id          int64           0          1559\n",
       "time_id             int64           0           673\n",
       "customer_id         int64           0          8842\n",
       "store_id            int64           0            24\n",
       "...                   ...         ...           ...\n",
       "the_day            object           0             7\n",
       "the_year            int64           0             2\n",
       "the_month           int64           0            12\n",
       "day_of_month        int64           0            30\n",
       "day_since_epoch     int64           0           673\n",
       "\n",
       "[75 rows x 3 columns]"
      ]
     },
     "execution_count": 164,
     "metadata": {},
     "output_type": "execute_result"
    }
   ],
   "source": [
    "temp = pd.DataFrame(index=df.columns)\n",
    "temp['data_type']=df.dtypes\n",
    "temp['null_count']=df.isnull().sum()\n",
    "temp['unique_count']=df.nunique()\n",
    "temp"
   ]
  },
  {
   "cell_type": "code",
   "execution_count": 165,
   "id": "912d4f5d",
   "metadata": {},
   "outputs": [
    {
     "data": {
      "text/plain": [
       "Unnamed: 0         0\n",
       "product_id         0\n",
       "time_id            0\n",
       "customer_id        0\n",
       "store_id           0\n",
       "                  ..\n",
       "the_day            0\n",
       "the_year           0\n",
       "the_month          0\n",
       "day_of_month       0\n",
       "day_since_epoch    0\n",
       "Length: 75, dtype: int64"
      ]
     },
     "execution_count": 165,
     "metadata": {},
     "output_type": "execute_result"
    }
   ],
   "source": [
    "#Reconfirm the number of null values in the dataset.\n",
    "\n",
    "df.isnull().sum()"
   ]
  },
  {
   "cell_type": "code",
   "execution_count": 166,
   "id": "bbb9d278",
   "metadata": {},
   "outputs": [
    {
     "data": {
      "text/plain": [
       "Unnamed: 0          int64\n",
       "product_id          int64\n",
       "time_id             int64\n",
       "customer_id         int64\n",
       "store_id            int64\n",
       "                    ...  \n",
       "the_day            object\n",
       "the_year            int64\n",
       "the_month           int64\n",
       "day_of_month        int64\n",
       "day_since_epoch     int64\n",
       "Length: 75, dtype: object"
      ]
     },
     "execution_count": 166,
     "metadata": {},
     "output_type": "execute_result"
    }
   ],
   "source": [
    "# Checking the datatypes of all our variables.\n",
    "df.dtypes"
   ]
  },
  {
   "cell_type": "markdown",
   "id": "197b13a2",
   "metadata": {},
   "source": [
    "### In the dataset we donot have a transaction ID which can be used to create a basket of products bought simultaneously by each customer per transaction. Hence we need to think of a way to create transaction ID.\n",
    "\n",
    "The most common way of doing this is to create an ID which would combine the customer ID and the time of shopping by each customer. We can do this by combining the `customer_ID` and `time_ID` columns using `str` function."
   ]
  },
  {
   "cell_type": "code",
   "execution_count": 167,
   "id": "2e219943",
   "metadata": {},
   "outputs": [],
   "source": [
    "df['transaction_id'] = df['customer_id'].astype(str) + df['time_id'].astype(str)"
   ]
  },
  {
   "cell_type": "markdown",
   "id": "fa43f65f",
   "metadata": {},
   "source": [
    "Now we have successfully created a `transaction_id` for each customer."
   ]
  },
  {
   "cell_type": "markdown",
   "id": "0d2b3fdb",
   "metadata": {},
   "source": [
    "Next, let us filter out the columns that we need for market basket analysis.\n",
    "\n",
    "We need to extract the following columns from our dataset:\n",
    "\n",
    "1. transaction_id\n",
    "2. customer_id\n",
    "3. product_id\n",
    "4. product_name (This would give additional details about the product).\n",
    "5. unit_sales\n",
    "6. time_id\n",
    "\n"
   ]
  },
  {
   "cell_type": "code",
   "execution_count": 168,
   "id": "e7fd0d6c",
   "metadata": {},
   "outputs": [
    {
     "data": {
      "text/html": [
       "<div>\n",
       "<style scoped>\n",
       "    .dataframe tbody tr th:only-of-type {\n",
       "        vertical-align: middle;\n",
       "    }\n",
       "\n",
       "    .dataframe tbody tr th {\n",
       "        vertical-align: top;\n",
       "    }\n",
       "\n",
       "    .dataframe thead th {\n",
       "        text-align: right;\n",
       "    }\n",
       "</style>\n",
       "<table border=\"1\" class=\"dataframe\">\n",
       "  <thead>\n",
       "    <tr style=\"text-align: right;\">\n",
       "      <th></th>\n",
       "      <th>transaction_id</th>\n",
       "      <th>customer_id</th>\n",
       "      <th>product_id</th>\n",
       "      <th>product_name</th>\n",
       "      <th>unit_sales</th>\n",
       "      <th>time_id</th>\n",
       "    </tr>\n",
       "  </thead>\n",
       "  <tbody>\n",
       "    <tr>\n",
       "      <th>0</th>\n",
       "      <td>6280371</td>\n",
       "      <td>6280</td>\n",
       "      <td>337</td>\n",
       "      <td>Better Turkey Noodle Soup</td>\n",
       "      <td>2</td>\n",
       "      <td>371</td>\n",
       "    </tr>\n",
       "    <tr>\n",
       "      <th>1</th>\n",
       "      <td>4018371</td>\n",
       "      <td>4018</td>\n",
       "      <td>963</td>\n",
       "      <td>Just Right Chicken Noodle Soup</td>\n",
       "      <td>1</td>\n",
       "      <td>371</td>\n",
       "    </tr>\n",
       "    <tr>\n",
       "      <th>2</th>\n",
       "      <td>6280371</td>\n",
       "      <td>6280</td>\n",
       "      <td>1512</td>\n",
       "      <td>Jardon Spaghetti</td>\n",
       "      <td>3</td>\n",
       "      <td>371</td>\n",
       "    </tr>\n",
       "    <tr>\n",
       "      <th>3</th>\n",
       "      <td>4018371</td>\n",
       "      <td>4018</td>\n",
       "      <td>181</td>\n",
       "      <td>High Top Lettuce</td>\n",
       "      <td>3</td>\n",
       "      <td>371</td>\n",
       "    </tr>\n",
       "    <tr>\n",
       "      <th>4</th>\n",
       "      <td>4382371</td>\n",
       "      <td>4382</td>\n",
       "      <td>483</td>\n",
       "      <td>Tell Tale Corn on the Cob</td>\n",
       "      <td>2</td>\n",
       "      <td>371</td>\n",
       "    </tr>\n",
       "  </tbody>\n",
       "</table>\n",
       "</div>"
      ],
      "text/plain": [
       "  transaction_id  customer_id  product_id                    product_name  \\\n",
       "0        6280371         6280         337       Better Turkey Noodle Soup   \n",
       "1        4018371         4018         963  Just Right Chicken Noodle Soup   \n",
       "2        6280371         6280        1512                Jardon Spaghetti   \n",
       "3        4018371         4018         181                High Top Lettuce   \n",
       "4        4382371         4382         483       Tell Tale Corn on the Cob   \n",
       "\n",
       "   unit_sales  time_id  \n",
       "0           2      371  \n",
       "1           1      371  \n",
       "2           3      371  \n",
       "3           3      371  \n",
       "4           2      371  "
      ]
     },
     "execution_count": 168,
     "metadata": {},
     "output_type": "execute_result"
    }
   ],
   "source": [
    "product_name = df[['transaction_id','customer_id','product_id','product_name','unit_sales','time_id']]\n",
    "product_name.head()"
   ]
  },
  {
   "cell_type": "markdown",
   "id": "4a541f05",
   "metadata": {},
   "source": [
    "## The remaining part of the Exploratory Data Analysis along with insights have been presented in the Tableau Dashboard on the tab named `Exploratory Data Analysis`."
   ]
  },
  {
   "cell_type": "markdown",
   "id": "dc34a424",
   "metadata": {},
   "source": [
    "**We now proceed to Section 2 of our analysis.**"
   ]
  },
  {
   "cell_type": "markdown",
   "id": "4cd39d37",
   "metadata": {},
   "source": [
    "# Section 2: Market Basket Analysis"
   ]
  },
  {
   "cell_type": "markdown",
   "id": "a69ffd02",
   "metadata": {},
   "source": [
    "Let us count the number of transactions a product appears in the dataset using the groupby function as shown below."
   ]
  },
  {
   "cell_type": "code",
   "execution_count": 169,
   "id": "568b0d08",
   "metadata": {},
   "outputs": [],
   "source": [
    "productCountDf = product_name.groupby(\"product_id\",as_index = False)['transaction_id'].count()"
   ]
  },
  {
   "cell_type": "markdown",
   "id": "cc310181",
   "metadata": {},
   "source": [
    "We now arrange the above dataset in descending order, and sort them on the basis of frequency of product purchase."
   ]
  },
  {
   "cell_type": "code",
   "execution_count": 170,
   "id": "85b6c5a4",
   "metadata": {},
   "outputs": [
    {
     "data": {
      "text/html": [
       "<div>\n",
       "<style scoped>\n",
       "    .dataframe tbody tr th:only-of-type {\n",
       "        vertical-align: middle;\n",
       "    }\n",
       "\n",
       "    .dataframe tbody tr th {\n",
       "        vertical-align: top;\n",
       "    }\n",
       "\n",
       "    .dataframe thead th {\n",
       "        text-align: right;\n",
       "    }\n",
       "</style>\n",
       "<table border=\"1\" class=\"dataframe\">\n",
       "  <thead>\n",
       "    <tr style=\"text-align: right;\">\n",
       "      <th></th>\n",
       "      <th>product_id</th>\n",
       "      <th>transaction_id</th>\n",
       "    </tr>\n",
       "  </thead>\n",
       "  <tbody>\n",
       "    <tr>\n",
       "      <th>381</th>\n",
       "      <td>382</td>\n",
       "      <td>225</td>\n",
       "    </tr>\n",
       "    <tr>\n",
       "      <th>501</th>\n",
       "      <td>502</td>\n",
       "      <td>219</td>\n",
       "    </tr>\n",
       "    <tr>\n",
       "      <th>425</th>\n",
       "      <td>426</td>\n",
       "      <td>218</td>\n",
       "    </tr>\n",
       "    <tr>\n",
       "      <th>1361</th>\n",
       "      <td>1362</td>\n",
       "      <td>216</td>\n",
       "    </tr>\n",
       "    <tr>\n",
       "      <th>864</th>\n",
       "      <td>865</td>\n",
       "      <td>214</td>\n",
       "    </tr>\n",
       "    <tr>\n",
       "      <th>...</th>\n",
       "      <td>...</td>\n",
       "      <td>...</td>\n",
       "    </tr>\n",
       "    <tr>\n",
       "      <th>112</th>\n",
       "      <td>113</td>\n",
       "      <td>132</td>\n",
       "    </tr>\n",
       "    <tr>\n",
       "      <th>256</th>\n",
       "      <td>257</td>\n",
       "      <td>129</td>\n",
       "    </tr>\n",
       "    <tr>\n",
       "      <th>1550</th>\n",
       "      <td>1551</td>\n",
       "      <td>124</td>\n",
       "    </tr>\n",
       "    <tr>\n",
       "      <th>0</th>\n",
       "      <td>1</td>\n",
       "      <td>85</td>\n",
       "    </tr>\n",
       "    <tr>\n",
       "      <th>1558</th>\n",
       "      <td>1559</td>\n",
       "      <td>80</td>\n",
       "    </tr>\n",
       "  </tbody>\n",
       "</table>\n",
       "<p>1559 rows × 2 columns</p>\n",
       "</div>"
      ],
      "text/plain": [
       "      product_id  transaction_id\n",
       "381          382             225\n",
       "501          502             219\n",
       "425          426             218\n",
       "1361        1362             216\n",
       "864          865             214\n",
       "...          ...             ...\n",
       "112          113             132\n",
       "256          257             129\n",
       "1550        1551             124\n",
       "0              1              85\n",
       "1558        1559              80\n",
       "\n",
       "[1559 rows x 2 columns]"
      ]
     },
     "execution_count": 170,
     "metadata": {},
     "output_type": "execute_result"
    }
   ],
   "source": [
    "# Arranging the above dataset in descending order, sorted on the basis of product frequency.\n",
    "productCountDf = productCountDf.sort_values(\"transaction_id\",ascending = False)\n",
    "productCountDf"
   ]
  },
  {
   "cell_type": "markdown",
   "id": "c0498306",
   "metadata": {},
   "source": [
    "### Top 100 most frequently purchased products\n"
   ]
  },
  {
   "cell_type": "code",
   "execution_count": 171,
   "id": "6d3da246",
   "metadata": {},
   "outputs": [],
   "source": [
    "topProdFrame = productCountDf.iloc[0:100,:]\n",
    "productId= topProdFrame.loc[:,[\"product_id\"]]"
   ]
  },
  {
   "cell_type": "markdown",
   "id": "d682858d",
   "metadata": {},
   "source": [
    "### Let us now create a basket of Orders containing the most frequently purchased products."
   ]
  },
  {
   "cell_type": "code",
   "execution_count": 172,
   "id": "263e2535",
   "metadata": {},
   "outputs": [],
   "source": [
    "# Creating a basket of orders with most frequently purchased products.\n",
    "#First create an empty dataframe. Create a range from 0 to 99, we need to extract the top 100 products.\n",
    "# Use the productID dataframe which we already created in the above cell. Also get the product name from the productID dataset.\n",
    "# using the above information, append the top values for most frequently purchased products into the empty dataframe.\n",
    "\n",
    "MarketBasketdf = product_name[0:0]\n",
    "for i in range(0,99):\n",
    "    pId = productId.iloc[i]['product_id'] \n",
    "    stDf = product_name[product_name.product_id == pId ]\n",
    "    MarketBasketdf = MarketBasketdf.append(stDf,ignore_index = False)"
   ]
  },
  {
   "cell_type": "code",
   "execution_count": 173,
   "id": "f5be6945",
   "metadata": {},
   "outputs": [
    {
     "data": {
      "text/html": [
       "<div>\n",
       "<style scoped>\n",
       "    .dataframe tbody tr th:only-of-type {\n",
       "        vertical-align: middle;\n",
       "    }\n",
       "\n",
       "    .dataframe tbody tr th {\n",
       "        vertical-align: top;\n",
       "    }\n",
       "\n",
       "    .dataframe thead th {\n",
       "        text-align: right;\n",
       "    }\n",
       "</style>\n",
       "<table border=\"1\" class=\"dataframe\">\n",
       "  <thead>\n",
       "    <tr style=\"text-align: right;\">\n",
       "      <th>product_name</th>\n",
       "      <th>ADJ Rosy Sunglasses</th>\n",
       "      <th>BBB Best Apple Butter</th>\n",
       "      <th>BBB Best French Roast Coffee</th>\n",
       "      <th>BBB Best Strawberry Jelly</th>\n",
       "      <th>Best Choice Low Fat Popcorn</th>\n",
       "      <th>Better Canned Tuna in Oil</th>\n",
       "      <th>Better Chicken Noodle Soup</th>\n",
       "      <th>Better Chicken Ramen Soup</th>\n",
       "      <th>Better Fancy Canned Anchovies</th>\n",
       "      <th>Better Fancy Canned Clams</th>\n",
       "      <th>...</th>\n",
       "      <th>Sunset Paper Cups</th>\n",
       "      <th>Sunset Paper Plates</th>\n",
       "      <th>Sunset Soft Napkins</th>\n",
       "      <th>Super Grape Jam</th>\n",
       "      <th>Super Strawberry Jelly</th>\n",
       "      <th>Tell Tale Fresh Lima Beans</th>\n",
       "      <th>Tell Tale Lettuce</th>\n",
       "      <th>Tell Tale Sweet Onion</th>\n",
       "      <th>Thresher Malted Milk Balls</th>\n",
       "      <th>Thresher White Chocolate Bar</th>\n",
       "    </tr>\n",
       "    <tr>\n",
       "      <th>transaction_id</th>\n",
       "      <th></th>\n",
       "      <th></th>\n",
       "      <th></th>\n",
       "      <th></th>\n",
       "      <th></th>\n",
       "      <th></th>\n",
       "      <th></th>\n",
       "      <th></th>\n",
       "      <th></th>\n",
       "      <th></th>\n",
       "      <th></th>\n",
       "      <th></th>\n",
       "      <th></th>\n",
       "      <th></th>\n",
       "      <th></th>\n",
       "      <th></th>\n",
       "      <th></th>\n",
       "      <th></th>\n",
       "      <th></th>\n",
       "      <th></th>\n",
       "      <th></th>\n",
       "    </tr>\n",
       "  </thead>\n",
       "  <tbody>\n",
       "    <tr>\n",
       "      <th>10000850</th>\n",
       "      <td>0.0</td>\n",
       "      <td>0.0</td>\n",
       "      <td>0.0</td>\n",
       "      <td>0.0</td>\n",
       "      <td>0.0</td>\n",
       "      <td>0.0</td>\n",
       "      <td>0.0</td>\n",
       "      <td>0.0</td>\n",
       "      <td>0.0</td>\n",
       "      <td>0.0</td>\n",
       "      <td>...</td>\n",
       "      <td>0.0</td>\n",
       "      <td>0.0</td>\n",
       "      <td>0.0</td>\n",
       "      <td>0.0</td>\n",
       "      <td>0.0</td>\n",
       "      <td>0.0</td>\n",
       "      <td>0.0</td>\n",
       "      <td>0.0</td>\n",
       "      <td>0.0</td>\n",
       "      <td>0.0</td>\n",
       "    </tr>\n",
       "    <tr>\n",
       "      <th>10000872</th>\n",
       "      <td>0.0</td>\n",
       "      <td>0.0</td>\n",
       "      <td>0.0</td>\n",
       "      <td>0.0</td>\n",
       "      <td>0.0</td>\n",
       "      <td>0.0</td>\n",
       "      <td>0.0</td>\n",
       "      <td>0.0</td>\n",
       "      <td>0.0</td>\n",
       "      <td>0.0</td>\n",
       "      <td>...</td>\n",
       "      <td>0.0</td>\n",
       "      <td>0.0</td>\n",
       "      <td>0.0</td>\n",
       "      <td>0.0</td>\n",
       "      <td>0.0</td>\n",
       "      <td>0.0</td>\n",
       "      <td>0.0</td>\n",
       "      <td>0.0</td>\n",
       "      <td>0.0</td>\n",
       "      <td>0.0</td>\n",
       "    </tr>\n",
       "    <tr>\n",
       "      <th>10000903</th>\n",
       "      <td>0.0</td>\n",
       "      <td>0.0</td>\n",
       "      <td>0.0</td>\n",
       "      <td>0.0</td>\n",
       "      <td>0.0</td>\n",
       "      <td>0.0</td>\n",
       "      <td>0.0</td>\n",
       "      <td>0.0</td>\n",
       "      <td>0.0</td>\n",
       "      <td>0.0</td>\n",
       "      <td>...</td>\n",
       "      <td>0.0</td>\n",
       "      <td>0.0</td>\n",
       "      <td>0.0</td>\n",
       "      <td>0.0</td>\n",
       "      <td>0.0</td>\n",
       "      <td>0.0</td>\n",
       "      <td>0.0</td>\n",
       "      <td>0.0</td>\n",
       "      <td>0.0</td>\n",
       "      <td>0.0</td>\n",
       "    </tr>\n",
       "    <tr>\n",
       "      <th>100011011</th>\n",
       "      <td>0.0</td>\n",
       "      <td>0.0</td>\n",
       "      <td>4.0</td>\n",
       "      <td>0.0</td>\n",
       "      <td>0.0</td>\n",
       "      <td>0.0</td>\n",
       "      <td>0.0</td>\n",
       "      <td>0.0</td>\n",
       "      <td>0.0</td>\n",
       "      <td>0.0</td>\n",
       "      <td>...</td>\n",
       "      <td>0.0</td>\n",
       "      <td>0.0</td>\n",
       "      <td>0.0</td>\n",
       "      <td>0.0</td>\n",
       "      <td>0.0</td>\n",
       "      <td>0.0</td>\n",
       "      <td>0.0</td>\n",
       "      <td>0.0</td>\n",
       "      <td>0.0</td>\n",
       "      <td>0.0</td>\n",
       "    </tr>\n",
       "    <tr>\n",
       "      <th>10001793</th>\n",
       "      <td>2.0</td>\n",
       "      <td>0.0</td>\n",
       "      <td>0.0</td>\n",
       "      <td>0.0</td>\n",
       "      <td>0.0</td>\n",
       "      <td>0.0</td>\n",
       "      <td>3.0</td>\n",
       "      <td>0.0</td>\n",
       "      <td>0.0</td>\n",
       "      <td>0.0</td>\n",
       "      <td>...</td>\n",
       "      <td>0.0</td>\n",
       "      <td>0.0</td>\n",
       "      <td>0.0</td>\n",
       "      <td>0.0</td>\n",
       "      <td>0.0</td>\n",
       "      <td>0.0</td>\n",
       "      <td>0.0</td>\n",
       "      <td>0.0</td>\n",
       "      <td>0.0</td>\n",
       "      <td>0.0</td>\n",
       "    </tr>\n",
       "  </tbody>\n",
       "</table>\n",
       "<p>5 rows × 99 columns</p>\n",
       "</div>"
      ],
      "text/plain": [
       "product_name    ADJ Rosy Sunglasses  BBB Best Apple Butter  \\\n",
       "transaction_id                                               \n",
       "10000850                        0.0                    0.0   \n",
       "10000872                        0.0                    0.0   \n",
       "10000903                        0.0                    0.0   \n",
       "100011011                       0.0                    0.0   \n",
       "10001793                        2.0                    0.0   \n",
       "\n",
       "product_name    BBB Best French Roast Coffee  BBB Best Strawberry Jelly  \\\n",
       "transaction_id                                                            \n",
       "10000850                                 0.0                        0.0   \n",
       "10000872                                 0.0                        0.0   \n",
       "10000903                                 0.0                        0.0   \n",
       "100011011                                4.0                        0.0   \n",
       "10001793                                 0.0                        0.0   \n",
       "\n",
       "product_name    Best Choice Low Fat Popcorn  Better Canned Tuna in Oil  \\\n",
       "transaction_id                                                           \n",
       "10000850                                0.0                        0.0   \n",
       "10000872                                0.0                        0.0   \n",
       "10000903                                0.0                        0.0   \n",
       "100011011                               0.0                        0.0   \n",
       "10001793                                0.0                        0.0   \n",
       "\n",
       "product_name    Better Chicken Noodle Soup  Better Chicken Ramen Soup  \\\n",
       "transaction_id                                                          \n",
       "10000850                               0.0                        0.0   \n",
       "10000872                               0.0                        0.0   \n",
       "10000903                               0.0                        0.0   \n",
       "100011011                              0.0                        0.0   \n",
       "10001793                               3.0                        0.0   \n",
       "\n",
       "product_name    Better Fancy Canned Anchovies  Better Fancy Canned Clams  ...  \\\n",
       "transaction_id                                                            ...   \n",
       "10000850                                  0.0                        0.0  ...   \n",
       "10000872                                  0.0                        0.0  ...   \n",
       "10000903                                  0.0                        0.0  ...   \n",
       "100011011                                 0.0                        0.0  ...   \n",
       "10001793                                  0.0                        0.0  ...   \n",
       "\n",
       "product_name    Sunset Paper Cups  Sunset Paper Plates  Sunset Soft Napkins  \\\n",
       "transaction_id                                                                \n",
       "10000850                      0.0                  0.0                  0.0   \n",
       "10000872                      0.0                  0.0                  0.0   \n",
       "10000903                      0.0                  0.0                  0.0   \n",
       "100011011                     0.0                  0.0                  0.0   \n",
       "10001793                      0.0                  0.0                  0.0   \n",
       "\n",
       "product_name    Super Grape Jam  Super Strawberry Jelly  \\\n",
       "transaction_id                                            \n",
       "10000850                    0.0                     0.0   \n",
       "10000872                    0.0                     0.0   \n",
       "10000903                    0.0                     0.0   \n",
       "100011011                   0.0                     0.0   \n",
       "10001793                    0.0                     0.0   \n",
       "\n",
       "product_name    Tell Tale Fresh Lima Beans  Tell Tale Lettuce  \\\n",
       "transaction_id                                                  \n",
       "10000850                               0.0                0.0   \n",
       "10000872                               0.0                0.0   \n",
       "10000903                               0.0                0.0   \n",
       "100011011                              0.0                0.0   \n",
       "10001793                               0.0                0.0   \n",
       "\n",
       "product_name    Tell Tale Sweet Onion  Thresher Malted Milk Balls  \\\n",
       "transaction_id                                                      \n",
       "10000850                          0.0                         0.0   \n",
       "10000872                          0.0                         0.0   \n",
       "10000903                          0.0                         0.0   \n",
       "100011011                         0.0                         0.0   \n",
       "10001793                          0.0                         0.0   \n",
       "\n",
       "product_name    Thresher White Chocolate Bar  \n",
       "transaction_id                                \n",
       "10000850                                 0.0  \n",
       "10000872                                 0.0  \n",
       "10000903                                 0.0  \n",
       "100011011                                0.0  \n",
       "10001793                                 0.0  \n",
       "\n",
       "[5 rows x 99 columns]"
      ]
     },
     "execution_count": 173,
     "metadata": {},
     "output_type": "execute_result"
    }
   ],
   "source": [
    "# Group the total unit sales for each transaction ID based on transaction ID and product name. This\n",
    "# will give total units sold for each product, each transaction ID.\n",
    "\n",
    "basket = MarketBasketdf.groupby(['transaction_id','product_name'])['unit_sales'].sum().unstack().reset_index().fillna(0).set_index('transaction_id')\n",
    "basket.head(5)"
   ]
  },
  {
   "cell_type": "markdown",
   "id": "00d17a93",
   "metadata": {},
   "source": [
    "Note that we have the sum of unit sales for each product for each transaction ID. However for the purpose of market basket analysis we are not interested in the count of the number of units bought for each product. We are rather interested in the frequency or the number of times each product is bought by each customer. Hence we apply one Hot encoding to convert the number of units into one encoded values by using the function below:"
   ]
  },
  {
   "cell_type": "code",
   "execution_count": 174,
   "id": "a7743dac",
   "metadata": {},
   "outputs": [
    {
     "data": {
      "text/html": [
       "<div>\n",
       "<style scoped>\n",
       "    .dataframe tbody tr th:only-of-type {\n",
       "        vertical-align: middle;\n",
       "    }\n",
       "\n",
       "    .dataframe tbody tr th {\n",
       "        vertical-align: top;\n",
       "    }\n",
       "\n",
       "    .dataframe thead th {\n",
       "        text-align: right;\n",
       "    }\n",
       "</style>\n",
       "<table border=\"1\" class=\"dataframe\">\n",
       "  <thead>\n",
       "    <tr style=\"text-align: right;\">\n",
       "      <th>product_name</th>\n",
       "      <th>ADJ Rosy Sunglasses</th>\n",
       "      <th>BBB Best Apple Butter</th>\n",
       "      <th>BBB Best French Roast Coffee</th>\n",
       "      <th>BBB Best Strawberry Jelly</th>\n",
       "      <th>Best Choice Low Fat Popcorn</th>\n",
       "      <th>Better Canned Tuna in Oil</th>\n",
       "      <th>Better Chicken Noodle Soup</th>\n",
       "      <th>Better Chicken Ramen Soup</th>\n",
       "      <th>Better Fancy Canned Anchovies</th>\n",
       "      <th>Better Fancy Canned Clams</th>\n",
       "      <th>...</th>\n",
       "      <th>Sunset Paper Cups</th>\n",
       "      <th>Sunset Paper Plates</th>\n",
       "      <th>Sunset Soft Napkins</th>\n",
       "      <th>Super Grape Jam</th>\n",
       "      <th>Super Strawberry Jelly</th>\n",
       "      <th>Tell Tale Fresh Lima Beans</th>\n",
       "      <th>Tell Tale Lettuce</th>\n",
       "      <th>Tell Tale Sweet Onion</th>\n",
       "      <th>Thresher Malted Milk Balls</th>\n",
       "      <th>Thresher White Chocolate Bar</th>\n",
       "    </tr>\n",
       "    <tr>\n",
       "      <th>transaction_id</th>\n",
       "      <th></th>\n",
       "      <th></th>\n",
       "      <th></th>\n",
       "      <th></th>\n",
       "      <th></th>\n",
       "      <th></th>\n",
       "      <th></th>\n",
       "      <th></th>\n",
       "      <th></th>\n",
       "      <th></th>\n",
       "      <th></th>\n",
       "      <th></th>\n",
       "      <th></th>\n",
       "      <th></th>\n",
       "      <th></th>\n",
       "      <th></th>\n",
       "      <th></th>\n",
       "      <th></th>\n",
       "      <th></th>\n",
       "      <th></th>\n",
       "      <th></th>\n",
       "    </tr>\n",
       "  </thead>\n",
       "  <tbody>\n",
       "    <tr>\n",
       "      <th>10000850</th>\n",
       "      <td>0</td>\n",
       "      <td>0</td>\n",
       "      <td>0</td>\n",
       "      <td>0</td>\n",
       "      <td>0</td>\n",
       "      <td>0</td>\n",
       "      <td>0</td>\n",
       "      <td>0</td>\n",
       "      <td>0</td>\n",
       "      <td>0</td>\n",
       "      <td>...</td>\n",
       "      <td>0</td>\n",
       "      <td>0</td>\n",
       "      <td>0</td>\n",
       "      <td>0</td>\n",
       "      <td>0</td>\n",
       "      <td>0</td>\n",
       "      <td>0</td>\n",
       "      <td>0</td>\n",
       "      <td>0</td>\n",
       "      <td>0</td>\n",
       "    </tr>\n",
       "    <tr>\n",
       "      <th>10000872</th>\n",
       "      <td>0</td>\n",
       "      <td>0</td>\n",
       "      <td>0</td>\n",
       "      <td>0</td>\n",
       "      <td>0</td>\n",
       "      <td>0</td>\n",
       "      <td>0</td>\n",
       "      <td>0</td>\n",
       "      <td>0</td>\n",
       "      <td>0</td>\n",
       "      <td>...</td>\n",
       "      <td>0</td>\n",
       "      <td>0</td>\n",
       "      <td>0</td>\n",
       "      <td>0</td>\n",
       "      <td>0</td>\n",
       "      <td>0</td>\n",
       "      <td>0</td>\n",
       "      <td>0</td>\n",
       "      <td>0</td>\n",
       "      <td>0</td>\n",
       "    </tr>\n",
       "    <tr>\n",
       "      <th>10000903</th>\n",
       "      <td>0</td>\n",
       "      <td>0</td>\n",
       "      <td>0</td>\n",
       "      <td>0</td>\n",
       "      <td>0</td>\n",
       "      <td>0</td>\n",
       "      <td>0</td>\n",
       "      <td>0</td>\n",
       "      <td>0</td>\n",
       "      <td>0</td>\n",
       "      <td>...</td>\n",
       "      <td>0</td>\n",
       "      <td>0</td>\n",
       "      <td>0</td>\n",
       "      <td>0</td>\n",
       "      <td>0</td>\n",
       "      <td>0</td>\n",
       "      <td>0</td>\n",
       "      <td>0</td>\n",
       "      <td>0</td>\n",
       "      <td>0</td>\n",
       "    </tr>\n",
       "    <tr>\n",
       "      <th>100011011</th>\n",
       "      <td>0</td>\n",
       "      <td>0</td>\n",
       "      <td>1</td>\n",
       "      <td>0</td>\n",
       "      <td>0</td>\n",
       "      <td>0</td>\n",
       "      <td>0</td>\n",
       "      <td>0</td>\n",
       "      <td>0</td>\n",
       "      <td>0</td>\n",
       "      <td>...</td>\n",
       "      <td>0</td>\n",
       "      <td>0</td>\n",
       "      <td>0</td>\n",
       "      <td>0</td>\n",
       "      <td>0</td>\n",
       "      <td>0</td>\n",
       "      <td>0</td>\n",
       "      <td>0</td>\n",
       "      <td>0</td>\n",
       "      <td>0</td>\n",
       "    </tr>\n",
       "    <tr>\n",
       "      <th>10001793</th>\n",
       "      <td>1</td>\n",
       "      <td>0</td>\n",
       "      <td>0</td>\n",
       "      <td>0</td>\n",
       "      <td>0</td>\n",
       "      <td>0</td>\n",
       "      <td>1</td>\n",
       "      <td>0</td>\n",
       "      <td>0</td>\n",
       "      <td>0</td>\n",
       "      <td>...</td>\n",
       "      <td>0</td>\n",
       "      <td>0</td>\n",
       "      <td>0</td>\n",
       "      <td>0</td>\n",
       "      <td>0</td>\n",
       "      <td>0</td>\n",
       "      <td>0</td>\n",
       "      <td>0</td>\n",
       "      <td>0</td>\n",
       "      <td>0</td>\n",
       "    </tr>\n",
       "  </tbody>\n",
       "</table>\n",
       "<p>5 rows × 99 columns</p>\n",
       "</div>"
      ],
      "text/plain": [
       "product_name    ADJ Rosy Sunglasses  BBB Best Apple Butter  \\\n",
       "transaction_id                                               \n",
       "10000850                          0                      0   \n",
       "10000872                          0                      0   \n",
       "10000903                          0                      0   \n",
       "100011011                         0                      0   \n",
       "10001793                          1                      0   \n",
       "\n",
       "product_name    BBB Best French Roast Coffee  BBB Best Strawberry Jelly  \\\n",
       "transaction_id                                                            \n",
       "10000850                                   0                          0   \n",
       "10000872                                   0                          0   \n",
       "10000903                                   0                          0   \n",
       "100011011                                  1                          0   \n",
       "10001793                                   0                          0   \n",
       "\n",
       "product_name    Best Choice Low Fat Popcorn  Better Canned Tuna in Oil  \\\n",
       "transaction_id                                                           \n",
       "10000850                                  0                          0   \n",
       "10000872                                  0                          0   \n",
       "10000903                                  0                          0   \n",
       "100011011                                 0                          0   \n",
       "10001793                                  0                          0   \n",
       "\n",
       "product_name    Better Chicken Noodle Soup  Better Chicken Ramen Soup  \\\n",
       "transaction_id                                                          \n",
       "10000850                                 0                          0   \n",
       "10000872                                 0                          0   \n",
       "10000903                                 0                          0   \n",
       "100011011                                0                          0   \n",
       "10001793                                 1                          0   \n",
       "\n",
       "product_name    Better Fancy Canned Anchovies  Better Fancy Canned Clams  ...  \\\n",
       "transaction_id                                                            ...   \n",
       "10000850                                    0                          0  ...   \n",
       "10000872                                    0                          0  ...   \n",
       "10000903                                    0                          0  ...   \n",
       "100011011                                   0                          0  ...   \n",
       "10001793                                    0                          0  ...   \n",
       "\n",
       "product_name    Sunset Paper Cups  Sunset Paper Plates  Sunset Soft Napkins  \\\n",
       "transaction_id                                                                \n",
       "10000850                        0                    0                    0   \n",
       "10000872                        0                    0                    0   \n",
       "10000903                        0                    0                    0   \n",
       "100011011                       0                    0                    0   \n",
       "10001793                        0                    0                    0   \n",
       "\n",
       "product_name    Super Grape Jam  Super Strawberry Jelly  \\\n",
       "transaction_id                                            \n",
       "10000850                      0                       0   \n",
       "10000872                      0                       0   \n",
       "10000903                      0                       0   \n",
       "100011011                     0                       0   \n",
       "10001793                      0                       0   \n",
       "\n",
       "product_name    Tell Tale Fresh Lima Beans  Tell Tale Lettuce  \\\n",
       "transaction_id                                                  \n",
       "10000850                                 0                  0   \n",
       "10000872                                 0                  0   \n",
       "10000903                                 0                  0   \n",
       "100011011                                0                  0   \n",
       "10001793                                 0                  0   \n",
       "\n",
       "product_name    Tell Tale Sweet Onion  Thresher Malted Milk Balls  \\\n",
       "transaction_id                                                      \n",
       "10000850                            0                           0   \n",
       "10000872                            0                           0   \n",
       "10000903                            0                           0   \n",
       "100011011                           0                           0   \n",
       "10001793                            0                           0   \n",
       "\n",
       "product_name    Thresher White Chocolate Bar  \n",
       "transaction_id                                \n",
       "10000850                                   0  \n",
       "10000872                                   0  \n",
       "10000903                                   0  \n",
       "100011011                                  0  \n",
       "10001793                                   0  \n",
       "\n",
       "[5 rows x 99 columns]"
      ]
     },
     "execution_count": 174,
     "metadata": {},
     "output_type": "execute_result"
    }
   ],
   "source": [
    "def encode_units(x):\n",
    "    if x <= 0:\n",
    "        return 0\n",
    "    if x >= 1:\n",
    "        return 1\n",
    "\n",
    "basket_sets = basket.applymap(encode_units)\n",
    "basket_sets.head(5)"
   ]
  },
  {
   "cell_type": "markdown",
   "id": "693c4dc3",
   "metadata": {},
   "source": [
    "Let us examine the shape and size of our basket_sets dataset."
   ]
  },
  {
   "cell_type": "code",
   "execution_count": 175,
   "id": "86f0447c",
   "metadata": {},
   "outputs": [
    {
     "data": {
      "text/plain": [
       "1675971"
      ]
     },
     "execution_count": 175,
     "metadata": {},
     "output_type": "execute_result"
    }
   ],
   "source": [
    "basket_sets.size"
   ]
  },
  {
   "cell_type": "code",
   "execution_count": 176,
   "id": "7eff343d",
   "metadata": {},
   "outputs": [
    {
     "data": {
      "text/plain": [
       "(16929, 99)"
      ]
     },
     "execution_count": 176,
     "metadata": {},
     "output_type": "execute_result"
    }
   ],
   "source": [
    "basket_sets.shape"
   ]
  },
  {
   "cell_type": "markdown",
   "id": "16c26246",
   "metadata": {},
   "source": [
    "Our basket dataset has 58308 rows and 1559 columns."
   ]
  },
  {
   "cell_type": "markdown",
   "id": "c4e81f59",
   "metadata": {},
   "source": [
    "# Apriori Algorithm"
   ]
  },
  {
   "cell_type": "code",
   "execution_count": 177,
   "id": "1de4b919",
   "metadata": {},
   "outputs": [],
   "source": [
    "from mlxtend.frequent_patterns import apriori\n",
    "from mlxtend.frequent_patterns import association_rules"
   ]
  },
  {
   "cell_type": "markdown",
   "id": "e0b0da76",
   "metadata": {},
   "source": [
    "Since this algorithm requires a huge memory, we have to truncate our dataset and reduce it to fit to the available memory. Hence I considered only the top 10000 elements in my basket_sets dataset. Since we are dealing with product level granular data, we use a very low value of support of `0.01%` which makes it feasible to identify the frequently bought bundles of products."
   ]
  },
  {
   "cell_type": "code",
   "execution_count": 178,
   "id": "918a8459",
   "metadata": {},
   "outputs": [],
   "source": [
    "dummy=basket_sets.head(10000)\n",
    "frequent_itemsets = apriori(dummy, min_support=0.0001, use_colnames=True)\n"
   ]
  },
  {
   "cell_type": "markdown",
   "id": "0e5fbeb5",
   "metadata": {},
   "source": [
    "# Association rules using Apriori algorithms"
   ]
  },
  {
   "cell_type": "code",
   "execution_count": 179,
   "id": "3bc645d0",
   "metadata": {},
   "outputs": [],
   "source": [
    "apriori_rules = association_rules(frequent_itemsets, metric=\"lift\", min_threshold= 1)"
   ]
  },
  {
   "cell_type": "markdown",
   "id": "3505bd37",
   "metadata": {},
   "source": [
    "## Filtering out correlated products with higher probability"
   ]
  },
  {
   "cell_type": "code",
   "execution_count": 180,
   "id": "339d9201",
   "metadata": {},
   "outputs": [
    {
     "data": {
      "text/html": [
       "<div>\n",
       "<style scoped>\n",
       "    .dataframe tbody tr th:only-of-type {\n",
       "        vertical-align: middle;\n",
       "    }\n",
       "\n",
       "    .dataframe tbody tr th {\n",
       "        vertical-align: top;\n",
       "    }\n",
       "\n",
       "    .dataframe thead th {\n",
       "        text-align: right;\n",
       "    }\n",
       "</style>\n",
       "<table border=\"1\" class=\"dataframe\">\n",
       "  <thead>\n",
       "    <tr style=\"text-align: right;\">\n",
       "      <th></th>\n",
       "      <th>antecedents</th>\n",
       "      <th>consequents</th>\n",
       "      <th>antecedent support</th>\n",
       "      <th>consequent support</th>\n",
       "      <th>support</th>\n",
       "      <th>confidence</th>\n",
       "      <th>lift</th>\n",
       "      <th>leverage</th>\n",
       "      <th>conviction</th>\n",
       "    </tr>\n",
       "  </thead>\n",
       "  <tbody>\n",
       "    <tr>\n",
       "      <th>948</th>\n",
       "      <td>(ADJ Rosy Sunglasses, Moms Potato Salad)</td>\n",
       "      <td>(Better Chicken Noodle Soup)</td>\n",
       "      <td>0.0001</td>\n",
       "      <td>0.0120</td>\n",
       "      <td>0.0001</td>\n",
       "      <td>1.000000</td>\n",
       "      <td>83.333333</td>\n",
       "      <td>0.000099</td>\n",
       "      <td>inf</td>\n",
       "    </tr>\n",
       "    <tr>\n",
       "      <th>949</th>\n",
       "      <td>(ADJ Rosy Sunglasses, Better Chicken Noodle Soup)</td>\n",
       "      <td>(Moms Potato Salad)</td>\n",
       "      <td>0.0001</td>\n",
       "      <td>0.0120</td>\n",
       "      <td>0.0001</td>\n",
       "      <td>1.000000</td>\n",
       "      <td>83.333333</td>\n",
       "      <td>0.000099</td>\n",
       "      <td>inf</td>\n",
       "    </tr>\n",
       "    <tr>\n",
       "      <th>954</th>\n",
       "      <td>(ADJ Rosy Sunglasses, Better Chicken Noodle Soup)</td>\n",
       "      <td>(Special Wheat Puffs)</td>\n",
       "      <td>0.0001</td>\n",
       "      <td>0.0124</td>\n",
       "      <td>0.0001</td>\n",
       "      <td>1.000000</td>\n",
       "      <td>80.645161</td>\n",
       "      <td>0.000099</td>\n",
       "      <td>inf</td>\n",
       "    </tr>\n",
       "    <tr>\n",
       "      <th>955</th>\n",
       "      <td>(ADJ Rosy Sunglasses, Special Wheat Puffs)</td>\n",
       "      <td>(Better Chicken Noodle Soup)</td>\n",
       "      <td>0.0001</td>\n",
       "      <td>0.0120</td>\n",
       "      <td>0.0001</td>\n",
       "      <td>1.000000</td>\n",
       "      <td>83.333333</td>\n",
       "      <td>0.000099</td>\n",
       "      <td>inf</td>\n",
       "    </tr>\n",
       "    <tr>\n",
       "      <th>961</th>\n",
       "      <td>(ADJ Rosy Sunglasses, Ebony Mixed Nuts)</td>\n",
       "      <td>(Better Fancy Canned Clams)</td>\n",
       "      <td>0.0001</td>\n",
       "      <td>0.0114</td>\n",
       "      <td>0.0001</td>\n",
       "      <td>1.000000</td>\n",
       "      <td>87.719298</td>\n",
       "      <td>0.000099</td>\n",
       "      <td>inf</td>\n",
       "    </tr>\n",
       "    <tr>\n",
       "      <th>...</th>\n",
       "      <td>...</td>\n",
       "      <td>...</td>\n",
       "      <td>...</td>\n",
       "      <td>...</td>\n",
       "      <td>...</td>\n",
       "      <td>...</td>\n",
       "      <td>...</td>\n",
       "      <td>...</td>\n",
       "      <td>...</td>\n",
       "    </tr>\n",
       "    <tr>\n",
       "      <th>2636</th>\n",
       "      <td>(Ebony Red Delcious Apples, Ebony Squash)</td>\n",
       "      <td>(Red Wing Tissues, Great English Muffins, Supe...</td>\n",
       "      <td>0.0002</td>\n",
       "      <td>0.0001</td>\n",
       "      <td>0.0001</td>\n",
       "      <td>0.500000</td>\n",
       "      <td>5000.000000</td>\n",
       "      <td>0.000100</td>\n",
       "      <td>1.99980</td>\n",
       "    </tr>\n",
       "    <tr>\n",
       "      <th>2637</th>\n",
       "      <td>(Ebony Red Delcious Apples, Super Grape Jam)</td>\n",
       "      <td>(Red Wing Tissues, Ebony Squash, Great English...</td>\n",
       "      <td>0.0006</td>\n",
       "      <td>0.0001</td>\n",
       "      <td>0.0001</td>\n",
       "      <td>0.166667</td>\n",
       "      <td>1666.666667</td>\n",
       "      <td>0.000100</td>\n",
       "      <td>1.19988</td>\n",
       "    </tr>\n",
       "    <tr>\n",
       "      <th>2638</th>\n",
       "      <td>(Great English Muffins, Ebony Squash)</td>\n",
       "      <td>(Red Wing Tissues, Ebony Red Delcious Apples, ...</td>\n",
       "      <td>0.0001</td>\n",
       "      <td>0.0001</td>\n",
       "      <td>0.0001</td>\n",
       "      <td>1.000000</td>\n",
       "      <td>10000.000000</td>\n",
       "      <td>0.000100</td>\n",
       "      <td>inf</td>\n",
       "    </tr>\n",
       "    <tr>\n",
       "      <th>2639</th>\n",
       "      <td>(Great English Muffins, Super Grape Jam)</td>\n",
       "      <td>(Red Wing Tissues, Ebony Red Delcious Apples, ...</td>\n",
       "      <td>0.0004</td>\n",
       "      <td>0.0001</td>\n",
       "      <td>0.0001</td>\n",
       "      <td>0.250000</td>\n",
       "      <td>2500.000000</td>\n",
       "      <td>0.000100</td>\n",
       "      <td>1.33320</td>\n",
       "    </tr>\n",
       "    <tr>\n",
       "      <th>2640</th>\n",
       "      <td>(Ebony Squash, Super Grape Jam)</td>\n",
       "      <td>(Red Wing Tissues, Ebony Red Delcious Apples, ...</td>\n",
       "      <td>0.0002</td>\n",
       "      <td>0.0001</td>\n",
       "      <td>0.0001</td>\n",
       "      <td>0.500000</td>\n",
       "      <td>5000.000000</td>\n",
       "      <td>0.000100</td>\n",
       "      <td>1.99980</td>\n",
       "    </tr>\n",
       "  </tbody>\n",
       "</table>\n",
       "<p>599 rows × 9 columns</p>\n",
       "</div>"
      ],
      "text/plain": [
       "                                            antecedents  \\\n",
       "948            (ADJ Rosy Sunglasses, Moms Potato Salad)   \n",
       "949   (ADJ Rosy Sunglasses, Better Chicken Noodle Soup)   \n",
       "954   (ADJ Rosy Sunglasses, Better Chicken Noodle Soup)   \n",
       "955          (ADJ Rosy Sunglasses, Special Wheat Puffs)   \n",
       "961             (ADJ Rosy Sunglasses, Ebony Mixed Nuts)   \n",
       "...                                                 ...   \n",
       "2636          (Ebony Red Delcious Apples, Ebony Squash)   \n",
       "2637       (Ebony Red Delcious Apples, Super Grape Jam)   \n",
       "2638              (Great English Muffins, Ebony Squash)   \n",
       "2639           (Great English Muffins, Super Grape Jam)   \n",
       "2640                    (Ebony Squash, Super Grape Jam)   \n",
       "\n",
       "                                            consequents  antecedent support  \\\n",
       "948                        (Better Chicken Noodle Soup)              0.0001   \n",
       "949                                 (Moms Potato Salad)              0.0001   \n",
       "954                               (Special Wheat Puffs)              0.0001   \n",
       "955                        (Better Chicken Noodle Soup)              0.0001   \n",
       "961                         (Better Fancy Canned Clams)              0.0001   \n",
       "...                                                 ...                 ...   \n",
       "2636  (Red Wing Tissues, Great English Muffins, Supe...              0.0002   \n",
       "2637  (Red Wing Tissues, Ebony Squash, Great English...              0.0006   \n",
       "2638  (Red Wing Tissues, Ebony Red Delcious Apples, ...              0.0001   \n",
       "2639  (Red Wing Tissues, Ebony Red Delcious Apples, ...              0.0004   \n",
       "2640  (Red Wing Tissues, Ebony Red Delcious Apples, ...              0.0002   \n",
       "\n",
       "      consequent support  support  confidence          lift  leverage  \\\n",
       "948               0.0120   0.0001    1.000000     83.333333  0.000099   \n",
       "949               0.0120   0.0001    1.000000     83.333333  0.000099   \n",
       "954               0.0124   0.0001    1.000000     80.645161  0.000099   \n",
       "955               0.0120   0.0001    1.000000     83.333333  0.000099   \n",
       "961               0.0114   0.0001    1.000000     87.719298  0.000099   \n",
       "...                  ...      ...         ...           ...       ...   \n",
       "2636              0.0001   0.0001    0.500000   5000.000000  0.000100   \n",
       "2637              0.0001   0.0001    0.166667   1666.666667  0.000100   \n",
       "2638              0.0001   0.0001    1.000000  10000.000000  0.000100   \n",
       "2639              0.0001   0.0001    0.250000   2500.000000  0.000100   \n",
       "2640              0.0001   0.0001    0.500000   5000.000000  0.000100   \n",
       "\n",
       "      conviction  \n",
       "948          inf  \n",
       "949          inf  \n",
       "954          inf  \n",
       "955          inf  \n",
       "961          inf  \n",
       "...          ...  \n",
       "2636     1.99980  \n",
       "2637     1.19988  \n",
       "2638         inf  \n",
       "2639     1.33320  \n",
       "2640     1.99980  \n",
       "\n",
       "[599 rows x 9 columns]"
      ]
     },
     "execution_count": 180,
     "metadata": {},
     "output_type": "execute_result"
    }
   ],
   "source": [
    "apriori_rules[ (apriori_rules['lift'] >= 50) & (apriori_rules['confidence'] >= 0.01) ]"
   ]
  },
  {
   "cell_type": "markdown",
   "id": "03e818c1",
   "metadata": {},
   "source": [
    "# Recommendations using Apriori Algorithm\n"
   ]
  },
  {
   "cell_type": "markdown",
   "id": "8754b617",
   "metadata": {},
   "source": [
    "### We now build a function based on Apriori Algorithm by using our `apriori_rules` dataset which we created above by filtering the highly correlated products with a lift>0 and confidence>0.01."
   ]
  },
  {
   "cell_type": "code",
   "execution_count": 181,
   "id": "685cfe03",
   "metadata": {},
   "outputs": [],
   "source": [
    "# We now build a function based on Apriori Algorithm by using our `apriori_rules` dataset which we created above \n",
    "# by filtering the highly correlated products with a lift>0 and confidence>0.01.\n",
    "\n",
    "def recommendations_using_Apriori(item):\n",
    "    recommend = []\n",
    "    for i in range(0,2646):\n",
    "        if item == apriori_rules.iloc[i,0]:\n",
    "            recommend.append(apriori_rules.iloc[i,1])\n",
    "    \n",
    "    return recommend"
   ]
  },
  {
   "cell_type": "markdown",
   "id": "312b5df0",
   "metadata": {},
   "source": [
    "### 10 recommendations for Big Time Frozen Cheese Pizza"
   ]
  },
  {
   "cell_type": "code",
   "execution_count": 182,
   "id": "a9e1d6b3",
   "metadata": {},
   "outputs": [
    {
     "name": "stdout",
     "output_type": "stream",
     "text": [
      "frozenset({'Big Time Pancake Mix'})\n",
      "frozenset({'Carrington Ice Cream'})\n",
      "frozenset({'Fabulous Orange Juice'})\n",
      "frozenset({'Framton City Map'})\n",
      "frozenset({'Hermanos Squash'})\n",
      "frozenset({'Hilltop Extra Moisture Shampoo'})\n",
      "frozenset({'Hilltop Silky Smooth Hair Conditioner'})\n",
      "frozenset({'Moms Beef Bologna'})\n",
      "frozenset({'Moms Potato Salad'})\n",
      "frozenset({'Skinner Strawberry Drink'})\n"
     ]
    }
   ],
   "source": [
    "product_name = {'Big Time Frozen Cheese Pizza'}\n",
    "recommentations=recommendations_using_Apriori(product_name)\n",
    "print(*recommentations[0:10], sep = \"\\n\")"
   ]
  },
  {
   "cell_type": "markdown",
   "id": "774077c9",
   "metadata": {},
   "source": [
    "## 10 recommendations for Hermanos Green Pepper"
   ]
  },
  {
   "cell_type": "code",
   "execution_count": 183,
   "id": "b87126ea",
   "metadata": {},
   "outputs": [
    {
     "name": "stdout",
     "output_type": "stream",
     "text": [
      "frozenset({'BBB Best Apple Butter'})\n",
      "frozenset({'Better Chicken Noodle Soup'})\n",
      "frozenset({'Better Chicken Ramen Soup'})\n",
      "frozenset({'Better Fancy Canned Clams'})\n",
      "frozenset({'Carlson Jack Cheese'})\n",
      "frozenset({'Great Pumpernickel Bread'})\n",
      "frozenset({'Hilltop Extra Moisture Shampoo'})\n",
      "frozenset({'Hilltop Silky Smooth Hair Conditioner'})\n",
      "frozenset({'Moms Potato Salad'})\n",
      "frozenset({'Steady 200 MG Acetominifen'})\n"
     ]
    }
   ],
   "source": [
    "product_name = {'Hermanos Green Pepper'}\n",
    "recommentations=recommendations_using_Apriori(product_name)\n",
    "print(*recommentations[0:10], sep = \"\\n\")"
   ]
  },
  {
   "cell_type": "markdown",
   "id": "c87c4a93",
   "metadata": {},
   "source": [
    "# Now let us look at Fpgrowth algorithm."
   ]
  },
  {
   "cell_type": "markdown",
   "id": "311d19ae",
   "metadata": {},
   "source": [
    "Let us first import the Fpgrowth libraries."
   ]
  },
  {
   "cell_type": "code",
   "execution_count": 184,
   "id": "63b12d98",
   "metadata": {},
   "outputs": [],
   "source": [
    "from mlxtend.frequent_patterns import fpgrowth"
   ]
  },
  {
   "cell_type": "markdown",
   "id": "ad001ece",
   "metadata": {},
   "source": [
    "### Going by the same logic as Apriori Algorithm tested above, we use a support of 0.01% and implement the Fpgrowth algorithm on our `dummy` dataset which we have already created."
   ]
  },
  {
   "cell_type": "code",
   "execution_count": 185,
   "id": "0163be3c",
   "metadata": {},
   "outputs": [
    {
     "data": {
      "text/html": [
       "<div>\n",
       "<style scoped>\n",
       "    .dataframe tbody tr th:only-of-type {\n",
       "        vertical-align: middle;\n",
       "    }\n",
       "\n",
       "    .dataframe tbody tr th {\n",
       "        vertical-align: top;\n",
       "    }\n",
       "\n",
       "    .dataframe thead th {\n",
       "        text-align: right;\n",
       "    }\n",
       "</style>\n",
       "<table border=\"1\" class=\"dataframe\">\n",
       "  <thead>\n",
       "    <tr style=\"text-align: right;\">\n",
       "      <th></th>\n",
       "      <th>support</th>\n",
       "      <th>itemsets</th>\n",
       "    </tr>\n",
       "  </thead>\n",
       "  <tbody>\n",
       "    <tr>\n",
       "      <th>0</th>\n",
       "      <td>0.0120</td>\n",
       "      <td>(Moms Potato Salad)</td>\n",
       "    </tr>\n",
       "    <tr>\n",
       "      <th>1</th>\n",
       "      <td>0.0136</td>\n",
       "      <td>(Great English Muffins)</td>\n",
       "    </tr>\n",
       "    <tr>\n",
       "      <th>2</th>\n",
       "      <td>0.0131</td>\n",
       "      <td>(Carlson Low Fat String Cheese)</td>\n",
       "    </tr>\n",
       "    <tr>\n",
       "      <th>3</th>\n",
       "      <td>0.0119</td>\n",
       "      <td>(Sunset Large Sponge)</td>\n",
       "    </tr>\n",
       "    <tr>\n",
       "      <th>4</th>\n",
       "      <td>0.0113</td>\n",
       "      <td>(Fabulous Apple Juice)</td>\n",
       "    </tr>\n",
       "    <tr>\n",
       "      <th>...</th>\n",
       "      <td>...</td>\n",
       "      <td>...</td>\n",
       "    </tr>\n",
       "    <tr>\n",
       "      <th>1626</th>\n",
       "      <td>0.0001</td>\n",
       "      <td>(Denny 60 Watt Lightbulb, Carrington Ice Cream...</td>\n",
       "    </tr>\n",
       "    <tr>\n",
       "      <th>1627</th>\n",
       "      <td>0.0001</td>\n",
       "      <td>(Carrington Ice Cream Sandwich, Steady Childre...</td>\n",
       "    </tr>\n",
       "    <tr>\n",
       "      <th>1628</th>\n",
       "      <td>0.0001</td>\n",
       "      <td>(Carrington Ice Cream Sandwich, Booker 1% Milk...</td>\n",
       "    </tr>\n",
       "    <tr>\n",
       "      <th>1629</th>\n",
       "      <td>0.0001</td>\n",
       "      <td>(Better Canned Tuna in Oil, Carrington Ice Cre...</td>\n",
       "    </tr>\n",
       "    <tr>\n",
       "      <th>1630</th>\n",
       "      <td>0.0001</td>\n",
       "      <td>(Fabulous Apple Juice, Carrington Ice Cream Sa...</td>\n",
       "    </tr>\n",
       "  </tbody>\n",
       "</table>\n",
       "<p>1631 rows × 2 columns</p>\n",
       "</div>"
      ],
      "text/plain": [
       "      support                                           itemsets\n",
       "0      0.0120                                (Moms Potato Salad)\n",
       "1      0.0136                            (Great English Muffins)\n",
       "2      0.0131                    (Carlson Low Fat String Cheese)\n",
       "3      0.0119                              (Sunset Large Sponge)\n",
       "4      0.0113                             (Fabulous Apple Juice)\n",
       "...       ...                                                ...\n",
       "1626   0.0001  (Denny 60 Watt Lightbulb, Carrington Ice Cream...\n",
       "1627   0.0001  (Carrington Ice Cream Sandwich, Steady Childre...\n",
       "1628   0.0001  (Carrington Ice Cream Sandwich, Booker 1% Milk...\n",
       "1629   0.0001  (Better Canned Tuna in Oil, Carrington Ice Cre...\n",
       "1630   0.0001  (Fabulous Apple Juice, Carrington Ice Cream Sa...\n",
       "\n",
       "[1631 rows x 2 columns]"
      ]
     },
     "execution_count": 185,
     "metadata": {},
     "output_type": "execute_result"
    }
   ],
   "source": [
    "freq_items=fpgrowth(dummy,min_support=.0001,use_colnames=True)\n",
    "freq_items"
   ]
  },
  {
   "cell_type": "markdown",
   "id": "2882dc64",
   "metadata": {},
   "source": [
    "### Association rules using Fpgrowth algorithm"
   ]
  },
  {
   "cell_type": "code",
   "execution_count": 186,
   "id": "8a2eecba",
   "metadata": {},
   "outputs": [],
   "source": [
    "fpgrowth_rules=association_rules(freq_items,metric=\"lift\",min_threshold=1)"
   ]
  },
  {
   "cell_type": "code",
   "execution_count": 187,
   "id": "93b646d9",
   "metadata": {},
   "outputs": [
    {
     "data": {
      "text/html": [
       "<div>\n",
       "<style scoped>\n",
       "    .dataframe tbody tr th:only-of-type {\n",
       "        vertical-align: middle;\n",
       "    }\n",
       "\n",
       "    .dataframe tbody tr th {\n",
       "        vertical-align: top;\n",
       "    }\n",
       "\n",
       "    .dataframe thead th {\n",
       "        text-align: right;\n",
       "    }\n",
       "</style>\n",
       "<table border=\"1\" class=\"dataframe\">\n",
       "  <thead>\n",
       "    <tr style=\"text-align: right;\">\n",
       "      <th></th>\n",
       "      <th>antecedents</th>\n",
       "      <th>consequents</th>\n",
       "      <th>antecedent support</th>\n",
       "      <th>consequent support</th>\n",
       "      <th>support</th>\n",
       "      <th>confidence</th>\n",
       "      <th>lift</th>\n",
       "      <th>leverage</th>\n",
       "      <th>conviction</th>\n",
       "    </tr>\n",
       "  </thead>\n",
       "  <tbody>\n",
       "    <tr>\n",
       "      <th>0</th>\n",
       "      <td>(Moms Potato Salad)</td>\n",
       "      <td>(Better Chicken Noodle Soup)</td>\n",
       "      <td>0.0120</td>\n",
       "      <td>0.0120</td>\n",
       "      <td>0.0002</td>\n",
       "      <td>0.016667</td>\n",
       "      <td>1.388889</td>\n",
       "      <td>0.000056</td>\n",
       "      <td>1.004746</td>\n",
       "    </tr>\n",
       "    <tr>\n",
       "      <th>1</th>\n",
       "      <td>(Better Chicken Noodle Soup)</td>\n",
       "      <td>(Moms Potato Salad)</td>\n",
       "      <td>0.0120</td>\n",
       "      <td>0.0120</td>\n",
       "      <td>0.0002</td>\n",
       "      <td>0.016667</td>\n",
       "      <td>1.388889</td>\n",
       "      <td>0.000056</td>\n",
       "      <td>1.004746</td>\n",
       "    </tr>\n",
       "    <tr>\n",
       "      <th>2</th>\n",
       "      <td>(Moms Potato Salad)</td>\n",
       "      <td>(Framton City Map)</td>\n",
       "      <td>0.0120</td>\n",
       "      <td>0.0126</td>\n",
       "      <td>0.0002</td>\n",
       "      <td>0.016667</td>\n",
       "      <td>1.322751</td>\n",
       "      <td>0.000049</td>\n",
       "      <td>1.004136</td>\n",
       "    </tr>\n",
       "    <tr>\n",
       "      <th>3</th>\n",
       "      <td>(Framton City Map)</td>\n",
       "      <td>(Moms Potato Salad)</td>\n",
       "      <td>0.0126</td>\n",
       "      <td>0.0120</td>\n",
       "      <td>0.0002</td>\n",
       "      <td>0.015873</td>\n",
       "      <td>1.322751</td>\n",
       "      <td>0.000049</td>\n",
       "      <td>1.003935</td>\n",
       "    </tr>\n",
       "    <tr>\n",
       "      <th>4</th>\n",
       "      <td>(Moms Potato Salad)</td>\n",
       "      <td>(Great Pumpernickel Bread)</td>\n",
       "      <td>0.0120</td>\n",
       "      <td>0.0138</td>\n",
       "      <td>0.0002</td>\n",
       "      <td>0.016667</td>\n",
       "      <td>1.207729</td>\n",
       "      <td>0.000034</td>\n",
       "      <td>1.002915</td>\n",
       "    </tr>\n",
       "    <tr>\n",
       "      <th>...</th>\n",
       "      <td>...</td>\n",
       "      <td>...</td>\n",
       "      <td>...</td>\n",
       "      <td>...</td>\n",
       "      <td>...</td>\n",
       "      <td>...</td>\n",
       "      <td>...</td>\n",
       "      <td>...</td>\n",
       "      <td>...</td>\n",
       "    </tr>\n",
       "    <tr>\n",
       "      <th>2641</th>\n",
       "      <td>(Fabulous Apple Juice, Better Fancy Canned Anc...</td>\n",
       "      <td>(Carrington Ice Cream Sandwich)</td>\n",
       "      <td>0.0001</td>\n",
       "      <td>0.0107</td>\n",
       "      <td>0.0001</td>\n",
       "      <td>1.000000</td>\n",
       "      <td>93.457944</td>\n",
       "      <td>0.000099</td>\n",
       "      <td>inf</td>\n",
       "    </tr>\n",
       "    <tr>\n",
       "      <th>2642</th>\n",
       "      <td>(Carrington Ice Cream Sandwich, Better Fancy C...</td>\n",
       "      <td>(Fabulous Apple Juice)</td>\n",
       "      <td>0.0004</td>\n",
       "      <td>0.0113</td>\n",
       "      <td>0.0001</td>\n",
       "      <td>0.250000</td>\n",
       "      <td>22.123894</td>\n",
       "      <td>0.000095</td>\n",
       "      <td>1.318267</td>\n",
       "    </tr>\n",
       "    <tr>\n",
       "      <th>2643</th>\n",
       "      <td>(Fabulous Apple Juice)</td>\n",
       "      <td>(Carrington Ice Cream Sandwich, Better Fancy C...</td>\n",
       "      <td>0.0113</td>\n",
       "      <td>0.0004</td>\n",
       "      <td>0.0001</td>\n",
       "      <td>0.008850</td>\n",
       "      <td>22.123894</td>\n",
       "      <td>0.000095</td>\n",
       "      <td>1.008525</td>\n",
       "    </tr>\n",
       "    <tr>\n",
       "      <th>2644</th>\n",
       "      <td>(Carrington Ice Cream Sandwich)</td>\n",
       "      <td>(Fabulous Apple Juice, Better Fancy Canned Anc...</td>\n",
       "      <td>0.0107</td>\n",
       "      <td>0.0001</td>\n",
       "      <td>0.0001</td>\n",
       "      <td>0.009346</td>\n",
       "      <td>93.457944</td>\n",
       "      <td>0.000099</td>\n",
       "      <td>1.009333</td>\n",
       "    </tr>\n",
       "    <tr>\n",
       "      <th>2645</th>\n",
       "      <td>(Better Fancy Canned Anchovies)</td>\n",
       "      <td>(Fabulous Apple Juice, Carrington Ice Cream Sa...</td>\n",
       "      <td>0.0122</td>\n",
       "      <td>0.0001</td>\n",
       "      <td>0.0001</td>\n",
       "      <td>0.008197</td>\n",
       "      <td>81.967213</td>\n",
       "      <td>0.000099</td>\n",
       "      <td>1.008164</td>\n",
       "    </tr>\n",
       "  </tbody>\n",
       "</table>\n",
       "<p>2646 rows × 9 columns</p>\n",
       "</div>"
      ],
      "text/plain": [
       "                                            antecedents  \\\n",
       "0                                   (Moms Potato Salad)   \n",
       "1                          (Better Chicken Noodle Soup)   \n",
       "2                                   (Moms Potato Salad)   \n",
       "3                                    (Framton City Map)   \n",
       "4                                   (Moms Potato Salad)   \n",
       "...                                                 ...   \n",
       "2641  (Fabulous Apple Juice, Better Fancy Canned Anc...   \n",
       "2642  (Carrington Ice Cream Sandwich, Better Fancy C...   \n",
       "2643                             (Fabulous Apple Juice)   \n",
       "2644                    (Carrington Ice Cream Sandwich)   \n",
       "2645                    (Better Fancy Canned Anchovies)   \n",
       "\n",
       "                                            consequents  antecedent support  \\\n",
       "0                          (Better Chicken Noodle Soup)              0.0120   \n",
       "1                                   (Moms Potato Salad)              0.0120   \n",
       "2                                    (Framton City Map)              0.0120   \n",
       "3                                   (Moms Potato Salad)              0.0126   \n",
       "4                            (Great Pumpernickel Bread)              0.0120   \n",
       "...                                                 ...                 ...   \n",
       "2641                    (Carrington Ice Cream Sandwich)              0.0001   \n",
       "2642                             (Fabulous Apple Juice)              0.0004   \n",
       "2643  (Carrington Ice Cream Sandwich, Better Fancy C...              0.0113   \n",
       "2644  (Fabulous Apple Juice, Better Fancy Canned Anc...              0.0107   \n",
       "2645  (Fabulous Apple Juice, Carrington Ice Cream Sa...              0.0122   \n",
       "\n",
       "      consequent support  support  confidence       lift  leverage  conviction  \n",
       "0                 0.0120   0.0002    0.016667   1.388889  0.000056    1.004746  \n",
       "1                 0.0120   0.0002    0.016667   1.388889  0.000056    1.004746  \n",
       "2                 0.0126   0.0002    0.016667   1.322751  0.000049    1.004136  \n",
       "3                 0.0120   0.0002    0.015873   1.322751  0.000049    1.003935  \n",
       "4                 0.0138   0.0002    0.016667   1.207729  0.000034    1.002915  \n",
       "...                  ...      ...         ...        ...       ...         ...  \n",
       "2641              0.0107   0.0001    1.000000  93.457944  0.000099         inf  \n",
       "2642              0.0113   0.0001    0.250000  22.123894  0.000095    1.318267  \n",
       "2643              0.0004   0.0001    0.008850  22.123894  0.000095    1.008525  \n",
       "2644              0.0001   0.0001    0.009346  93.457944  0.000099    1.009333  \n",
       "2645              0.0001   0.0001    0.008197  81.967213  0.000099    1.008164  \n",
       "\n",
       "[2646 rows x 9 columns]"
      ]
     },
     "execution_count": 187,
     "metadata": {},
     "output_type": "execute_result"
    }
   ],
   "source": [
    "fpgrowth_rules"
   ]
  },
  {
   "cell_type": "markdown",
   "id": "73760de3",
   "metadata": {},
   "source": [
    "## Recommendations using Fpgrowth algorithm\n"
   ]
  },
  {
   "cell_type": "code",
   "execution_count": 188,
   "id": "2297adfb",
   "metadata": {},
   "outputs": [],
   "source": [
    "def recommendations_using_Fpgrowth(item):\n",
    "    recommend = []\n",
    "    for i in range(0,2646):\n",
    "        if item == fpgrowth_rules.iloc[i,0]:\n",
    "            recommend.append(fpgrowth_rules.iloc[i,1])\n",
    "    \n",
    "    return recommend"
   ]
  },
  {
   "cell_type": "markdown",
   "id": "62092fe7",
   "metadata": {},
   "source": [
    "## 15 recommendations for `Special Wheat Puffs`."
   ]
  },
  {
   "cell_type": "code",
   "execution_count": 189,
   "id": "15cd2807",
   "metadata": {},
   "outputs": [
    {
     "name": "stdout",
     "output_type": "stream",
     "text": [
      "frozenset({'Moms Potato Salad', 'Better Chicken Noodle Soup'})\n",
      "frozenset({'Sunset Large Sponge'})\n",
      "frozenset({'Fabulous Apple Juice'})\n",
      "frozenset({'Hilltop Silky Smooth Hair Conditioner'})\n",
      "frozenset({'Hermanos Potatos'})\n",
      "frozenset({'Tell Tale Lettuce'})\n",
      "frozenset({'Hilltop Silky Smooth Hair Conditioner', 'Steady 200 MG Acetominifen'})\n",
      "frozenset({'Better Chicken Noodle Soup'})\n",
      "frozenset({'ADJ Rosy Sunglasses', 'Better Chicken Noodle Soup'})\n",
      "frozenset({'ADJ Rosy Sunglasses', 'Moms Potato Salad'})\n",
      "frozenset({'ADJ Rosy Sunglasses', 'Moms Potato Salad', 'Better Chicken Noodle Soup'})\n",
      "frozenset({'Nationeel Grape Fruit Roll'})\n",
      "frozenset({'Hermanos Potatos', 'Nationeel Grape Fruit Roll'})\n",
      "frozenset({'Hilltop Mint Mouthwash', 'Carrington Beef TV Dinner'})\n",
      "frozenset({'Fort West BBQ Potato Chips'})\n"
     ]
    }
   ],
   "source": [
    "product_name = {'Special Wheat Puffs'}\n",
    "recommentations=recommendations_using_Fpgrowth(product_name)\n",
    "print(*recommentations[0:15], sep = \"\\n\")"
   ]
  },
  {
   "cell_type": "markdown",
   "id": "8f123aea",
   "metadata": {},
   "source": [
    "### 15 recommendations for `Hermanos Squash`"
   ]
  },
  {
   "cell_type": "code",
   "execution_count": 190,
   "id": "9749af5a",
   "metadata": {},
   "outputs": [
    {
     "name": "stdout",
     "output_type": "stream",
     "text": [
      "frozenset({'BBB Best French Roast Coffee'})\n",
      "frozenset({'Carrington Ice Cream', 'BBB Best French Roast Coffee'})\n",
      "frozenset({'Framton City Map'})\n",
      "frozenset({'Big Time Frozen Cheese Pizza'})\n",
      "frozenset({'Big Time Frozen Cheese Pizza', 'Tell Tale Lettuce'})\n",
      "frozenset({'Hilltop Extra Moisture Shampoo'})\n",
      "frozenset({'Nationeel Dried Apples'})\n",
      "frozenset({'Better Fancy Canned Clams', 'Nationeel Dried Apples'})\n",
      "frozenset({'Nationeel Dried Apples', 'Red Wing Counter Cleaner'})\n",
      "frozenset({'Nationeel Dried Apples', 'Hilltop Extra Moisture Shampoo'})\n",
      "frozenset({'Nationeel Dried Apples', 'Red Wing Counter Cleaner', 'Hilltop Extra Moisture Shampoo'})\n",
      "frozenset({'Steady Whitening Toothpast'})\n",
      "frozenset({'Red Wing 60 Watt Lightbulb'})\n",
      "frozenset({'Steady 200 MG Acetominifen'})\n",
      "frozenset({'Skinner Strawberry Drink'})\n"
     ]
    }
   ],
   "source": [
    "product_name = {'Hermanos Squash'}\n",
    "recommentations=recommendations_using_Fpgrowth(product_name)\n",
    "print(*recommentations[0:15], sep = \"\\n\")"
   ]
  },
  {
   "cell_type": "markdown",
   "id": "cca3bbac",
   "metadata": {},
   "source": [
    "# Section 3: RFM Analysis"
   ]
  },
  {
   "cell_type": "markdown",
   "id": "1314911b",
   "metadata": {},
   "source": [
    "### Approach:\n",
    "First we construct an RFM (Recency Frequency and Monetary) score for all our customers. This would help us cluster customers based on High Loyalty, Medium Loyalty and Low Loyalty. We would also use customer demographic variables to describe our most loyal customers."
   ]
  },
  {
   "cell_type": "markdown",
   "id": "410d1543",
   "metadata": {},
   "source": [
    "#### We first start with `Recency` Score. For this we need to extract the most recent date. We use the `the_date` column to extract the most recent date of purchase in the dataset. We use this date as a reference to determine the number of days since the last purchase for each customer ID."
   ]
  },
  {
   "cell_type": "code",
   "execution_count": 191,
   "id": "99b4adab",
   "metadata": {},
   "outputs": [
    {
     "data": {
      "text/plain": [
       "Timestamp('1998-12-30 00:00:00')"
      ]
     },
     "execution_count": 191,
     "metadata": {},
     "output_type": "execute_result"
    }
   ],
   "source": [
    "import datetime as dt\n",
    "df['date'] = pd.to_datetime(df['the_date'])\n",
    "most_recent_date = df['date'].max()\n",
    "most_recent_date"
   ]
  },
  {
   "cell_type": "markdown",
   "id": "b77b451d",
   "metadata": {},
   "source": [
    "## Now we create an RFM score for each customer"
   ]
  },
  {
   "cell_type": "markdown",
   "id": "1465f3ed",
   "metadata": {},
   "source": [
    "**We use agg function to calculate the RFM score. We have three arguments inside the aggregate function which can be explained as follows:**\n",
    "\n",
    "1. Most recent date - last date of purchase for each customer: Indicates the number of days since the last purchase for each customerID.\n",
    "\n",
    "2. The `len` function indicates the number of transaction IDs for each customer, which indicates frequency of purchase for each customer.\n",
    "\n",
    "3. Finally, the sum function indicates the sum of all the store_sales for each customer, indicating monetary value contributed by each customer."
   ]
  },
  {
   "cell_type": "code",
   "execution_count": 192,
   "id": "c685a678",
   "metadata": {},
   "outputs": [
    {
     "data": {
      "text/html": [
       "<div>\n",
       "<style scoped>\n",
       "    .dataframe tbody tr th:only-of-type {\n",
       "        vertical-align: middle;\n",
       "    }\n",
       "\n",
       "    .dataframe tbody tr th {\n",
       "        vertical-align: top;\n",
       "    }\n",
       "\n",
       "    .dataframe thead th {\n",
       "        text-align: right;\n",
       "    }\n",
       "</style>\n",
       "<table border=\"1\" class=\"dataframe\">\n",
       "  <thead>\n",
       "    <tr style=\"text-align: right;\">\n",
       "      <th></th>\n",
       "      <th>customer_id</th>\n",
       "      <th>Recency</th>\n",
       "      <th>Frequency</th>\n",
       "      <th>Monetary</th>\n",
       "    </tr>\n",
       "  </thead>\n",
       "  <tbody>\n",
       "    <tr>\n",
       "      <th>0</th>\n",
       "      <td>3</td>\n",
       "      <td>257</td>\n",
       "      <td>30</td>\n",
       "      <td>203.17</td>\n",
       "    </tr>\n",
       "    <tr>\n",
       "      <th>1</th>\n",
       "      <td>5</td>\n",
       "      <td>725</td>\n",
       "      <td>1</td>\n",
       "      <td>1.08</td>\n",
       "    </tr>\n",
       "    <tr>\n",
       "      <th>2</th>\n",
       "      <td>6</td>\n",
       "      <td>14</td>\n",
       "      <td>16</td>\n",
       "      <td>147.71</td>\n",
       "    </tr>\n",
       "    <tr>\n",
       "      <th>3</th>\n",
       "      <td>8</td>\n",
       "      <td>33</td>\n",
       "      <td>42</td>\n",
       "      <td>259.14</td>\n",
       "    </tr>\n",
       "    <tr>\n",
       "      <th>4</th>\n",
       "      <td>9</td>\n",
       "      <td>82</td>\n",
       "      <td>13</td>\n",
       "      <td>89.58</td>\n",
       "    </tr>\n",
       "  </tbody>\n",
       "</table>\n",
       "</div>"
      ],
      "text/plain": [
       "   customer_id  Recency  Frequency  Monetary\n",
       "0            3      257         30    203.17\n",
       "1            5      725          1      1.08\n",
       "2            6       14         16    147.71\n",
       "3            8       33         42    259.14\n",
       "4            9       82         13     89.58"
      ]
     },
     "execution_count": 192,
     "metadata": {},
     "output_type": "execute_result"
    }
   ],
   "source": [
    "RFMScores = df.groupby('customer_id').agg({'date': lambda x: (most_recent_date - x.max()).days, 'transaction_id':lambda x: len(x),\n",
    "                                         'store_sales': lambda x: x.sum() })\n",
    "\n",
    "# Convert the 'date' column indicating Recency into int type.\n",
    "\n",
    "RFMScores['date']= RFMScores['date'].astype(int)\n",
    "\n",
    "# Rename the columns calculated above to indicate better interpretability.\n",
    "\n",
    "RFMScores.rename(columns = {'date': 'Recency',\n",
    "                           'transaction_id': 'Frequency',\n",
    "                           'store_sales': 'Monetary'}, inplace = True)\n",
    "\n",
    "\n",
    "RFMScores.reset_index().head()"
   ]
  },
  {
   "cell_type": "code",
   "execution_count": 193,
   "id": "70e95932",
   "metadata": {},
   "outputs": [
    {
     "data": {
      "text/plain": [
       "count    8842.000000\n",
       "mean      129.457476\n",
       "std       147.989675\n",
       "min         0.000000\n",
       "25%        23.000000\n",
       "50%        65.000000\n",
       "75%       188.000000\n",
       "max       728.000000\n",
       "Name: Recency, dtype: float64"
      ]
     },
     "execution_count": 193,
     "metadata": {},
     "output_type": "execute_result"
    }
   ],
   "source": [
    "RFMScores.Recency.describe()"
   ]
  },
  {
   "cell_type": "code",
   "execution_count": 194,
   "id": "3c3507bd",
   "metadata": {},
   "outputs": [
    {
     "name": "stderr",
     "output_type": "stream",
     "text": [
      "/opt/conda/lib/python3.7/site-packages/seaborn/distributions.py:2619: FutureWarning: `distplot` is a deprecated function and will be removed in a future version. Please adapt your code to use either `displot` (a figure-level function with similar flexibility) or `histplot` (an axes-level function for histograms).\n",
      "  warnings.warn(msg, FutureWarning)\n"
     ]
    },
    {
     "data": {
      "image/png": "[encoded data removed]",
      "text/plain": [
       "<Figure size 432x288 with 1 Axes>"
      ]
     },
     "metadata": {
      "needs_background": "light"
     },
     "output_type": "display_data"
    }
   ],
   "source": [
    "# Recency distribution plot\n",
    "import seaborn as sns\n",
    "x = RFMScores['Recency']\n",
    "ax = sns.distplot(x)"
   ]
  },
  {
   "cell_type": "markdown",
   "id": "d0b332e1",
   "metadata": {},
   "source": [
    "### The above histogram indicates that most of the customers have last visited the store in less than 100 days. However we also see some customers whose last purchase date was more than 6 months ago. These customers are probably churning out. Hence one of the objectives for the business woud be to convert these churning customers into regular customers."
   ]
  },
  {
   "cell_type": "code",
   "execution_count": 195,
   "id": "3d450951",
   "metadata": {},
   "outputs": [
    {
     "data": {
      "text/plain": [
       "count    8842.000000\n",
       "mean       30.504411\n",
       "std        35.648668\n",
       "min         1.000000\n",
       "25%        10.000000\n",
       "50%        18.000000\n",
       "75%        35.000000\n",
       "max       301.000000\n",
       "Name: Frequency, dtype: float64"
      ]
     },
     "execution_count": 195,
     "metadata": {},
     "output_type": "execute_result"
    }
   ],
   "source": [
    "#Descriptive Statistics (Frequency)\n",
    "RFMScores.Frequency.describe()"
   ]
  },
  {
   "cell_type": "code",
   "execution_count": 196,
   "id": "458efefd",
   "metadata": {},
   "outputs": [
    {
     "name": "stderr",
     "output_type": "stream",
     "text": [
      "/opt/conda/lib/python3.7/site-packages/seaborn/distributions.py:2619: FutureWarning: `distplot` is a deprecated function and will be removed in a future version. Please adapt your code to use either `displot` (a figure-level function with similar flexibility) or `histplot` (an axes-level function for histograms).\n",
      "  warnings.warn(msg, FutureWarning)\n"
     ]
    },
    {
     "data": {
      "image/png": "[encoded data removed]",
      "text/plain": [
       "<Figure size 432x288 with 1 Axes>"
      ]
     },
     "metadata": {
      "needs_background": "light"
     },
     "output_type": "display_data"
    }
   ],
   "source": [
    "#Frequency distribution plot, taking observations which have frequency less than 1000\n",
    "import seaborn as sns\n",
    "x = RFMScores['Frequency']\n",
    "\n",
    "ax = sns.distplot(x)"
   ]
  },
  {
   "cell_type": "markdown",
   "id": "0d213292",
   "metadata": {},
   "source": [
    "#### Again we see a majority of customers who visited the store between 0 - 50 times. Now here, we see some customers whose frequency of visit is more than 50 times. This is a great opportunity for the business, since these customers are extremely loyal customers, since they visit the store more frequently. It is worthwhile for the business to increase customer satisfaction among these customers through strategies like cost effective shipping, better quality, better packaging, bundling products together, etc."
   ]
  },
  {
   "cell_type": "code",
   "execution_count": 197,
   "id": "4c5c9a8a",
   "metadata": {},
   "outputs": [
    {
     "data": {
      "text/plain": [
       "count    8842.000000\n",
       "mean      199.564176\n",
       "std       241.577220\n",
       "min         0.570000\n",
       "25%        57.732500\n",
       "50%       119.245000\n",
       "75%       231.152500\n",
       "max      2235.430000\n",
       "Name: Monetary, dtype: float64"
      ]
     },
     "execution_count": 197,
     "metadata": {},
     "output_type": "execute_result"
    }
   ],
   "source": [
    "\n",
    "#Descriptive Statistics (Monetary)\n",
    "RFMScores.Monetary.describe()"
   ]
  },
  {
   "cell_type": "code",
   "execution_count": 198,
   "id": "8a984cfb",
   "metadata": {},
   "outputs": [
    {
     "name": "stderr",
     "output_type": "stream",
     "text": [
      "/opt/conda/lib/python3.7/site-packages/seaborn/distributions.py:2619: FutureWarning: `distplot` is a deprecated function and will be removed in a future version. Please adapt your code to use either `displot` (a figure-level function with similar flexibility) or `histplot` (an axes-level function for histograms).\n",
      "  warnings.warn(msg, FutureWarning)\n"
     ]
    },
    {
     "data": {
      "image/png": "[encoded data removed]",
      "text/plain": [
       "<Figure size 432x288 with 1 Axes>"
      ]
     },
     "metadata": {
      "needs_background": "light"
     },
     "output_type": "display_data"
    }
   ],
   "source": [
    "\n",
    "#Monateray distribution plot, taking observations which have monetary value less than 10000\n",
    "import seaborn as sns\n",
    "x = RFMScores.query('Monetary < 10000')['Monetary']\n",
    "\n",
    "ax = sns.distplot(x)"
   ]
  },
  {
   "cell_type": "markdown",
   "id": "8cdaddff",
   "metadata": {},
   "source": [
    "#### The histogram indicates that a majority of customers contribute a monetary value of less than 500, but there are some high value customers with a monetary value of greater than 500. These are most important for the business."
   ]
  },
  {
   "cell_type": "markdown",
   "id": "72dce1ac",
   "metadata": {},
   "source": [
    "Now that we have identified the recency, frequency and the monetary value of each customer, the next step is to combine these measures to create a composite RFM score. For this purpose, we first divide our customer base into four parts using quantiles."
   ]
  },
  {
   "cell_type": "code",
   "execution_count": 199,
   "id": "92e3cbb9",
   "metadata": {},
   "outputs": [
    {
     "data": {
      "text/plain": [
       "{'Recency': {0.25: 23.0, 0.5: 65.0, 0.75: 188.0},\n",
       " 'Frequency': {0.25: 10.0, 0.5: 18.0, 0.75: 35.0},\n",
       " 'Monetary': {0.25: 57.7325, 0.5: 119.245, 0.75: 231.1525}}"
      ]
     },
     "execution_count": 199,
     "metadata": {},
     "output_type": "execute_result"
    }
   ],
   "source": [
    "#Split into four segments using quantiles\n",
    "quantiles = RFMScores.quantile(q=[0.25,0.5,0.75])\n",
    "quantiles = quantiles.to_dict()\n",
    "quantiles"
   ]
  },
  {
   "cell_type": "markdown",
   "id": "e2845bb3",
   "metadata": {},
   "source": [
    "We define two different functions, R Scoring and FnMScoring to classify the customers based on the quantiles discussed above. This is because the most Recent customers with recency of less than 25th pecentile, get a higher rank of 1 while the oldest customers with recency greater than 75th percentile get a lower rank of 4.\n",
    "\n",
    "\n",
    "Likewise, the more frequent customers get a higher rank of 1 while the least frequent customer, based on the quantile gets a lower rank of 4.\n",
    "\n",
    "Thus, based on the recency, frequency and monetary value, we have identified 4 separate groups of customers and we have assigned a value between 1 to 4, where 1 = highest rank while 4 = lowest rank. Customers with a score of 1 are the best customers while those with a score of 4 are the worst customers."
   ]
  },
  {
   "cell_type": "code",
   "execution_count": 200,
   "id": "58ddb628",
   "metadata": {},
   "outputs": [],
   "source": [
    "\n",
    "#Functions to create R, F and M segments\n",
    "def RScoring(x,p,d):\n",
    "    if x <= d[p][0.25]:\n",
    "        return 1\n",
    "    elif x <= d[p][0.50]:\n",
    "        return 2\n",
    "    elif x <= d[p][0.75]: \n",
    "        return 3\n",
    "    else:\n",
    "        return 4\n",
    "    \n",
    "def FnMScoring(x,p,d):\n",
    "    if x <= d[p][0.25]:\n",
    "        return 4\n",
    "    elif x <= d[p][0.50]:\n",
    "        return 3\n",
    "    elif x <= d[p][0.75]: \n",
    "        return 2\n",
    "    else:\n",
    "        return 1\n"
   ]
  },
  {
   "cell_type": "markdown",
   "id": "4529f14a",
   "metadata": {},
   "source": [
    "Using the quantiles that we calculated in the above two cells and the function that we created just above, we create a score for each customer in terms of recency, frequency and the monetary values."
   ]
  },
  {
   "cell_type": "code",
   "execution_count": 201,
   "id": "8f0a603f",
   "metadata": {},
   "outputs": [
    {
     "data": {
      "text/html": [
       "<div>\n",
       "<style scoped>\n",
       "    .dataframe tbody tr th:only-of-type {\n",
       "        vertical-align: middle;\n",
       "    }\n",
       "\n",
       "    .dataframe tbody tr th {\n",
       "        vertical-align: top;\n",
       "    }\n",
       "\n",
       "    .dataframe thead th {\n",
       "        text-align: right;\n",
       "    }\n",
       "</style>\n",
       "<table border=\"1\" class=\"dataframe\">\n",
       "  <thead>\n",
       "    <tr style=\"text-align: right;\">\n",
       "      <th></th>\n",
       "      <th>Recency</th>\n",
       "      <th>Frequency</th>\n",
       "      <th>Monetary</th>\n",
       "      <th>R</th>\n",
       "      <th>F</th>\n",
       "      <th>M</th>\n",
       "    </tr>\n",
       "    <tr>\n",
       "      <th>customer_id</th>\n",
       "      <th></th>\n",
       "      <th></th>\n",
       "      <th></th>\n",
       "      <th></th>\n",
       "      <th></th>\n",
       "      <th></th>\n",
       "    </tr>\n",
       "  </thead>\n",
       "  <tbody>\n",
       "    <tr>\n",
       "      <th>3</th>\n",
       "      <td>257</td>\n",
       "      <td>30</td>\n",
       "      <td>203.17</td>\n",
       "      <td>4</td>\n",
       "      <td>2</td>\n",
       "      <td>2</td>\n",
       "    </tr>\n",
       "    <tr>\n",
       "      <th>5</th>\n",
       "      <td>725</td>\n",
       "      <td>1</td>\n",
       "      <td>1.08</td>\n",
       "      <td>4</td>\n",
       "      <td>4</td>\n",
       "      <td>4</td>\n",
       "    </tr>\n",
       "    <tr>\n",
       "      <th>6</th>\n",
       "      <td>14</td>\n",
       "      <td>16</td>\n",
       "      <td>147.71</td>\n",
       "      <td>1</td>\n",
       "      <td>3</td>\n",
       "      <td>2</td>\n",
       "    </tr>\n",
       "    <tr>\n",
       "      <th>8</th>\n",
       "      <td>33</td>\n",
       "      <td>42</td>\n",
       "      <td>259.14</td>\n",
       "      <td>2</td>\n",
       "      <td>1</td>\n",
       "      <td>1</td>\n",
       "    </tr>\n",
       "    <tr>\n",
       "      <th>9</th>\n",
       "      <td>82</td>\n",
       "      <td>13</td>\n",
       "      <td>89.58</td>\n",
       "      <td>3</td>\n",
       "      <td>3</td>\n",
       "      <td>3</td>\n",
       "    </tr>\n",
       "  </tbody>\n",
       "</table>\n",
       "</div>"
      ],
      "text/plain": [
       "             Recency  Frequency  Monetary  R  F  M\n",
       "customer_id                                       \n",
       "3                257         30    203.17  4  2  2\n",
       "5                725          1      1.08  4  4  4\n",
       "6                 14         16    147.71  1  3  2\n",
       "8                 33         42    259.14  2  1  1\n",
       "9                 82         13     89.58  3  3  3"
      ]
     },
     "execution_count": 201,
     "metadata": {},
     "output_type": "execute_result"
    }
   ],
   "source": [
    "#Calculate Add R, F and M segment value columns in the existing dataset to show R, F and M segment values\n",
    "RFMScores['R'] = RFMScores['Recency'].apply(RScoring, args=('Recency',quantiles,))\n",
    "RFMScores['F'] = RFMScores['Frequency'].apply(FnMScoring, args=('Frequency',quantiles,))\n",
    "RFMScores['M'] = RFMScores['Monetary'].apply(FnMScoring, args=('Monetary',quantiles,))\n",
    "RFMScores.head()\n"
   ]
  },
  {
   "cell_type": "markdown",
   "id": "cc7b65de",
   "metadata": {},
   "source": [
    "We now combine the scores that we calculated above to create a composite score by concatenating the individual R, F and M scores that we calculated above and then adding them up as shown below."
   ]
  },
  {
   "cell_type": "code",
   "execution_count": 202,
   "id": "9959aaa6",
   "metadata": {},
   "outputs": [
    {
     "data": {
      "text/html": [
       "<div>\n",
       "<style scoped>\n",
       "    .dataframe tbody tr th:only-of-type {\n",
       "        vertical-align: middle;\n",
       "    }\n",
       "\n",
       "    .dataframe tbody tr th {\n",
       "        vertical-align: top;\n",
       "    }\n",
       "\n",
       "    .dataframe thead th {\n",
       "        text-align: right;\n",
       "    }\n",
       "</style>\n",
       "<table border=\"1\" class=\"dataframe\">\n",
       "  <thead>\n",
       "    <tr style=\"text-align: right;\">\n",
       "      <th></th>\n",
       "      <th>Recency</th>\n",
       "      <th>Frequency</th>\n",
       "      <th>Monetary</th>\n",
       "      <th>R</th>\n",
       "      <th>F</th>\n",
       "      <th>M</th>\n",
       "      <th>RFMGroup</th>\n",
       "      <th>RFMScore</th>\n",
       "    </tr>\n",
       "    <tr>\n",
       "      <th>customer_id</th>\n",
       "      <th></th>\n",
       "      <th></th>\n",
       "      <th></th>\n",
       "      <th></th>\n",
       "      <th></th>\n",
       "      <th></th>\n",
       "      <th></th>\n",
       "      <th></th>\n",
       "    </tr>\n",
       "  </thead>\n",
       "  <tbody>\n",
       "    <tr>\n",
       "      <th>3</th>\n",
       "      <td>257</td>\n",
       "      <td>30</td>\n",
       "      <td>203.17</td>\n",
       "      <td>4</td>\n",
       "      <td>2</td>\n",
       "      <td>2</td>\n",
       "      <td>422</td>\n",
       "      <td>8</td>\n",
       "    </tr>\n",
       "    <tr>\n",
       "      <th>5</th>\n",
       "      <td>725</td>\n",
       "      <td>1</td>\n",
       "      <td>1.08</td>\n",
       "      <td>4</td>\n",
       "      <td>4</td>\n",
       "      <td>4</td>\n",
       "      <td>444</td>\n",
       "      <td>12</td>\n",
       "    </tr>\n",
       "    <tr>\n",
       "      <th>6</th>\n",
       "      <td>14</td>\n",
       "      <td>16</td>\n",
       "      <td>147.71</td>\n",
       "      <td>1</td>\n",
       "      <td>3</td>\n",
       "      <td>2</td>\n",
       "      <td>132</td>\n",
       "      <td>6</td>\n",
       "    </tr>\n",
       "    <tr>\n",
       "      <th>8</th>\n",
       "      <td>33</td>\n",
       "      <td>42</td>\n",
       "      <td>259.14</td>\n",
       "      <td>2</td>\n",
       "      <td>1</td>\n",
       "      <td>1</td>\n",
       "      <td>211</td>\n",
       "      <td>4</td>\n",
       "    </tr>\n",
       "    <tr>\n",
       "      <th>9</th>\n",
       "      <td>82</td>\n",
       "      <td>13</td>\n",
       "      <td>89.58</td>\n",
       "      <td>3</td>\n",
       "      <td>3</td>\n",
       "      <td>3</td>\n",
       "      <td>333</td>\n",
       "      <td>9</td>\n",
       "    </tr>\n",
       "  </tbody>\n",
       "</table>\n",
       "</div>"
      ],
      "text/plain": [
       "             Recency  Frequency  Monetary  R  F  M RFMGroup  RFMScore\n",
       "customer_id                                                          \n",
       "3                257         30    203.17  4  2  2      422         8\n",
       "5                725          1      1.08  4  4  4      444        12\n",
       "6                 14         16    147.71  1  3  2      132         6\n",
       "8                 33         42    259.14  2  1  1      211         4\n",
       "9                 82         13     89.58  3  3  3      333         9"
      ]
     },
     "execution_count": 202,
     "metadata": {},
     "output_type": "execute_result"
    }
   ],
   "source": [
    "\n",
    "#Calculate and Add RFMGroup value column showing combined concatenated score of RFM\n",
    "RFMScores['RFMGroup'] = RFMScores.R.map(str) + RFMScores.F.map(str) + RFMScores.M.map(str)\n",
    "\n",
    "#Calculate and Add RFMScore value column showing total sum of RFMGroup values\n",
    "RFMScores['RFMScore'] = RFMScores[['R', 'F', 'M']].sum(axis = 1)\n",
    "RFMScores.head()"
   ]
  },
  {
   "cell_type": "markdown",
   "id": "39bcbd61",
   "metadata": {},
   "source": [
    "#### We now classify our customers into Platinum, Gold, Silver and Bronze customers based on the RFM Score that we calculated above."
   ]
  },
  {
   "cell_type": "code",
   "execution_count": 203,
   "id": "fa8d46b1",
   "metadata": {},
   "outputs": [
    {
     "data": {
      "text/html": [
       "<div>\n",
       "<style scoped>\n",
       "    .dataframe tbody tr th:only-of-type {\n",
       "        vertical-align: middle;\n",
       "    }\n",
       "\n",
       "    .dataframe tbody tr th {\n",
       "        vertical-align: top;\n",
       "    }\n",
       "\n",
       "    .dataframe thead th {\n",
       "        text-align: right;\n",
       "    }\n",
       "</style>\n",
       "<table border=\"1\" class=\"dataframe\">\n",
       "  <thead>\n",
       "    <tr style=\"text-align: right;\">\n",
       "      <th></th>\n",
       "      <th>customer_id</th>\n",
       "      <th>Recency</th>\n",
       "      <th>Frequency</th>\n",
       "      <th>Monetary</th>\n",
       "      <th>R</th>\n",
       "      <th>F</th>\n",
       "      <th>M</th>\n",
       "      <th>RFMGroup</th>\n",
       "      <th>RFMScore</th>\n",
       "      <th>RFM_Loyalty_Level</th>\n",
       "    </tr>\n",
       "  </thead>\n",
       "  <tbody>\n",
       "    <tr>\n",
       "      <th>0</th>\n",
       "      <td>3</td>\n",
       "      <td>257</td>\n",
       "      <td>30</td>\n",
       "      <td>203.17</td>\n",
       "      <td>4</td>\n",
       "      <td>2</td>\n",
       "      <td>2</td>\n",
       "      <td>422</td>\n",
       "      <td>8</td>\n",
       "      <td>Gold</td>\n",
       "    </tr>\n",
       "    <tr>\n",
       "      <th>1</th>\n",
       "      <td>5</td>\n",
       "      <td>725</td>\n",
       "      <td>1</td>\n",
       "      <td>1.08</td>\n",
       "      <td>4</td>\n",
       "      <td>4</td>\n",
       "      <td>4</td>\n",
       "      <td>444</td>\n",
       "      <td>12</td>\n",
       "      <td>Bronze</td>\n",
       "    </tr>\n",
       "    <tr>\n",
       "      <th>2</th>\n",
       "      <td>6</td>\n",
       "      <td>14</td>\n",
       "      <td>16</td>\n",
       "      <td>147.71</td>\n",
       "      <td>1</td>\n",
       "      <td>3</td>\n",
       "      <td>2</td>\n",
       "      <td>132</td>\n",
       "      <td>6</td>\n",
       "      <td>Gold</td>\n",
       "    </tr>\n",
       "    <tr>\n",
       "      <th>3</th>\n",
       "      <td>8</td>\n",
       "      <td>33</td>\n",
       "      <td>42</td>\n",
       "      <td>259.14</td>\n",
       "      <td>2</td>\n",
       "      <td>1</td>\n",
       "      <td>1</td>\n",
       "      <td>211</td>\n",
       "      <td>4</td>\n",
       "      <td>Platinum</td>\n",
       "    </tr>\n",
       "    <tr>\n",
       "      <th>4</th>\n",
       "      <td>9</td>\n",
       "      <td>82</td>\n",
       "      <td>13</td>\n",
       "      <td>89.58</td>\n",
       "      <td>3</td>\n",
       "      <td>3</td>\n",
       "      <td>3</td>\n",
       "      <td>333</td>\n",
       "      <td>9</td>\n",
       "      <td>Silver</td>\n",
       "    </tr>\n",
       "  </tbody>\n",
       "</table>\n",
       "</div>"
      ],
      "text/plain": [
       "   customer_id  Recency  Frequency  Monetary  R  F  M RFMGroup  RFMScore  \\\n",
       "0            3      257         30    203.17  4  2  2      422         8   \n",
       "1            5      725          1      1.08  4  4  4      444        12   \n",
       "2            6       14         16    147.71  1  3  2      132         6   \n",
       "3            8       33         42    259.14  2  1  1      211         4   \n",
       "4            9       82         13     89.58  3  3  3      333         9   \n",
       "\n",
       "  RFM_Loyalty_Level  \n",
       "0              Gold  \n",
       "1            Bronze  \n",
       "2              Gold  \n",
       "3          Platinum  \n",
       "4            Silver  "
      ]
     },
     "execution_count": 203,
     "metadata": {},
     "output_type": "execute_result"
    }
   ],
   "source": [
    "#Assign Loyalty Level to each customer\n",
    "Loyalty_Level = ['Platinum', 'Gold', 'Silver', 'Bronze']\n",
    "Score_cuts = pd.qcut(RFMScores.RFMScore, q = 4, labels = Loyalty_Level)\n",
    "RFMScores['RFM_Loyalty_Level'] = Score_cuts.values\n",
    "RFMScores.reset_index().head()\n"
   ]
  },
  {
   "cell_type": "markdown",
   "id": "cb3ece42",
   "metadata": {},
   "source": [
    "We now have to validate the scores that we calculated. So we check the values for our Platinum group of customers. We can observe from the below table that Platinum customers generally show lower numbers in terms of Recency and higher numbers in terms of Frequency and Monetary values."
   ]
  },
  {
   "cell_type": "code",
   "execution_count": 204,
   "id": "79d0fcac",
   "metadata": {},
   "outputs": [
    {
     "data": {
      "text/html": [
       "<div>\n",
       "<style scoped>\n",
       "    .dataframe tbody tr th:only-of-type {\n",
       "        vertical-align: middle;\n",
       "    }\n",
       "\n",
       "    .dataframe tbody tr th {\n",
       "        vertical-align: top;\n",
       "    }\n",
       "\n",
       "    .dataframe thead th {\n",
       "        text-align: right;\n",
       "    }\n",
       "</style>\n",
       "<table border=\"1\" class=\"dataframe\">\n",
       "  <thead>\n",
       "    <tr style=\"text-align: right;\">\n",
       "      <th></th>\n",
       "      <th>customer_id</th>\n",
       "      <th>Recency</th>\n",
       "      <th>Frequency</th>\n",
       "      <th>Monetary</th>\n",
       "      <th>R</th>\n",
       "      <th>F</th>\n",
       "      <th>M</th>\n",
       "      <th>RFMGroup</th>\n",
       "      <th>RFMScore</th>\n",
       "      <th>RFM_Loyalty_Level</th>\n",
       "    </tr>\n",
       "  </thead>\n",
       "  <tbody>\n",
       "    <tr>\n",
       "      <th>0</th>\n",
       "      <td>5295</td>\n",
       "      <td>16</td>\n",
       "      <td>290</td>\n",
       "      <td>2235.43</td>\n",
       "      <td>1</td>\n",
       "      <td>1</td>\n",
       "      <td>1</td>\n",
       "      <td>111</td>\n",
       "      <td>3</td>\n",
       "      <td>Platinum</td>\n",
       "    </tr>\n",
       "    <tr>\n",
       "      <th>1</th>\n",
       "      <td>4727</td>\n",
       "      <td>3</td>\n",
       "      <td>297</td>\n",
       "      <td>2121.31</td>\n",
       "      <td>1</td>\n",
       "      <td>1</td>\n",
       "      <td>1</td>\n",
       "      <td>111</td>\n",
       "      <td>3</td>\n",
       "      <td>Platinum</td>\n",
       "    </tr>\n",
       "    <tr>\n",
       "      <th>2</th>\n",
       "      <td>4676</td>\n",
       "      <td>3</td>\n",
       "      <td>301</td>\n",
       "      <td>1995.21</td>\n",
       "      <td>1</td>\n",
       "      <td>1</td>\n",
       "      <td>1</td>\n",
       "      <td>111</td>\n",
       "      <td>3</td>\n",
       "      <td>Platinum</td>\n",
       "    </tr>\n",
       "    <tr>\n",
       "      <th>3</th>\n",
       "      <td>8452</td>\n",
       "      <td>16</td>\n",
       "      <td>233</td>\n",
       "      <td>1955.25</td>\n",
       "      <td>1</td>\n",
       "      <td>1</td>\n",
       "      <td>1</td>\n",
       "      <td>111</td>\n",
       "      <td>3</td>\n",
       "      <td>Platinum</td>\n",
       "    </tr>\n",
       "    <tr>\n",
       "      <th>4</th>\n",
       "      <td>1720</td>\n",
       "      <td>3</td>\n",
       "      <td>260</td>\n",
       "      <td>1907.90</td>\n",
       "      <td>1</td>\n",
       "      <td>1</td>\n",
       "      <td>1</td>\n",
       "      <td>111</td>\n",
       "      <td>3</td>\n",
       "      <td>Platinum</td>\n",
       "    </tr>\n",
       "    <tr>\n",
       "      <th>5</th>\n",
       "      <td>4391</td>\n",
       "      <td>3</td>\n",
       "      <td>257</td>\n",
       "      <td>1776.27</td>\n",
       "      <td>1</td>\n",
       "      <td>1</td>\n",
       "      <td>1</td>\n",
       "      <td>111</td>\n",
       "      <td>3</td>\n",
       "      <td>Platinum</td>\n",
       "    </tr>\n",
       "    <tr>\n",
       "      <th>6</th>\n",
       "      <td>1787</td>\n",
       "      <td>4</td>\n",
       "      <td>279</td>\n",
       "      <td>1763.58</td>\n",
       "      <td>1</td>\n",
       "      <td>1</td>\n",
       "      <td>1</td>\n",
       "      <td>111</td>\n",
       "      <td>3</td>\n",
       "      <td>Platinum</td>\n",
       "    </tr>\n",
       "    <tr>\n",
       "      <th>7</th>\n",
       "      <td>5174</td>\n",
       "      <td>3</td>\n",
       "      <td>267</td>\n",
       "      <td>1750.14</td>\n",
       "      <td>1</td>\n",
       "      <td>1</td>\n",
       "      <td>1</td>\n",
       "      <td>111</td>\n",
       "      <td>3</td>\n",
       "      <td>Platinum</td>\n",
       "    </tr>\n",
       "    <tr>\n",
       "      <th>8</th>\n",
       "      <td>5466</td>\n",
       "      <td>7</td>\n",
       "      <td>224</td>\n",
       "      <td>1716.15</td>\n",
       "      <td>1</td>\n",
       "      <td>1</td>\n",
       "      <td>1</td>\n",
       "      <td>111</td>\n",
       "      <td>3</td>\n",
       "      <td>Platinum</td>\n",
       "    </tr>\n",
       "    <tr>\n",
       "      <th>9</th>\n",
       "      <td>4767</td>\n",
       "      <td>3</td>\n",
       "      <td>221</td>\n",
       "      <td>1628.36</td>\n",
       "      <td>1</td>\n",
       "      <td>1</td>\n",
       "      <td>1</td>\n",
       "      <td>111</td>\n",
       "      <td>3</td>\n",
       "      <td>Platinum</td>\n",
       "    </tr>\n",
       "  </tbody>\n",
       "</table>\n",
       "</div>"
      ],
      "text/plain": [
       "   customer_id  Recency  Frequency  Monetary  R  F  M RFMGroup  RFMScore  \\\n",
       "0         5295       16        290   2235.43  1  1  1      111         3   \n",
       "1         4727        3        297   2121.31  1  1  1      111         3   \n",
       "2         4676        3        301   1995.21  1  1  1      111         3   \n",
       "3         8452       16        233   1955.25  1  1  1      111         3   \n",
       "4         1720        3        260   1907.90  1  1  1      111         3   \n",
       "5         4391        3        257   1776.27  1  1  1      111         3   \n",
       "6         1787        4        279   1763.58  1  1  1      111         3   \n",
       "7         5174        3        267   1750.14  1  1  1      111         3   \n",
       "8         5466        7        224   1716.15  1  1  1      111         3   \n",
       "9         4767        3        221   1628.36  1  1  1      111         3   \n",
       "\n",
       "  RFM_Loyalty_Level  \n",
       "0          Platinum  \n",
       "1          Platinum  \n",
       "2          Platinum  \n",
       "3          Platinum  \n",
       "4          Platinum  \n",
       "5          Platinum  \n",
       "6          Platinum  \n",
       "7          Platinum  \n",
       "8          Platinum  \n",
       "9          Platinum  "
      ]
     },
     "execution_count": 204,
     "metadata": {},
     "output_type": "execute_result"
    }
   ],
   "source": [
    "#Validate the data for RFMGroup = 111\n",
    "RFMScores[RFMScores['RFMGroup']=='111'].sort_values('Monetary', ascending=False).reset_index().head(10)"
   ]
  },
  {
   "cell_type": "markdown",
   "id": "d1642cfa",
   "metadata": {},
   "source": [
    "   ### Now that we have classified our customers and identified our High value and Low value customers, it is time to do a thorough Exploratory Data Analysis for each of these groups of customers. This will help the business to describe the specific characteristics of High value vs. Low value customers. This analysis would be helpful to devise specific marketing strategies targetin towards each class of customers. A detailed analysis based on RFM classification of customers has been presented in the Tableau Dashboard on the `RFM Analysis` Tab."
   ]
  },
  {
   "cell_type": "markdown",
   "id": "8610116b",
   "metadata": {},
   "source": [
    "\n",
    "\n",
    "\n",
    "\n",
    "\n",
    "# Section 4: K-Means Clustering"
   ]
  },
  {
   "cell_type": "markdown",
   "id": "b8efdf37",
   "metadata": {},
   "source": [
    "In this section we apply a K-Means clustering to divide the customer base into clusters based on similar purchase behavior and demographic characteristics. We then go forward and analyse these clusters in terms of profitability and monetary value for the company."
   ]
  },
  {
   "cell_type": "markdown",
   "id": "5e7e412b",
   "metadata": {},
   "source": [
    "#### Preprocessing:\n",
    "\n",
    "\n",
    "A Lot of preprocessing needs to be done, before we apply a K-Means clustering to the dataset.\n",
    "\n",
    "\n",
    "First, we need to merge our RFM Scores to our final datset using pd.merge based on customer ID.\n",
    "\n",
    "\n",
    "Next, we need to convert our month variable into month name to get the names of each month, which can then be one hot encoded.\n",
    "\n",
    "\n",
    "We then identify the relevant categorical variables and apply a one hot encoder to convert them into binary values.\n",
    "\n",
    "\n",
    "\n",
    "We need to combine/merge these categorical variable dataset to our continuous variable dataset to create a combined dataframe ready for clustering analysis.\n",
    "\n",
    "\n",
    "Finally, we apply a K-Means clustering algorithm to this pre processed dataset."
   ]
  },
  {
   "cell_type": "markdown",
   "id": "642b031e",
   "metadata": {},
   "source": [
    "#### All the steps indicated above have been executed in the cells below."
   ]
  },
  {
   "cell_type": "code",
   "execution_count": 205,
   "id": "cc3b028c",
   "metadata": {},
   "outputs": [],
   "source": [
    "from sklearn.preprocessing import StandardScaler"
   ]
  },
  {
   "cell_type": "code",
   "execution_count": 206,
   "id": "0b70117b",
   "metadata": {},
   "outputs": [],
   "source": [
    "\n",
    "# Merge the RFM scores to our original dataset and create the final dataset.\n",
    "\n",
    "final_dataset = pd.merge(RFMScores,df,on='customer_id')\n"
   ]
  },
  {
   "cell_type": "code",
   "execution_count": 207,
   "id": "de1c838e",
   "metadata": {},
   "outputs": [
    {
     "data": {
      "text/plain": [
       "array(['Bronze', 'Silver', 'Normal', 'Golden'], dtype=object)"
      ]
     },
     "execution_count": 207,
     "metadata": {},
     "output_type": "execute_result"
    }
   ],
   "source": [
    "# Convert month variable in the dataset into Month Name by using the calender.month_abbr function.\n",
    "\n",
    "\n",
    "import calendar\n",
    "final_dataset['Monthname'] = final_dataset['the_month'].apply(lambda x: calendar.month_abbr[x])\n",
    "\n",
    "\n",
    "\n",
    "# Examining the member card variable in the dataset.\n",
    "final_dataset['member_card'].unique()"
   ]
  },
  {
   "cell_type": "markdown",
   "id": "c065999d",
   "metadata": {},
   "source": [
    "We now create a subset dataframe by separating out the relevant categorical variables which need to be one hot encoded."
   ]
  },
  {
   "cell_type": "code",
   "execution_count": 208,
   "id": "b5c0f6a7",
   "metadata": {},
   "outputs": [],
   "source": [
    "clustering_categorical = final_dataset[['state_province','country','yearly_income','gender','education','city','product_name',\n",
    "                                        'store_city','member_card','occupation','houseowner','brand_name',\n",
    "                                        'category','family','store_type','store_name','Monthname','the_day'\n",
    "                                       ]]"
   ]
  },
  {
   "cell_type": "markdown",
   "id": "012d26d4",
   "metadata": {},
   "source": [
    "We can use ML pipelines to transform all the above listed categorical variables into binary values by using the One Hot Encoder from sklearn."
   ]
  },
  {
   "cell_type": "code",
   "execution_count": 209,
   "id": "2b7452cd",
   "metadata": {},
   "outputs": [
    {
     "data": {
      "text/plain": [
       "ColumnTransformer(transformers=[('transform', OneHotEncoder(),\n",
       "                                 ['state_province', 'country', 'yearly_income',\n",
       "                                  'gender', 'education', 'city', 'product_name',\n",
       "                                  'store_city', 'member_card', 'occupation',\n",
       "                                  'houseowner', 'brand_name', 'category',\n",
       "                                  'family', 'store_type', 'store_name',\n",
       "                                  'Monthname', 'the_day'])])"
      ]
     },
     "execution_count": 209,
     "metadata": {},
     "output_type": "execute_result"
    }
   ],
   "source": [
    "from sklearn.preprocessing import OneHotEncoder\n",
    "from sklearn.compose import ColumnTransformer\n",
    "\n",
    "# Create the column transformations list + columns to which to apply\n",
    "col_transforms = [('transform', OneHotEncoder(), ['state_province','country','yearly_income','gender','education','city','product_name',\n",
    "                                        'store_city','member_card','occupation','houseowner','brand_name',\n",
    "                                        'category','family','store_type','store_name','Monthname','the_day'])]\n",
    "\n",
    "# Create the column transformer\n",
    "col_trans = ColumnTransformer(col_transforms)\n",
    "\n",
    "# Fit\n",
    "col_trans.fit(clustering_categorical)"
   ]
  },
  {
   "cell_type": "code",
   "execution_count": 210,
   "id": "692a047a",
   "metadata": {},
   "outputs": [
    {
     "data": {
      "text/html": [
       "<div>\n",
       "<style scoped>\n",
       "    .dataframe tbody tr th:only-of-type {\n",
       "        vertical-align: middle;\n",
       "    }\n",
       "\n",
       "    .dataframe tbody tr th {\n",
       "        vertical-align: top;\n",
       "    }\n",
       "\n",
       "    .dataframe thead th {\n",
       "        text-align: right;\n",
       "    }\n",
       "</style>\n",
       "<table border=\"1\" class=\"dataframe\">\n",
       "  <thead>\n",
       "    <tr style=\"text-align: right;\">\n",
       "      <th></th>\n",
       "      <th>transform__x0_BC</th>\n",
       "      <th>transform__x0_CA</th>\n",
       "      <th>transform__x0_DF</th>\n",
       "      <th>transform__x0_Guerrero</th>\n",
       "      <th>transform__x0_Jalisco</th>\n",
       "      <th>transform__x0_Mexico</th>\n",
       "      <th>transform__x0_OR</th>\n",
       "      <th>transform__x0_Sinaloa</th>\n",
       "      <th>transform__x0_Veracruz</th>\n",
       "      <th>transform__x0_WA</th>\n",
       "      <th>...</th>\n",
       "      <th>transform__x16_Nov</th>\n",
       "      <th>transform__x16_Oct</th>\n",
       "      <th>transform__x16_Sep</th>\n",
       "      <th>transform__x17_Friday</th>\n",
       "      <th>transform__x17_Monday</th>\n",
       "      <th>transform__x17_Saturday</th>\n",
       "      <th>transform__x17_Sunday</th>\n",
       "      <th>transform__x17_Thursday</th>\n",
       "      <th>transform__x17_Tuesday</th>\n",
       "      <th>transform__x17_Wednesday</th>\n",
       "    </tr>\n",
       "  </thead>\n",
       "  <tbody>\n",
       "    <tr>\n",
       "      <th>0</th>\n",
       "      <td>0.0</td>\n",
       "      <td>0.0</td>\n",
       "      <td>0.0</td>\n",
       "      <td>0.0</td>\n",
       "      <td>0.0</td>\n",
       "      <td>0.0</td>\n",
       "      <td>0.0</td>\n",
       "      <td>0.0</td>\n",
       "      <td>0.0</td>\n",
       "      <td>1.0</td>\n",
       "      <td>...</td>\n",
       "      <td>0.0</td>\n",
       "      <td>0.0</td>\n",
       "      <td>0.0</td>\n",
       "      <td>0.0</td>\n",
       "      <td>0.0</td>\n",
       "      <td>0.0</td>\n",
       "      <td>1.0</td>\n",
       "      <td>0.0</td>\n",
       "      <td>0.0</td>\n",
       "      <td>0.0</td>\n",
       "    </tr>\n",
       "    <tr>\n",
       "      <th>1</th>\n",
       "      <td>0.0</td>\n",
       "      <td>0.0</td>\n",
       "      <td>0.0</td>\n",
       "      <td>0.0</td>\n",
       "      <td>0.0</td>\n",
       "      <td>0.0</td>\n",
       "      <td>0.0</td>\n",
       "      <td>0.0</td>\n",
       "      <td>0.0</td>\n",
       "      <td>1.0</td>\n",
       "      <td>...</td>\n",
       "      <td>0.0</td>\n",
       "      <td>0.0</td>\n",
       "      <td>0.0</td>\n",
       "      <td>0.0</td>\n",
       "      <td>0.0</td>\n",
       "      <td>0.0</td>\n",
       "      <td>1.0</td>\n",
       "      <td>0.0</td>\n",
       "      <td>0.0</td>\n",
       "      <td>0.0</td>\n",
       "    </tr>\n",
       "    <tr>\n",
       "      <th>2</th>\n",
       "      <td>0.0</td>\n",
       "      <td>0.0</td>\n",
       "      <td>0.0</td>\n",
       "      <td>0.0</td>\n",
       "      <td>0.0</td>\n",
       "      <td>0.0</td>\n",
       "      <td>0.0</td>\n",
       "      <td>0.0</td>\n",
       "      <td>0.0</td>\n",
       "      <td>1.0</td>\n",
       "      <td>...</td>\n",
       "      <td>0.0</td>\n",
       "      <td>0.0</td>\n",
       "      <td>0.0</td>\n",
       "      <td>0.0</td>\n",
       "      <td>0.0</td>\n",
       "      <td>0.0</td>\n",
       "      <td>1.0</td>\n",
       "      <td>0.0</td>\n",
       "      <td>0.0</td>\n",
       "      <td>0.0</td>\n",
       "    </tr>\n",
       "    <tr>\n",
       "      <th>3</th>\n",
       "      <td>0.0</td>\n",
       "      <td>0.0</td>\n",
       "      <td>0.0</td>\n",
       "      <td>0.0</td>\n",
       "      <td>0.0</td>\n",
       "      <td>0.0</td>\n",
       "      <td>0.0</td>\n",
       "      <td>0.0</td>\n",
       "      <td>0.0</td>\n",
       "      <td>1.0</td>\n",
       "      <td>...</td>\n",
       "      <td>0.0</td>\n",
       "      <td>0.0</td>\n",
       "      <td>0.0</td>\n",
       "      <td>0.0</td>\n",
       "      <td>0.0</td>\n",
       "      <td>0.0</td>\n",
       "      <td>1.0</td>\n",
       "      <td>0.0</td>\n",
       "      <td>0.0</td>\n",
       "      <td>0.0</td>\n",
       "    </tr>\n",
       "    <tr>\n",
       "      <th>4</th>\n",
       "      <td>0.0</td>\n",
       "      <td>0.0</td>\n",
       "      <td>0.0</td>\n",
       "      <td>0.0</td>\n",
       "      <td>0.0</td>\n",
       "      <td>0.0</td>\n",
       "      <td>0.0</td>\n",
       "      <td>0.0</td>\n",
       "      <td>0.0</td>\n",
       "      <td>1.0</td>\n",
       "      <td>...</td>\n",
       "      <td>0.0</td>\n",
       "      <td>0.0</td>\n",
       "      <td>0.0</td>\n",
       "      <td>0.0</td>\n",
       "      <td>0.0</td>\n",
       "      <td>0.0</td>\n",
       "      <td>1.0</td>\n",
       "      <td>0.0</td>\n",
       "      <td>0.0</td>\n",
       "      <td>0.0</td>\n",
       "    </tr>\n",
       "  </tbody>\n",
       "</table>\n",
       "<p>5 rows × 1937 columns</p>\n",
       "</div>"
      ],
      "text/plain": [
       "   transform__x0_BC  transform__x0_CA  transform__x0_DF  \\\n",
       "0               0.0               0.0               0.0   \n",
       "1               0.0               0.0               0.0   \n",
       "2               0.0               0.0               0.0   \n",
       "3               0.0               0.0               0.0   \n",
       "4               0.0               0.0               0.0   \n",
       "\n",
       "   transform__x0_Guerrero  transform__x0_Jalisco  transform__x0_Mexico  \\\n",
       "0                     0.0                    0.0                   0.0   \n",
       "1                     0.0                    0.0                   0.0   \n",
       "2                     0.0                    0.0                   0.0   \n",
       "3                     0.0                    0.0                   0.0   \n",
       "4                     0.0                    0.0                   0.0   \n",
       "\n",
       "   transform__x0_OR  transform__x0_Sinaloa  transform__x0_Veracruz  \\\n",
       "0               0.0                    0.0                     0.0   \n",
       "1               0.0                    0.0                     0.0   \n",
       "2               0.0                    0.0                     0.0   \n",
       "3               0.0                    0.0                     0.0   \n",
       "4               0.0                    0.0                     0.0   \n",
       "\n",
       "   transform__x0_WA  ...  transform__x16_Nov  transform__x16_Oct  \\\n",
       "0               1.0  ...                 0.0                 0.0   \n",
       "1               1.0  ...                 0.0                 0.0   \n",
       "2               1.0  ...                 0.0                 0.0   \n",
       "3               1.0  ...                 0.0                 0.0   \n",
       "4               1.0  ...                 0.0                 0.0   \n",
       "\n",
       "   transform__x16_Sep  transform__x17_Friday  transform__x17_Monday  \\\n",
       "0                 0.0                    0.0                    0.0   \n",
       "1                 0.0                    0.0                    0.0   \n",
       "2                 0.0                    0.0                    0.0   \n",
       "3                 0.0                    0.0                    0.0   \n",
       "4                 0.0                    0.0                    0.0   \n",
       "\n",
       "   transform__x17_Saturday  transform__x17_Sunday  transform__x17_Thursday  \\\n",
       "0                      0.0                    1.0                      0.0   \n",
       "1                      0.0                    1.0                      0.0   \n",
       "2                      0.0                    1.0                      0.0   \n",
       "3                      0.0                    1.0                      0.0   \n",
       "4                      0.0                    1.0                      0.0   \n",
       "\n",
       "   transform__x17_Tuesday  transform__x17_Wednesday  \n",
       "0                     0.0                       0.0  \n",
       "1                     0.0                       0.0  \n",
       "2                     0.0                       0.0  \n",
       "3                     0.0                       0.0  \n",
       "4                     0.0                       0.0  \n",
       "\n",
       "[5 rows x 1937 columns]"
      ]
     },
     "execution_count": 210,
     "metadata": {},
     "output_type": "execute_result"
    }
   ],
   "source": [
    "# Apply the transformations\n",
    "transformed = col_trans.transform(clustering_categorical) \n",
    "\n",
    "# Check\n",
    "transformed\n",
    "# Put in a DataFrame\n",
    "transformed_df = pd.DataFrame(data=transformed.todense(), columns=col_trans.get_feature_names())\n",
    "transformed_df.head()"
   ]
  },
  {
   "cell_type": "code",
   "execution_count": 211,
   "id": "913fb00b",
   "metadata": {},
   "outputs": [],
   "source": [
    "# This variable got skipped in the column transformer, so I encoded this variable separately.\n",
    "# ideally, this variable should have been included in the column transformer, but I wanted to save the effort \n",
    "# of running the entire cell again and save time.\n",
    "\n",
    "final_dataset['houseowner'] =  np.where(final_dataset['houseowner'] == 'Y', 1, 0)"
   ]
  },
  {
   "cell_type": "markdown",
   "id": "ccf3cee0",
   "metadata": {},
   "source": [
    "Now I create another subset dataframe called `continuous` which includes all the relevant continuous variables for my clustering dataset. Please note that variables like `coffee_bar`, `florist`, etc have already been assigned binary values in my original dataset, so they dont need to be one hot encoded. Hence I have included them in the continuous variable dataset."
   ]
  },
  {
   "cell_type": "code",
   "execution_count": 212,
   "id": "90b4c413",
   "metadata": {},
   "outputs": [],
   "source": [
    "continuous = final_dataset[['unit_sales','total_children','num_cars_owned','houseowner','Recency','Frequency','Monetary',\n",
    "                                'unit_sales','recyclable_package','low_fat','units_per_case','cases_per_pallet',\n",
    "                                 'shelf_width', 'shelf_height', 'shelf_depth','store_sqft','grocery_sqft',\n",
    "                                 'frozen_sqft','meat_sqft','coffee_bar','video_store','salad_bar',\n",
    "                                 'prepared_food','florist']]"
   ]
  },
  {
   "cell_type": "code",
   "execution_count": 213,
   "id": "8832e672",
   "metadata": {},
   "outputs": [
    {
     "data": {
      "text/plain": [
       "(269720, 24)"
      ]
     },
     "execution_count": 213,
     "metadata": {},
     "output_type": "execute_result"
    }
   ],
   "source": [
    "continuous.shape"
   ]
  },
  {
   "cell_type": "markdown",
   "id": "4912da60",
   "metadata": {},
   "source": [
    "I now create my final dataset for the purpose of clustering and name it `clustering_final_dataset` by concatenating the transformed categorical and the continuous variable datasets as explained above."
   ]
  },
  {
   "cell_type": "code",
   "execution_count": 214,
   "id": "beda02ad",
   "metadata": {},
   "outputs": [],
   "source": [
    "clustering_final_dataset = pd.concat([continuous, transformed_df], axis=1)"
   ]
  },
  {
   "cell_type": "markdown",
   "id": "42e63897",
   "metadata": {},
   "source": [
    "#### Next, we need to scale our variables to prepare them for clustering."
   ]
  },
  {
   "cell_type": "code",
   "execution_count": 215,
   "id": "fc5fafa0",
   "metadata": {},
   "outputs": [],
   "source": [
    "from sklearn.preprocessing import StandardScaler\n",
    "\n",
    "# No need for train-test split as we are doing unsupervised learning! (there is only X)\n",
    "\n",
    "# Instantiate\n",
    "ss = StandardScaler()\n",
    "\n",
    "# Fit and transform\n",
    "X_scaled = ss.fit_transform(clustering_final_dataset)\n",
    "\n",
    "# Put back in a dataframe\n",
    "temp = pd.DataFrame(X_scaled, columns=clustering_final_dataset.columns)"
   ]
  },
  {
   "cell_type": "markdown",
   "id": "6096fbd5",
   "metadata": {},
   "source": [
    "### We now apply a kmeans clustering algorithm to our dataset. Ideally we need to determine the optimal number of clusters by looking at inertia and silhouette score. I tried doing that, but the code went running for indefinite time in loops till my kernel died. Also the inertia plot did not give me the exact number of clusters which could be relevant for my analysis. So to keep it less complicated, I predefined the number of clusters to 50 which is feasible given my system configuration and available memory."
   ]
  },
  {
   "cell_type": "code",
   "execution_count": null,
   "id": "897e9079",
   "metadata": {},
   "outputs": [],
   "source": [
    "from sklearn.cluster import KMeans\n",
    "# Instantiate\n",
    "kmm = KMeans(n_clusters=50)\n",
    "\n",
    "# Fit\n",
    "kmm.fit(temp)\n",
    "\n",
    "# Get labels\n",
    "km_cluster_labels = kmm.predict(temp)"
   ]
  },
  {
   "cell_type": "code",
   "execution_count": null,
   "id": "9c0b2a9d",
   "metadata": {},
   "outputs": [],
   "source": [
    "# Validating the number of rows returned.\n",
    "\n",
    "len(km_cluster_labels)"
   ]
  },
  {
   "cell_type": "code",
   "execution_count": null,
   "id": "37ecb75d",
   "metadata": {},
   "outputs": [],
   "source": [
    "# Adding the cluster variable to my dataset.\n",
    "\n",
    "final_dataset['cluster']= km_cluster_labels"
   ]
  },
  {
   "cell_type": "code",
   "execution_count": null,
   "id": "09691070",
   "metadata": {},
   "outputs": [],
   "source": [
    "clustering_final_dataset['cluster'] = km_cluster_labels"
   ]
  },
  {
   "cell_type": "code",
   "execution_count": null,
   "id": "c0687539",
   "metadata": {},
   "outputs": [],
   "source": [
    "# Checking /examining the specific characteristics of my clusters by applying a groupby function based on the clusters.\n",
    "\n",
    "final_dataset.groupby('cluster').agg(\n",
    "    {\n",
    "       \n",
    "        'RFM_Loyalty_Level': lambda x: x.value_counts().index[0],\n",
    "        'gender': lambda x: x.value_counts().index[0],\n",
    "        'city': lambda x: x.value_counts().index[0],\n",
    "        'state_province': lambda x: x.value_counts().index[0],\n",
    "        'yearly_income': lambda x: x.value_counts().index[0],\n",
    "        'education': lambda x: x.value_counts().index[0],\n",
    "        'occupation': lambda x: x.value_counts().index[0],\n",
    "        'houseowner': lambda x: x.value_counts().index[0]\n",
    "        \n",
    "       \n",
    "        \n",
    "    }\n",
    ").reset_index()"
   ]
  },
  {
   "cell_type": "markdown",
   "id": "67e3e042",
   "metadata": {},
   "source": [
    "From the above table we can observe that the major differences in our clusters emerges from the geographical location of the customers. Probably a higher number of clusters would have shown more differences."
   ]
  },
  {
   "cell_type": "markdown",
   "id": "b8db0546",
   "metadata": {},
   "source": [
    "# I now write this dataset which has the cluster information to my storage bucket, so that I can access this data from Tableau through Google BigQuery. I will use this dataset to provide useful insights from the K-Means clustering output."
   ]
  },
  {
   "cell_type": "code",
   "execution_count": null,
   "id": "156327d0",
   "metadata": {},
   "outputs": [],
   "source": [
    "import os\n",
    "\n",
    "BILLING_PROJECT_ID = 'foodmart-321917'\n",
    "WORKSPACE = 'capstone'\n",
    "bucket = 'foodmart_dataset'\n",
    "from google.cloud import storage\n",
    "import pandas as pd\n",
    "\n",
    "bucket_name = bucket # Calling the bucket name where data needs to be stored.\n",
    "\n",
    "storage_client = storage.Client()\n",
    "bucket = storage_client.get_bucket(bucket_name)\n",
    "\n",
    "for b in bucket.list_blobs(): # viewing all the existing files in my storage bucket.\n",
    "    print(b)"
   ]
  },
  {
   "cell_type": "code",
   "execution_count": null,
   "id": "b48a5437",
   "metadata": {},
   "outputs": [],
   "source": [
    "# Writing the output file back to my storage bucket.\n",
    "\n",
    "bucket.blob('output_with_clusters.csv').upload_from_string(final_dataset.to_csv(), 'text/csv')"
   ]
  },
  {
   "cell_type": "markdown",
   "id": "b54a9bdd",
   "metadata": {},
   "source": [
    "# Section 5: RFM Modeling"
   ]
  },
  {
   "cell_type": "markdown",
   "id": "91191612",
   "metadata": {},
   "source": [
    "## First we need to divide our profit margins into three classes - High profit margins, Medium and Low profit margins."
   ]
  },
  {
   "cell_type": "code",
   "execution_count": null,
   "id": "84b58fa2",
   "metadata": {},
   "outputs": [],
   "source": [
    "# Setting a cut off score to divide our profit margins to three classes.\n",
    "# The cut off score is based on 33th percentile and 67th percentile. \n",
    "\n",
    "final_dataset['profit_margin'] = (final_dataset['store_sales']/final_dataset['store_cost'])/final_dataset['store_sales']\n",
    "high = np.percentile(np.array(final_dataset['profit_margin']),67)\n",
    "high"
   ]
  },
  {
   "cell_type": "code",
   "execution_count": null,
   "id": "e88d31a5",
   "metadata": {},
   "outputs": [],
   "source": [
    "low = np.percentile(np.array(final_dataset['profit_margin']),33)\n",
    "low"
   ]
  },
  {
   "cell_type": "code",
   "execution_count": null,
   "id": "dde3c569",
   "metadata": {},
   "outputs": [],
   "source": [
    "# We use the above calculated percentile value of profit margins to set our profit_level variable.\n",
    "\n",
    "final_dataset['profit_level'] =[0 if x < low\n",
    "                                else (1 if x < high\n",
    "                                     else 2)for x in final_dataset.profit_margin]\n",
    "                                         "
   ]
  },
  {
   "cell_type": "code",
   "execution_count": null,
   "id": "02873123",
   "metadata": {},
   "outputs": [],
   "source": [
    "final_dataset['profit_level'].unique()"
   ]
  },
  {
   "cell_type": "markdown",
   "id": "301628bf",
   "metadata": {},
   "source": [
    "# Predicting customer loyalty"
   ]
  },
  {
   "cell_type": "markdown",
   "id": "2f8f528b",
   "metadata": {},
   "source": [
    "### We now use Random Forest Classifier to predict customer loyalty i.e. predict our Platinum, Gold, siver and Bronze customers."
   ]
  },
  {
   "cell_type": "code",
   "execution_count": null,
   "id": "e76cf48d",
   "metadata": {},
   "outputs": [],
   "source": [
    "from sklearn.ensemble import RandomForestClassifier\n",
    "from sklearn.model_selection import GridSearchCV\n",
    "from sklearn.pipeline import Pipeline\n",
    "from sklearn.model_selection import cross_val_score\n",
    "from sklearn.preprocessing import StandardScaler\n",
    "from sklearn.model_selection import train_test_split"
   ]
  },
  {
   "cell_type": "markdown",
   "id": "5fe45333",
   "metadata": {},
   "source": [
    "We first set our X and Y variables for the model. We remove the `Recency`, `Frequency` and `Monetary` columns from our earlier X dataframe to create the new set of X variables for predicting RFM_loyalty."
   ]
  },
  {
   "cell_type": "code",
   "execution_count": null,
   "id": "54f09ab7",
   "metadata": {},
   "outputs": [],
   "source": [
    "final_dataset['RFM_Loyalty_Level'].unique() # This is our Y variable, but first we have to do one hot encoding to use it."
   ]
  },
  {
   "cell_type": "markdown",
   "id": "2ca29504",
   "metadata": {},
   "source": [
    "### We now convert our `RFM_Loyalty_Level` into numeric values since this is our Y variable now."
   ]
  },
  {
   "cell_type": "code",
   "execution_count": null,
   "id": "617776a6",
   "metadata": {},
   "outputs": [],
   "source": [
    "final_dataset['RFM_category_no'] =[0 if x == 'Bronze'\n",
    "                                else (1 if x == 'Silver'\n",
    "                                      else (2 if x == 'Gold'\n",
    "                                     else 3))for x in final_dataset.RFM_Loyalty_Level]"
   ]
  },
  {
   "cell_type": "code",
   "execution_count": null,
   "id": "f4a66172",
   "metadata": {},
   "outputs": [],
   "source": [
    "final_dataset['RFM_category_no'].unique() # checking the values of the new variable created."
   ]
  },
  {
   "cell_type": "code",
   "execution_count": null,
   "id": "449971c0",
   "metadata": {},
   "outputs": [],
   "source": [
    "final_dataset.columns"
   ]
  },
  {
   "cell_type": "code",
   "execution_count": null,
   "id": "2621dbe4",
   "metadata": {},
   "outputs": [],
   "source": [
    "y = final_dataset['RFM_category_no'] # Finalizing our Y-variable for prediction."
   ]
  },
  {
   "cell_type": "code",
   "execution_count": null,
   "id": "89d77462",
   "metadata": {},
   "outputs": [],
   "source": [
    "X = final_dataset[['city','state_province','yearly_income','gender','num_children_at_home','education','member_card',\n",
    "             'occupation','houseowner','num_cars_owned','brand_name','product_name','recyclable_package', \n",
    "             'low_fat', 'units_per_case', 'cases_per_pallet','category','store_type','store_name',\n",
    "             'store_sqft','grocery_sqft', 'frozen_sqft', 'meat_sqft', 'coffee_bar', 'video_store','salad_bar', \n",
    "             'prepared_food', 'florist','the_day','Monthname']]\n",
    "             "
   ]
  },
  {
   "cell_type": "markdown",
   "id": "66146c39",
   "metadata": {},
   "source": [
    "# Our X dataframe above has a lot of categorical variables, so we need to first transform them into binary variables.So we apply a column transformer to apply One Hot Encoding to these categorical variables."
   ]
  },
  {
   "cell_type": "code",
   "execution_count": null,
   "id": "f4f644c3",
   "metadata": {},
   "outputs": [],
   "source": [
    "# Identify the categorical explanatory variables.\n",
    "\n",
    "categorical =X[['city','state_province','yearly_income','gender','education','member_card',\n",
    "             'occupation','brand_name','category','store_type','store_name','the_day',\n",
    "                'Monthname']]"
   ]
  },
  {
   "cell_type": "code",
   "execution_count": null,
   "id": "bf537ced",
   "metadata": {},
   "outputs": [],
   "source": [
    "#  identify the continous explanatory variables.\n",
    "\n",
    "continuous = X[['num_children_at_home','houseowner','num_cars_owned','recyclable_package', \n",
    "             'low_fat', 'units_per_case', 'cases_per_pallet','store_sqft','grocery_sqft', \n",
    "            'frozen_sqft', 'meat_sqft', 'coffee_bar', 'video_store','salad_bar', \n",
    "             'prepared_food', 'florist']]"
   ]
  },
  {
   "cell_type": "code",
   "execution_count": null,
   "id": "8fc6cf64",
   "metadata": {},
   "outputs": [],
   "source": [
    "from sklearn.preprocessing import OneHotEncoder\n",
    "from sklearn.compose import ColumnTransformer\n",
    "\n",
    "# Create the column transformations list + columns to which to apply\n",
    "col_transforms = [('transform', OneHotEncoder(), ['city','state_province','yearly_income','gender','education','member_card',\n",
    "             'occupation','brand_name','category','store_type','store_name','the_day',\n",
    "                'Monthname'])]\n",
    "\n",
    "# Create the column transformer\n",
    "col_trans = ColumnTransformer(col_transforms)\n",
    "\n",
    "# Fit\n",
    "col_trans.fit(categorical)"
   ]
  },
  {
   "cell_type": "code",
   "execution_count": null,
   "id": "0380d61a",
   "metadata": {},
   "outputs": [],
   "source": [
    "# Apply the transformations\n",
    "transformed2 = col_trans.transform(categorical) \n",
    "\n",
    "# Check\n",
    "transformed2\n",
    "# Put in a DataFrame\n",
    "transformed_df2 = pd.DataFrame(data=transformed2.todense(), columns=col_trans.get_feature_names())\n",
    "transformed_df2.head()"
   ]
  },
  {
   "cell_type": "code",
   "execution_count": null,
   "id": "660f8dfa",
   "metadata": {},
   "outputs": [],
   "source": [
    "continuous.shape"
   ]
  },
  {
   "cell_type": "code",
   "execution_count": null,
   "id": "56bf55bc",
   "metadata": {},
   "outputs": [],
   "source": [
    "transformed_df2.shape"
   ]
  },
  {
   "cell_type": "code",
   "execution_count": null,
   "id": "17297de2",
   "metadata": {},
   "outputs": [],
   "source": [
    "# Now that we have transformed our categorical  variables, we merge it with out continuous variable dataset.\n",
    "# this new dataset is our explanatory variable set for predicting profit levels.\n",
    "# We call this new variable set X1.\n",
    "\n",
    "X1 = pd.concat([continuous, transformed_df2], axis =1)"
   ]
  },
  {
   "cell_type": "code",
   "execution_count": null,
   "id": "6919c8d8",
   "metadata": {},
   "outputs": [],
   "source": [
    "X1.columns"
   ]
  },
  {
   "cell_type": "code",
   "execution_count": null,
   "id": "ca30bf9a",
   "metadata": {},
   "outputs": [],
   "source": []
  },
  {
   "cell_type": "markdown",
   "id": "6112e3fb",
   "metadata": {},
   "source": [
    "#### Now that we have our X and Y variables, we will split our data into train and test."
   ]
  },
  {
   "cell_type": "code",
   "execution_count": null,
   "id": "888bbe9d",
   "metadata": {},
   "outputs": [],
   "source": [
    "X_train1, X_test1, y_train1, y_test1 = train_test_split(X1,\n",
    "                                                    y,\n",
    "                                                    test_size=0.3,\n",
    "                                                    random_state=42,\n",
    "                                                    stratify=y)"
   ]
  },
  {
   "cell_type": "markdown",
   "id": "d7de6450",
   "metadata": {},
   "source": [
    "### Now we run our feature selection technique to remove variables which donot add value to the model. For this purpose, we use the Recurrent Feature Elimination technique with cross validation from the sklearn package.The Recursive Feature Elimination technique applies a recursive approach to selectively prune the features which donot add value to the model(in terms of coefficients). The `CV` parameter performs Recursive Feature Elimination in a cross validation loop to return the most optimal number of features."
   ]
  },
  {
   "cell_type": "code",
   "execution_count": null,
   "id": "339b29da",
   "metadata": {},
   "outputs": [],
   "source": [
    "# Instantiate the RFECV procedure.\n",
    "\n",
    "from sklearn.feature_selection import RFECV\n",
    "\n",
    "\n",
    "# Init, fit\n",
    "rfecv = RFECV(\n",
    "    estimator=RandomForestClassifier(max_depth=5, n_estimators=20),\n",
    "    min_features_to_select=10,\n",
    "    step=50,\n",
    "    n_jobs=-1,\n",
    "    cv=5,\n",
    ")"
   ]
  },
  {
   "cell_type": "markdown",
   "id": "f764e485",
   "metadata": {},
   "source": [
    "### We need to scale our variables before running the RFECV algorithm, so we use the standard scaler."
   ]
  },
  {
   "cell_type": "code",
   "execution_count": null,
   "id": "b6006a24",
   "metadata": {},
   "outputs": [],
   "source": [
    "\n",
    "scaler = StandardScaler()\n",
    "scaler.fit(X_train1)\n",
    "X_scaled_train1 = scaler.transform(X_train1)\n",
    "X_scaled_test1 = scaler.transform(X_test1)"
   ]
  },
  {
   "cell_type": "code",
   "execution_count": null,
   "id": "8e5793df",
   "metadata": {},
   "outputs": [],
   "source": [
    "# Fitting the RFECV algorithm to identify the most significant features for our Random Forest Classifier.\n",
    "\n",
    "rfecv.fit(X_scaled_train1,y_train1)"
   ]
  },
  {
   "cell_type": "markdown",
   "id": "8f3d622d",
   "metadata": {},
   "source": [
    "We now get the list of variables which our feature selection algorithm has returned."
   ]
  },
  {
   "cell_type": "code",
   "execution_count": null,
   "id": "5b54a7f2",
   "metadata": {},
   "outputs": [],
   "source": [
    "X_new1 = X_train1.columns[rfecv.support_]\n",
    "X_new1"
   ]
  },
  {
   "cell_type": "markdown",
   "id": "4b59b077",
   "metadata": {},
   "source": [
    "Using the loc function, we extract the columns indicated by the RFECV algorithm from our initial X_train1 and X_test1 datsaets to create our new training and testing explanatory variables, ready to be applied to Random Forest classifier."
   ]
  },
  {
   "cell_type": "code",
   "execution_count": null,
   "id": "215e9256",
   "metadata": {},
   "outputs": [],
   "source": [
    "X_train_new1 = X_train1.loc[:, rfecv.support_]\n",
    "X_test_new1 = X_test1.loc[:, rfecv.support_]"
   ]
  },
  {
   "cell_type": "markdown",
   "id": "5b37985c",
   "metadata": {},
   "source": [
    "#### We now apply a grid search technique to identify the best hyperparameters from RandomForest Classifier which would return the highest accuracy for Cross validation and test dataset without overfitting the model."
   ]
  },
  {
   "cell_type": "code",
   "execution_count": null,
   "id": "55f40fc3",
   "metadata": {},
   "outputs": [],
   "source": [
    "## create placeholders\n",
    "\n",
    "estimators = [('scaler',StandardScaler()),('model',RandomForestClassifier())]\n",
    "\n",
    "# pipeline itself\n",
    "\n",
    "mypipe = Pipeline(estimators)\n",
    "\n",
    "# parameter grid\n",
    "\n",
    "param_grid = [{'model':[RandomForestClassifier()],\n",
    "             'model__max_depth':[1,2,3,4,5],\n",
    "            'model__n_estimators' : [10,20,30,35,40,41,42,43,44,45,50]}]\n",
    "             \n",
    "\n",
    "# grid itself\n",
    "\n",
    "grid = GridSearchCV(mypipe,param_grid,cv = 5)\n",
    "\n",
    "# fit grid\n",
    "\n",
    "fitted_grid1 = grid.fit(X_train_new1,y_train1)"
   ]
  },
  {
   "cell_type": "code",
   "execution_count": null,
   "id": "09ef2cc1",
   "metadata": {},
   "outputs": [],
   "source": [
    "fitted_grid1.best_params_"
   ]
  },
  {
   "cell_type": "code",
   "execution_count": null,
   "id": "305601e7",
   "metadata": {},
   "outputs": [],
   "source": [
    "# Checking the cross validation score\n",
    "\n",
    "fitted_grid1.best_score_"
   ]
  },
  {
   "cell_type": "code",
   "execution_count": null,
   "id": "2fca509c",
   "metadata": {},
   "outputs": [],
   "source": [
    "# Checking the test score\n",
    "\n",
    "fitted_grid1.score(X_test_new1, y_test1)"
   ]
  },
  {
   "cell_type": "markdown",
   "id": "037aec91",
   "metadata": {},
   "source": [
    "###  Conclusion: Both the cross validation and the test dataset have returned an accuracy of approximately 78% which indicates there is no overfitting."
   ]
  },
  {
   "cell_type": "markdown",
   "id": "749c6b36",
   "metadata": {},
   "source": [
    "#### We now use this model to predict our RFM Loyalty levels."
   ]
  },
  {
   "cell_type": "code",
   "execution_count": null,
   "id": "ede1fbf9",
   "metadata": {},
   "outputs": [],
   "source": [
    "# Predicting the loyal levels for training and testing dataset.\n",
    "predicted_train = fitted_grid1.predict(X_train_new1)\n",
    "predicted_test = fitted_grid1.predict(X_test_new1)\n",
    "\n",
    "# What we got above is a numpy array. We need to convert this array into a dataframe to merge it with out final dataset.\n",
    "predicted_train = pd.DataFrame(predicted_train, columns = ['Predicted_RFM'])\n",
    "\n",
    "\n",
    "predicted_test = pd.DataFrame(predicted_test, columns = ['Predicted_RFM'])\n"
   ]
  },
  {
   "cell_type": "markdown",
   "id": "70382d8a",
   "metadata": {},
   "source": [
    "We now merge both the above predicted datasets into one dataframe which contains all the predicted values, stacked one above the other.\n",
    "\n"
   ]
  },
  {
   "cell_type": "code",
   "execution_count": null,
   "id": "b074e59b",
   "metadata": {},
   "outputs": [],
   "source": [
    "# concatenating both the predicted datasets, row wise.\n",
    "Predicted_loyalty = pd.concat([predicted_train, predicted_test], axis=0)"
   ]
  },
  {
   "cell_type": "code",
   "execution_count": null,
   "id": "4eab2f2b",
   "metadata": {},
   "outputs": [],
   "source": [
    "# We finally merge the predicted_loyalty dataset to our main final_dataset, which can be loaded onto Tableau through \n",
    "#google cloud storage.\n",
    "\n",
    "final_dataset = pd.concat([final_dataset.reset_index(), Predicted_loyalty.reset_index()], axis=1)"
   ]
  },
  {
   "cell_type": "markdown",
   "id": "09b41977",
   "metadata": {},
   "source": [
    "# Applying XGBoost Classifier to predict customer loyalty"
   ]
  },
  {
   "cell_type": "code",
   "execution_count": null,
   "id": "58ddbfef",
   "metadata": {},
   "outputs": [],
   "source": [
    "from xgboost import XGBClassifier"
   ]
  },
  {
   "cell_type": "code",
   "execution_count": null,
   "id": "c241bb6d",
   "metadata": {},
   "outputs": [],
   "source": [
    "XGB_model = XGBClassifier()\n",
    "XGB_model.fit(X_train_new1, y_train1)\n",
    "print(f\"XG Boost score: {XGB_model.score(X_test_new1, y_test1)}\")"
   ]
  },
  {
   "cell_type": "markdown",
   "id": "f23870e7",
   "metadata": {},
   "source": [
    "### As we can observe, XGBoost Classifier also returned a test accuracy of 78% which is similar to Random Forest Classifer. However the advantage of XGBoost Classifier is that it is faster and occupies less memory space as compared to Random Forest Classifier."
   ]
  },
  {
   "cell_type": "markdown",
   "id": "887515a0",
   "metadata": {},
   "source": [
    "We now look at the most important features which would help in predicting customer loyalty levels i.e. Platinum, Gold, Silver and Bronze."
   ]
  },
  {
   "cell_type": "code",
   "execution_count": null,
   "id": "4bac4adf",
   "metadata": {},
   "outputs": [],
   "source": [
    "# Getting feature importances from the XGBoost model\n",
    "\n",
    "print(XGB_model.feature_importances_)"
   ]
  },
  {
   "cell_type": "code",
   "execution_count": null,
   "id": "2e1a46a5",
   "metadata": {},
   "outputs": [],
   "source": [
    "\n",
    "# plot the feature importances.\n",
    "\n",
    "plt.bar(range(len(XGB_model.feature_importances_)), XGB_model.feature_importances_)\n",
    "plt.show()\n"
   ]
  },
  {
   "cell_type": "markdown",
   "id": "ef210407",
   "metadata": {},
   "source": [
    "##### As the bar graph indicates Features 1, 6, 7 and 9 are the highest contributors to the model. If we look at these feature numbers in our training dataset, we can identify the most important features as: Grocery sq. ft, British Columbia, California, Store no. 24. This means that small grocery stores, stores located in BC and California and Store 24 are the highest contributors in the model to predict customer loyalty levels."
   ]
  },
  {
   "cell_type": "markdown",
   "id": "cc7831e9",
   "metadata": {},
   "source": [
    "# Section 6: Modeling Store Profit Margin level"
   ]
  },
  {
   "cell_type": "code",
   "execution_count": null,
   "id": "1f553ee6",
   "metadata": {},
   "outputs": [],
   "source": [
    "# Identifying our Y variable\n",
    "\n",
    "y3 = final_dataset['profit_level']"
   ]
  },
  {
   "cell_type": "code",
   "execution_count": null,
   "id": "4f44b9ea",
   "metadata": {},
   "outputs": [],
   "source": [
    "final_dataset.columns"
   ]
  },
  {
   "cell_type": "code",
   "execution_count": null,
   "id": "c3a270e8",
   "metadata": {},
   "outputs": [],
   "source": [
    "# Identifying the relevant set of explanatory variables from our main dataset.\n",
    "\n",
    "X2 = final_dataset[['brand_name','SKU','SRP','gross_weight','net_weight','recyclable_package',\n",
    "                  'low_fat','units_per_case','cases_per_pallet','shelf_width','shelf_height','shelf_depth',\n",
    "                  'store_type','store_name','store_city','store_state','store_manager','store_sqft','grocery_sqft',\n",
    "                  'frozen_sqft','meat_sqft','coffee_bar','video_store','salad_bar','prepared_food','florist',\n",
    "                  'sales_city','sales_state_province','the_day','Monthname','category']]"
   ]
  },
  {
   "cell_type": "code",
   "execution_count": null,
   "id": "abf6b533",
   "metadata": {},
   "outputs": [],
   "source": [
    "# Separating the categorical variables which need to be one hot encoded from our explanatory variable dataset identified above.\n",
    "\n",
    "categorical = X2[['brand_name','store_type','store_name','store_city','store_state','store_manager',\n",
    "                'sales_city','sales_state_province','the_day','Monthname','category']]"
   ]
  },
  {
   "cell_type": "markdown",
   "id": "1502cf26",
   "metadata": {},
   "source": [
    "We now apply OneHot Encoding to our categorical variables listed in the categorical dataframe created in the above cells."
   ]
  },
  {
   "cell_type": "code",
   "execution_count": null,
   "id": "08994e0c",
   "metadata": {},
   "outputs": [],
   "source": [
    "from sklearn.preprocessing import OneHotEncoder\n",
    "from sklearn.compose import ColumnTransformer\n",
    "\n",
    "# Create the column transformations list + columns to which to apply\n",
    "col_transforms = [('transform', OneHotEncoder(), ['brand_name','store_type','store_name','store_city',\n",
    "                                                  'store_state','store_manager','sales_city','sales_state_province',\n",
    "                                                  'the_day','Monthname','category'])]\n",
    "\n",
    "# Create the column transformer\n",
    "col_trans = ColumnTransformer(col_transforms)\n",
    "\n",
    "# Fit\n",
    "col_trans.fit(categorical)"
   ]
  },
  {
   "cell_type": "code",
   "execution_count": null,
   "id": "286d72d8",
   "metadata": {},
   "outputs": [],
   "source": [
    "# Apply the transformations\n",
    "transformed2 = col_trans.transform(categorical) \n",
    "\n",
    "# Check\n",
    "transformed2\n",
    "# Put in a DataFrame\n",
    "transformed_df2 = pd.DataFrame(data=transformed2.todense(), columns=col_trans.get_feature_names())\n",
    "transformed_df2.head()"
   ]
  },
  {
   "cell_type": "markdown",
   "id": "c55c5bc9",
   "metadata": {},
   "source": [
    "In addition to the categorical variables, we also need to identify the continuous variables required for our model build. We store all our continuous variables in our dataframe `continuous1` as shown below:"
   ]
  },
  {
   "cell_type": "code",
   "execution_count": null,
   "id": "0f281dc5",
   "metadata": {},
   "outputs": [],
   "source": [
    "continuous1 = X2[['SKU','SRP','gross_weight','net_weight','recyclable_package',\n",
    "                  'low_fat','units_per_case','cases_per_pallet','shelf_width','shelf_height','shelf_depth',\n",
    "                  'store_sqft','grocery_sqft',\n",
    "                  'frozen_sqft','meat_sqft','coffee_bar','video_store','salad_bar','prepared_food','florist']]"
   ]
  },
  {
   "cell_type": "code",
   "execution_count": null,
   "id": "6ec599c5",
   "metadata": {},
   "outputs": [],
   "source": [
    "# We create our final set of explanatory variable dataset by concatenating the categorical (one Hot encoded) and continuous variable datasets.\n",
    "\n",
    "X3 = pd.concat([continuous1, transformed_df2], axis =1)"
   ]
  },
  {
   "cell_type": "code",
   "execution_count": null,
   "id": "f2588e06",
   "metadata": {},
   "outputs": [],
   "source": [
    "X3.columns"
   ]
  },
  {
   "cell_type": "code",
   "execution_count": null,
   "id": "81476eaa",
   "metadata": {},
   "outputs": [],
   "source": [
    "# Creating our training and testing datasets.\n",
    "\n",
    "from sklearn.model_selection import train_test_split\n",
    "X_train2, X_test2, y_train2, y_test2 = train_test_split(X3,\n",
    "                                                    y3,\n",
    "                                                    test_size=0.3,\n",
    "                                                    random_state=42,\n",
    "                                                    stratify=y3)"
   ]
  },
  {
   "cell_type": "code",
   "execution_count": null,
   "id": "a4b7cfc5",
   "metadata": {},
   "outputs": [],
   "source": [
    "from sklearn.ensemble import RandomForestClassifier\n",
    "from sklearn.model_selection import GridSearchCV\n",
    "from sklearn.pipeline import Pipeline\n",
    "from sklearn.model_selection import cross_val_score\n",
    "from sklearn.preprocessing import StandardScaler"
   ]
  },
  {
   "cell_type": "markdown",
   "id": "75a49617",
   "metadata": {},
   "source": [
    "As earlier, we will be testing two ML techniques for our purpose: Random Forest Classifier and XGBoost Classifier.\n",
    "\n",
    "\n",
    "We first perform a feature selection procedure using the RFECV algorithm as discussed earlier to identify the most significant variables which add value to the model."
   ]
  },
  {
   "cell_type": "code",
   "execution_count": null,
   "id": "43917642",
   "metadata": {},
   "outputs": [],
   "source": [
    "# Instantiate the RFECV procedure.\n",
    "\n",
    "from sklearn.feature_selection import RFECV\n",
    "\n",
    "\n",
    "# Init, fit\n",
    "rfecv = RFECV(\n",
    "    estimator=RandomForestClassifier(max_depth=5, n_estimators=20),\n",
    "    min_features_to_select=5,\n",
    "    step=50,\n",
    "    n_jobs=-1,\n",
    "    cv=5,\n",
    ")"
   ]
  },
  {
   "cell_type": "code",
   "execution_count": null,
   "id": "64bf0554",
   "metadata": {},
   "outputs": [],
   "source": [
    "# The RFECV algorithm first needs to scale the variables.\n",
    "\n",
    "scaler = StandardScaler()\n",
    "scaler.fit(X_train2)\n",
    "X_scaled_train2 = scaler.transform(X_train2)\n",
    "X_scaled_test2 = scaler.transform(X_test2)"
   ]
  },
  {
   "cell_type": "code",
   "execution_count": null,
   "id": "3507b5e5",
   "metadata": {},
   "outputs": [],
   "source": [
    "# We fit the RFECV model to our training dataset to get the most significant features.\n",
    "\n",
    "rfecv.fit(X_scaled_train2,y_train2)"
   ]
  },
  {
   "cell_type": "code",
   "execution_count": null,
   "id": "a2717c3a",
   "metadata": {},
   "outputs": [],
   "source": [
    "\n",
    "# Getting the new set of explanatory variables after applying feature selection.\n",
    "\n",
    "X_new2 = X_train2.columns[rfecv.support_]\n",
    "X_new2"
   ]
  },
  {
   "cell_type": "code",
   "execution_count": null,
   "id": "b3de4c3e",
   "metadata": {},
   "outputs": [],
   "source": [
    "# extracting the new variables from our original X_train2 dataset, ready to go into the model.\n",
    "\n",
    "X_train_new2 = X_train2.loc[:, rfecv.support_]\n",
    "X_test_new2 = X_test2.loc[:, rfecv.support_]"
   ]
  },
  {
   "cell_type": "code",
   "execution_count": null,
   "id": "17b09ca0",
   "metadata": {},
   "outputs": [],
   "source": [
    "## create placeholders\n",
    "\n",
    "estimators = [('scaler',StandardScaler()),('model',RandomForestClassifier())]\n",
    "\n",
    "# pipeline itself\n",
    "\n",
    "mypipe = Pipeline(estimators)\n",
    "\n",
    "# parameter grid\n",
    "\n",
    "param_grid = [{'model':[RandomForestClassifier()],\n",
    "             'model__max_depth':[1,2,3,4,5],\n",
    "            'model__n_estimators' : [10,20,30,35,40,41,42,43,44,45,50]}]\n",
    "             \n",
    "\n",
    "# grid itself\n",
    "\n",
    "grid = GridSearchCV(mypipe,param_grid,cv = 5)\n",
    "\n",
    "# fit grid\n",
    "\n",
    "fitted_grid2 = grid.fit(X_train_new2,y_train2)"
   ]
  },
  {
   "cell_type": "code",
   "execution_count": null,
   "id": "82f0a7b8",
   "metadata": {},
   "outputs": [],
   "source": [
    "# Identifying the best parameters for the model.\n",
    "\n",
    "fitted_grid2.best_params_"
   ]
  },
  {
   "cell_type": "code",
   "execution_count": null,
   "id": "c11304b5",
   "metadata": {},
   "outputs": [],
   "source": [
    "# The cross validation score from the best model.\n",
    "\n",
    "fitted_grid2.best_score_"
   ]
  },
  {
   "cell_type": "code",
   "execution_count": null,
   "id": "b07c812a",
   "metadata": {},
   "outputs": [],
   "source": [
    "# The test score\n",
    "\n",
    "fitted_grid2.score(X_test_new2, y_test2)"
   ]
  },
  {
   "cell_type": "markdown",
   "id": "cf31cdba",
   "metadata": {},
   "source": [
    "### Conclusion: Both the test score and the cross validation score is 69% indicating no overfitting."
   ]
  },
  {
   "cell_type": "markdown",
   "id": "ea6c70ff",
   "metadata": {},
   "source": [
    "### We now use our model to predict profit levels. For this, we use the predict function to predict the profit margin levels for training and testing data. We then try to merge these predicted values into our main dataset. By doing so, we can compare the actual values with the predicted values and visualize the accuracy of the model through Tableau."
   ]
  },
  {
   "cell_type": "code",
   "execution_count": null,
   "id": "cd9ae11a",
   "metadata": {},
   "outputs": [],
   "source": [
    "# Predicting the profit margin levels for training and testing dataset.\n",
    "predicted_train1 = fitted_grid2.predict(X_train_new2)\n",
    "predicted_test1 = fitted_grid2.predict(X_test_new2)\n",
    "\n",
    "# What we got above is a numpy array. We need to convert this array into a dataframe to merge it with out final dataset.\n",
    "predicted_train1 = pd.DataFrame(predicted_train1, columns = ['Predicted_margin'])\n",
    "\n",
    "\n",
    "predicted_test1 = pd.DataFrame(predicted_test1, columns = ['Predicted_margin'])"
   ]
  },
  {
   "cell_type": "code",
   "execution_count": null,
   "id": "def0e46f",
   "metadata": {},
   "outputs": [],
   "source": [
    "# concatenating both the predicted datasets, row wise.\n",
    "Predicted_margin = pd.concat([predicted_train1, predicted_test1], axis=0)"
   ]
  },
  {
   "cell_type": "code",
   "execution_count": null,
   "id": "3f72ce4b",
   "metadata": {},
   "outputs": [],
   "source": [
    "# We finally merge the predicted_margin dataset to our main final_dataset, which can be loaded onto Tableau through \n",
    "#google cloud storage.\n",
    "\n",
    "final_dataset = pd.concat([final_dataset.reset_index(), Predicted_margin.reset_index()], axis=1)"
   ]
  },
  {
   "cell_type": "markdown",
   "id": "d15ff3ba",
   "metadata": {},
   "source": [
    "## Our final dataset containing all the model outputs is now ready to be written back to Google cloud storage, which connects to Tableau via Google Big Query."
   ]
  },
  {
   "cell_type": "code",
   "execution_count": null,
   "id": "897d2bbd",
   "metadata": {},
   "outputs": [],
   "source": [
    "\n",
    "# Writing the output file back to cloud storage.\n",
    "\n",
    "bucket.blob('output_with_clusters.csv').upload_from_string(final_dataset.to_csv(), 'text/csv')"
   ]
  },
  {
   "cell_type": "markdown",
   "id": "0455b58e",
   "metadata": {},
   "source": [
    "### Calculating feature importances from the Random Forest Classifier"
   ]
  },
  {
   "cell_type": "markdown",
   "id": "7c09dbdc",
   "metadata": {},
   "source": [
    "We first fit the final model obtained from the grid search.\n",
    "\n",
    "We can also calculate the time taken to estimate feature importances.\n",
    "\n",
    "Both these steps are detailed out below:"
   ]
  },
  {
   "cell_type": "code",
   "execution_count": null,
   "id": "6fb25b34",
   "metadata": {},
   "outputs": [],
   "source": [
    "# Fitting the final model with the best parameters obtained from the grid search.\n",
    "\n",
    "forest = RandomForestClassifier(max_depth=5, n_estimators=45)\n",
    "forest.fit(X_train_new2, y_train2)"
   ]
  },
  {
   "cell_type": "code",
   "execution_count": null,
   "id": "2ecb5579",
   "metadata": {},
   "outputs": [],
   "source": [
    "# Calculate feature importances and time to compute feature importances using the time function.\n",
    "\n",
    "import time\n",
    "import numpy as np\n",
    "\n",
    "start_time = time.time()\n",
    "importances = forest.feature_importances_\n",
    "std = np.std([\n",
    "    tree.feature_importances_ for tree in forest.estimators_], axis=0)\n",
    "elapsed_time = time.time() - start_time\n",
    "\n",
    "print(f\"Elapsed time to compute the importances: \"\n",
    "      f\"{elapsed_time:.3f} seconds\")"
   ]
  },
  {
   "cell_type": "code",
   "execution_count": null,
   "id": "21603ca8",
   "metadata": {},
   "outputs": [],
   "source": [
    "# Putting our feature importances into a dataframe for plotting.\n",
    "\n",
    "feature_names = [f'feature {i}' for i in range(X_train_new2.shape[1])]\n",
    "forest_importances = pd.Series(importances, index=feature_names)\n",
    "\n",
    "\n",
    "# Plotting the feature importances.\n",
    "\n",
    "fig, ax = plt.subplots()\n",
    "forest_importances.plot.bar(yerr=std, ax=ax)\n",
    "ax.set_title(\"Feature importances using MDI\")\n",
    "ax.set_ylabel(\"Mean decrease in impurity\")\n",
    "fig.tight_layout()"
   ]
  },
  {
   "cell_type": "markdown",
   "id": "99f4275f",
   "metadata": {},
   "source": [
    "From the bar graph, we may conclude that small grocery stores and SRP (shelf ready packaging) are the highest contributing features to our model."
   ]
  },
  {
   "cell_type": "code",
   "execution_count": null,
   "id": "3e6f32fe",
   "metadata": {},
   "outputs": [],
   "source": [
    "X_train_new2.columns"
   ]
  },
  {
   "cell_type": "code",
   "execution_count": null,
   "id": "182990ad",
   "metadata": {},
   "outputs": [],
   "source": [
    "print(forest.feature_importances_)"
   ]
  },
  {
   "cell_type": "code",
   "execution_count": null,
   "id": "c7eed8b8",
   "metadata": {},
   "outputs": [],
   "source": [
    "%pip install xgboost"
   ]
  },
  {
   "cell_type": "markdown",
   "id": "34cfb614",
   "metadata": {},
   "source": [
    "# Applying XGBoost Classifier to predict profit margins."
   ]
  },
  {
   "cell_type": "code",
   "execution_count": null,
   "id": "5d43e73d",
   "metadata": {},
   "outputs": [],
   "source": [
    "from xgboost import XGBClassifier"
   ]
  },
  {
   "cell_type": "code",
   "execution_count": null,
   "id": "458ef6b0",
   "metadata": {},
   "outputs": [],
   "source": [
    "# Instantiate the model\n",
    "\n",
    "XGB_model = XGBClassifier()\n",
    "\n",
    "# Fit the model\n",
    "\n",
    "XGB_model.fit(X_train_new2, y_train2)\n",
    "print(f\"XG Boost score: {XGB_model.score(X_test_new2, y_test2)}\")"
   ]
  },
  {
   "cell_type": "markdown",
   "id": "2cbf56d8",
   "metadata": {},
   "source": [
    "We may notice here that again, both XGBoost and Random Forest Classifiers generated similar accuracies at around 69%."
   ]
  },
  {
   "cell_type": "code",
   "execution_count": null,
   "id": "cb6cc702",
   "metadata": {},
   "outputs": [],
   "source": [
    "# Getting the feature importances from the XGBoost model\n",
    "\n",
    "print(XGB_model.feature_importances_)"
   ]
  },
  {
   "cell_type": "code",
   "execution_count": null,
   "id": "216765ca",
   "metadata": {},
   "outputs": [],
   "source": [
    "\n",
    "# ploting the feature importances.\n",
    "\n",
    "plt.bar(range(len(XGB_model.feature_importances_)), XGB_model.feature_importances_)\n",
    "plt.show()\n"
   ]
  },
  {
   "cell_type": "markdown",
   "id": "b6913da6",
   "metadata": {},
   "source": [
    "As we can observe, again SRP and small grocery stores emerged as the highest contributing features with maximum feature importances."
   ]
  },
  {
   "cell_type": "markdown",
   "id": "c81a392e",
   "metadata": {},
   "source": [
    "# Next steps:"
   ]
  },
  {
   "cell_type": "markdown",
   "id": "aad9b878",
   "metadata": {},
   "source": [
    "This analysis mainly included exploratory data analysis and modeling customer loyalty and profit margins. Furthermore, we can also explore different specific products and build recommender systems based on the product names. Also, we can deploy the model and host it as a web application. "
   ]
  },
  {
   "cell_type": "code",
   "execution_count": null,
   "id": "766682af",
   "metadata": {},
   "outputs": [],
   "source": []
  },
  {
   "cell_type": "code",
   "execution_count": null,
   "id": "37f8996c",
   "metadata": {},
   "outputs": [],
   "source": []
  }
 ],
 "metadata": {
  "environment": {
   "name": "common-cpu.m78",
   "type": "gcloud",
   "uri": "gcr.io/deeplearning-platform-release/base-cpu:m78"
  },
  "kernelspec": {
   "display_name": "Python 3",
   "language": "python",
   "name": "python3"
  },
  "language_info": {
   "codemirror_mode": {
    "name": "ipython",
    "version": 3
   },
   "file_extension": ".py",
   "mimetype": "text/x-python",
   "name": "python",
   "nbconvert_exporter": "python",
   "pygments_lexer": "ipython3",
   "version": "3.7.4"
  }
 },
 "nbformat": 4,
 "nbformat_minor": 5
}
